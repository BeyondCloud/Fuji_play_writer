{
 "cells": [
  {
   "cell_type": "markdown",
   "metadata": {},
   "source": [
    "## 要先下載Chrome webdriver 解壓縮後有個.exe\n",
    "http://chromedriver.chromium.org/downloads"
   ]
  },
  {
   "cell_type": "code",
   "execution_count": 1,
   "metadata": {
    "scrolled": true
   },
   "outputs": [],
   "source": [
    "from selenium import webdriver\n",
    "from selenium.webdriver.common.keys import Keys\n",
    "import time"
   ]
  },
  {
   "cell_type": "code",
   "execution_count": 2,
   "metadata": {},
   "outputs": [],
   "source": [
    "### 讀取並複製文本內容 ###\n",
    "def read_copy(fileName):\n",
    "    \n",
    "    with open(fileName, 'r', encoding = 'utf8') as f:\n",
    "        words = f.read()\n",
    "        return words"
   ]
  },
  {
   "cell_type": "code",
   "execution_count": 5,
   "metadata": {},
   "outputs": [],
   "source": [
    "def auto_Translate(fileName):   #這裡預設輸入為中文 輸出為英文\n",
    "    \n",
    "    text = read_copy(fileName) \n",
    "    print(text)\n",
    "    driver = webdriver.Chrome(r'.\\chromedriver.exe') \n",
    "    driver.get('https://translate.google.com.tw/#view=home&op=translate&sl=zh-CN&tl=en') #用selenium開google translate\n",
    "    driver.find_element_by_id('source').send_keys(text) #將讀取的中文輸入google translate的翻譯處\n",
    "    \n",
    "    time.sleep(10) #為了取得翻譯文字，保險起見等10秒，可自行修改\n",
    "    output = driver.find_elements_by_xpath('//html/body/div[2]/div[1]/div[2]/div[1]/div[1]/div[2]/div[3]') #抓取翻譯文字的定位\n",
    "    print(output[0].text) #用text方法抓取並打印翻譯後得到的英文\n",
    "    driver.close()\n",
    "    print('\\n\\n')"
   ]
  },
  {
   "cell_type": "code",
   "execution_count": 6,
   "metadata": {
    "scrolled": true
   },
   "outputs": [
    {
     "name": "stdout",
     "output_type": "stream",
     "text": [
      "你知道自己屬什麼嗎？有屬小白兔的，有屬大老虎的………有屬貓的嗎？沒有，怎麼有屬老鼠的，沒有屬貓的呢？這裏有個故事。\n",
      "很久很久以前，有一天，人們說：“我們要選十二種動物作為人的生肖，一年一種動物。”天下的動物有多少呀？怎麼個選法呢？這樣吧，定好一個日子，這一天，動物們來報名，就選先到的十二種動物為十二生肖。\n",
      "貓和老鼠是鄰居，又是好朋友，它們都想去報名。貓說：“咱們得一早起來去報名，可是我愛睡懶覺，怎麼辦呢？”老鼠說：“別著急，別著急，你儘管睡你的大覺，我一醒來，就去叫你，咱們一塊兒去。”貓聽了很高興，說：“你真是我的好朋友，謝謝你了。”\n",
      "到了報名那天早晨，老鼠早就醒來了，可是它光想到自己的事，把好朋友貓的事給忘了。就自己去報名了。\n",
      "結果，老鼠被選上了。貓呢？貓因為睡懶覺，起床太遲了，等它趕到時，十二種動物已被選定了。\n",
      "貓沒有被選上，就生老鼠的氣，怪老鼠沒有叫它，從這以後，貓見了老鼠就要吃它，老鼠就只好拼命地逃。現在還是這樣。\n",
      "你知道哪十二生肖嗎？\n",
      "它們是：老鼠、牛、老虎、兔子、龍、蛇、馬、羊、猴、雞、狗、豬。\n",
      "怎麼讓小小的老鼠排在第一名呢？這裏也有個故事。\n",
      "報名那天，老鼠起得很早，牛也起得很早。它們在路上碰到了。牛個頭大，邁的步子也大，老鼠個頭小，邁得步子也小，老鼠跑得上氣不接下氣，才剛剛跟上牛。老鼠心裏想：路還遠著呢，我快跑不動了，這可怎麼辦？它腦子一動，想出個主意來，就對牛說：“牛哥哥，牛哥哥，我來給你唱個歌。”牛說：“好啊，你唱吧－－－咦，你怎麼不唱呀？”老鼠說：“我在唱哩，你怎麼沒聽見？哦，我的嗓們太細了，你沒聽見。這樣吧，讓我騎在你的脖子上，唱起歌來，你就聽見了。”牛說：“行羅，行羅！”老鼠就沿著牛腿子一直爬上了牛脖子，讓牛馱著它走，可舒服了。它搖頭晃腦的，真的唱起歌來：\n",
      "牛哥哥，牛哥哥，過小河，爬山坡，駕，駕，快點兒羅！\n",
      "牛一聽，樂了，撒開四條腿使勁跑，跑到報名的地方一看，誰也沒來，高興得昂昂地叫起來：“我是第一名，我是第一名！”牛還沒吧話說完，老鼠從牛脖子上一蹦，蹦到地上，吱溜一躥，躥到牛前面去了。結果是老鼠得了第一名，牛得了第二名，所以，在十二生肖裏，小小的老鼠給排在最前面了。\n",
      "Do you know what you are? There are small white rabbits, there are big tigers......... Is there a cat? No, how are there mice, and no cats? There is a story here.\n",
      "A long time ago, one day, people said: \"We have to choose twelve kinds of animals as human zodiac, one animal a year.\" How many animals are there in the world? How is the selection method? So, set a day, on this day, when the animals come to sign up, the twelve animals that are selected first are the zodiac.\n",
      "Cats and mice are neighbors and good friends, and they all want to sign up. The cat said: \"Let's get up early to sign up, but I love to sleep late, what should I do?\" The mouse said: \"Don't worry, don't worry, even if you sleep, you wake up, I will call you, let's go. Go together.\" The cat was very happy and said, \"You are my good friend, thank you.\"\n",
      "On the morning of the registration, the mouse woke up, but it thought of its own things and forgot the good friend cat. I signed up for myself.\n",
      "As a result, the mouse was selected. What about cats? The cat was too late to get up because of sleep, and when it arrived, twelve animals were selected.\n",
      "When the cat is not selected, it is angry with the mouse. The strange mouse does not call it. From then on, the cat will eat it when he sees the mouse, and the mouse has to escape. It is still the case now.\n",
      "Do you know which zodiac signs?\n",
      "They are: mice, cows, tigers, rabbits, dragons, snakes, horses, sheep, monkeys, chickens, dogs, pigs.\n",
      "How do you make a small mouse in the first place? There is also a story here.\n",
      "On the day of registration, the mice got up very early and the cows got up very early. They met on the road. The cow is big, the steps are big, the mouse is small, and the steps are small. The mouse runs out of breath and just keeps up with the cow. The mouse thought: The road is still far away, I can't run, what can I do? It moved his mind and came up with an idea. He said to the cow: \"Cow brother, cow brother, I will sing a song for you.\" The cow said: \"Okay, you sing it---hey, why don't you sing? \"The mouse said: \"I am singing, why didn't you hear it? Oh, my sisters are too thin, you didn't hear. So let me ride on your neck, sing a song, you will I heard it.\" The cow said: \"Like, let's go!\" The mouse climbed up the cow's neck along the legs of the cow, letting the cows walk with it, and it was comfortable. It shook its head and really sang a song:\n",
      "Cow brother, cow brother, cross the small river, climb the hillside, drive, drive, hurry up!\n",
      "When the cow heard it, he was happy. He spread four legs and ran hard. He ran to the place where he signed up and saw that no one came. He was very happy and shouted: \"I am the first, I am the first!\" When I finished, the mouse slid from the neck of the cow and slammed into the ground, slid a sneak peek and went to the front of the cow. The result was that the mouse won the first place and the cow got the second place, so in the zodiac, the little mouse was placed in the front.\n",
      " \n",
      "\n",
      "\n",
      "\n"
     ]
    }
   ],
   "source": [
    "### 測試範例 ###\n",
    "fileName = r'.\\raw\\十二生肖的故事.txt'\n",
    "auto_Translate(fileName)"
   ]
  }
 ],
 "metadata": {
  "kernelspec": {
   "display_name": "Python 3",
   "language": "python",
   "name": "python3"
  },
  "language_info": {
   "codemirror_mode": {
    "name": "ipython",
    "version": 3
   },
   "file_extension": ".py",
   "mimetype": "text/x-python",
   "name": "python",
   "nbconvert_exporter": "python",
   "pygments_lexer": "ipython3",
   "version": "3.6.5"
  }
 },
 "nbformat": 4,
 "nbformat_minor": 2
}
