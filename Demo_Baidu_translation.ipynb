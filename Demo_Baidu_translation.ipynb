{
 "cells": [
  {
   "cell_type": "markdown",
   "metadata": {},
   "source": [
    "# Demo English to Chinese translation"
   ]
  },
  {
   "cell_type": "code",
   "execution_count": 8,
   "metadata": {},
   "outputs": [
    {
     "name": "stdout",
     "output_type": "stream",
     "text": [
      "请输入要翻译的内容,如果退出输入q\n",
      "car\n",
      "汽车\n",
      "请输入要翻译的内容,如果退出输入q\n",
      "this dog is huge\n",
      "这条狗很大\n",
      "请输入要翻译的内容,如果退出输入q\n",
      "q\n"
     ]
    }
   ],
   "source": [
    "# coding: utf8\n",
    "'''\n",
    "    @Author: LCY\n",
    "    @Contact: lchuanyong@126.com\n",
    "    @blog: http://http://blog.csdn.net/lcyong_\n",
    "    @Date: 2018-01-15\n",
    "    @Time: 19:19\n",
    "    说明： appid和secretKey为百度翻译文档中自带的，需要切换为自己的\n",
    "           python2和python3部分库名称更改对应如下：\n",
    "           httplib      ---->    http.client\n",
    "           md5          ---->    hashlib.md5\n",
    "           urllib.quote ---->    urllib.parse.quote\n",
    "    官方链接：\n",
    "           http://api.fanyi.baidu.com/api/trans/product/index\n",
    "           \n",
    "'''\n",
    " \n",
    "import http.client\n",
    "import hashlib\n",
    "import json\n",
    "import urllib\n",
    "import random\n",
    " \n",
    "def baidu_translate(content):\n",
    "    appid = '20151113000005349'\n",
    "    secretKey = 'osubCEzlGjzvw8qdQc41'\n",
    "    httpClient = None\n",
    "    myurl = '/api/trans/vip/translate'\n",
    "    q = content\n",
    "    fromLang = 'en' # 源语言\n",
    "    toLang = 'zh'   # 翻译后的语言\n",
    "    salt = random.randint(32768, 65536)\n",
    "    sign = appid + q + str(salt) + secretKey\n",
    "    sign = hashlib.md5(sign.encode()).hexdigest()\n",
    "    myurl = myurl + '?appid=' + appid + '&q=' + urllib.parse.quote(\n",
    "        q) + '&from=' + fromLang + '&to=' + toLang + '&salt=' + str(\n",
    "        salt) + '&sign=' + sign\n",
    " \n",
    "    try:\n",
    "        httpClient = http.client.HTTPConnection('api.fanyi.baidu.com')\n",
    "        httpClient.request('GET', myurl)\n",
    "        # response是HTTPResponse对象\n",
    "        response = httpClient.getresponse()\n",
    "        jsonResponse = response.read().decode(\"utf-8\")# 获得返回的结果，结果为json格式\n",
    "        js = json.loads(jsonResponse)  # 将json格式的结果转换字典结构\n",
    "        dst = str(js[\"trans_result\"][0][\"dst\"])  # 取得翻译后的文本结果\n",
    "        print(dst) # 打印结果\n",
    "    except Exception as e:\n",
    "        print(e)\n",
    "    finally:\n",
    "        if httpClient:\n",
    "            httpClient.close()\n",
    " \n",
    "if __name__ == '__main__':\n",
    "    while True:\n",
    "        print(\"请输入要翻译的内容,如果退出输入q\")\n",
    "        content = input()\n",
    "        if (content == 'q'):\n",
    "            break\n",
    "        baidu_translate(content)\n"
   ]
  }
 ],
 "metadata": {
  "kernelspec": {
   "display_name": "Python 3",
   "language": "python",
   "name": "python3"
  },
  "language_info": {
   "codemirror_mode": {
    "name": "ipython",
    "version": 3
   },
   "file_extension": ".py",
   "mimetype": "text/x-python",
   "name": "python",
   "nbconvert_exporter": "python",
   "pygments_lexer": "ipython3",
   "version": "3.6.7"
  }
 },
 "nbformat": 4,
 "nbformat_minor": 2
}
