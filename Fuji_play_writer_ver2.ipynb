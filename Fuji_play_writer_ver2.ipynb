{
 "cells": [
  {
   "cell_type": "code",
   "execution_count": 1,
   "metadata": {},
   "outputs": [
    {
     "name": "stdout",
     "output_type": "stream",
     "text": [
      "Little brother\n",
      "Big brother\n"
     ]
    }
   ],
   "source": [
    "from googletrans import Translator\n",
    "translator = Translator()\n",
    "print(translator.translate('弟弟', dest='en').text)\n",
    "print(translator.translate('大哥', dest='en').text)"
   ]
  },
  {
   "cell_type": "code",
   "execution_count": 4,
   "metadata": {},
   "outputs": [
    {
     "name": "stdout",
     "output_type": "stream",
     "text": [
      "['Hello there', 'who am I']\n",
      "Hello there\n"
     ]
    }
   ],
   "source": [
    "import json\n",
    "import random\n",
    "import time\n",
    "from langconv import *\n",
    "\n",
    "def dic2str(N_dic,token = '/'):\n",
    "    lst = []\n",
    "    for key, value in N_dic.items():\n",
    "        lst.append(key)\n",
    "    return token.join(lst)\n",
    "def dic2lst(N_dic):\n",
    "    lst = []\n",
    "    for key, value in N_dic.items():\n",
    "        lst.append(key)\n",
    "    return lst\n",
    "def zh2en(content,token = ' / '):\n",
    "    \n",
    "    if isinstance(content, str):\n",
    "        return  translator.translate(content,dest='en').text\n",
    "    elif isinstance(content, dict):\n",
    "        txt = dic2lst(content)\n",
    "        lst_out = []\n",
    "        for t in txt:\n",
    "            lst_out.append(translator.translate(t, dest='en').text)  \n",
    "        return lst_out\n",
    "    else:\n",
    "        print('data type not support!')\n",
    "        \n",
    "def en2zh(content):\n",
    "    return translator.translate('cow', dest='zh-tw').text\n",
    "\n",
    "def toSimplified(s):\n",
    "    return Converter('zh-hans').convert(s)\n",
    "def toTraditional(s):\n",
    "    return Converter('zh-hant').convert(s)\n",
    "print(zh2en({'你好':1,'我是誰':2}))\n",
    "print(zh2en('你好'))\n",
    "\n"
   ]
  },
  {
   "cell_type": "code",
   "execution_count": 5,
   "metadata": {},
   "outputs": [
    {
     "name": "stdout",
     "output_type": "stream",
     "text": [
      "27 dialogues found\n"
     ]
    }
   ],
   "source": [
    "def rm_dialogues(s,token1 = '“',token2 = '”'):\n",
    "    lst1 = [pos for pos, char in enumerate(s) if char == token1]\n",
    "    lst2 = [pos for pos, char in enumerate(s) if char == token2]\n",
    "    print(str(len(lst1))+' dialogues found')\n",
    "    if(len(lst1) != len(lst1)):\n",
    "        print('dialogue error: not equal “ ” Apostrophe count')\n",
    "        return\n",
    "    for i in range(len(lst1)):\n",
    "        s = s[0: lst1[i]:] + '#'*(lst2[i]-lst1[i]+1)+ s[lst2[i] + 1::]\n",
    "    return s,lst1,lst2\n",
    "\n",
    "f = open('./raw/三隻小豬.txt','r', encoding = 'utf8')\n",
    "txt = f.read()\n",
    "txt_nd,lst1,lst2 = rm_dialogues(txt,\"「\",\"」\")\n"
   ]
  },
  {
   "cell_type": "code",
   "execution_count": 8,
   "metadata": {},
   "outputs": [
    {
     "data": {
      "text/plain": [
       "['从前',\n",
       " '有一只胖胖的猪妈妈',\n",
       " '她生了三只小猪',\n",
       " '最大的小猪',\n",
       " '猪大哥很贪睡',\n",
       " '很懒惰',\n",
       " '一天到晚都在打瞌睡',\n",
       " '第二个小猪',\n",
       " '猪二哥很爱吃',\n",
       " '他也很懒惰',\n",
       " '幸好最小的小猪',\n",
       " '猪小弟是个勤劳的好孩子',\n",
       " '常常努力的工作',\n",
       " '有一天',\n",
       " '猪妈妈告诉他们说',\n",
       " '猪大哥噘起嘴',\n",
       " '懒洋洋走出家门',\n",
       " '猪大哥想一想说',\n",
       " '稻草屋很快的盖好了',\n",
       " '猪大哥好得意',\n",
       " '他马上去找两个弟弟来',\n",
       " '很骄傲的对他们说',\n",
       " '',\n",
       " '猪二哥看见说',\n",
       " '可是猪小弟并不以为然',\n",
       " '他说',\n",
       " '猪二哥想了想',\n",
       " '说',\n",
       " '猪二哥决定以后',\n",
       " '他很认真的工作',\n",
       " '一会儿敲敲钉子',\n",
       " '一会儿锯木头',\n",
       " '很快的',\n",
       " '一栋木屋盖好了',\n",
       " '猪二哥赶忙把哥哥和弟弟都请来',\n",
       " '骄傲的说',\n",
       " '猪小弟说',\n",
       " '',\n",
       " '猪二哥骂小弟说',\n",
       " '猪小弟不慌不忙说',\n",
       " '猪小弟不理会哥哥的嘲笑',\n",
       " '他搬好了砖块',\n",
       " '又搬水泥',\n",
       " '他把水泥和好了',\n",
       " '开始堆砌砖块',\n",
       " '一块一块将抹上水泥的砖头堆砌起来',\n",
       " '猪小弟心理想',\n",
       " '你们不要笑我',\n",
       " '等我盖好了',\n",
       " '你们就知道了',\n",
       " '我的房子比什么都坚固',\n",
       " '野狼来了我也不怕呢',\n",
       " '猪小弟继续加油工作',\n",
       " '他赶呀赶',\n",
       " '赶到天黑',\n",
       " '月亮挂在天上了',\n",
       " '他的红砖房子才好不容易盖好了',\n",
       " '猪小弟正想休息',\n",
       " '却听到了大野狼的吼叫声',\n",
       " '猪小弟猛吸一口气说',\n",
       " '这时两个猪哥哥也听到了野狼的吼叫声',\n",
       " '怕得发抖',\n",
       " '他们怕野狼来',\n",
       " '所以整夜都不敢安心睡觉',\n",
       " '隔天',\n",
       " '猪妈妈要三只小猪到田里工作',\n",
       " '没想到走到半路的时候',\n",
       " '他们被一只可怕的大野狼发现了',\n",
       " '野狼一直跟踪他们',\n",
       " '野狼决定先吃猪大哥',\n",
       " '猪大哥刚回到家',\n",
       " '就听到大野狼的声音',\n",
       " '野狼叫门叫得好凶',\n",
       " '猪大哥吓得脸都白了',\n",
       " '他赶紧拿一把大锁',\n",
       " '把门紧紧锁了起来',\n",
       " '可是野狼哈哈大笑说',\n",
       " '他说完话',\n",
       " '用力一吹',\n",
       " '果然把稻草屋吹倒了',\n",
       " '猪大哥吓得直跑到猪二哥家',\n",
       " '',\n",
       " '大哥慌慌张张跑进猪二哥的木屋子',\n",
       " '赶忙把大门闩上',\n",
       " '怕野狼闯进来',\n",
       " '可是野狼吼叫说',\n",
       " '两只小猪怕得缩着身子挤在一起',\n",
       " '头上直冒冷汗',\n",
       " '因为野狼怕把门打坏了',\n",
       " '门板发出吱吱吱的断裂声',\n",
       " '两只小猪眼看野狼就要冲进来了',\n",
       " '他们乱闯乱撞',\n",
       " '结果撞倒了木屋子',\n",
       " '他们直奔到猪小弟的家',\n",
       " '野狼也一直在身后追赶他们',\n",
       " '两只小猪逃呀逃呀',\n",
       " '逃到小弟弟的家中',\n",
       " '猪大哥上气不接下气的说',\n",
       " '猪小弟却一点都不担心',\n",
       " '他说',\n",
       " '很快的',\n",
       " '野狼就追来了',\n",
       " '他生气的说',\n",
       " '野狼说着说的开始撞墙了',\n",
       " '他使出全身力气',\n",
       " '向砖墙猛撞过去',\n",
       " '',\n",
       " '一声',\n",
       " '砖墙没被撞倒',\n",
       " '野狼的骨头却断了',\n",
       " '野狼哭哭啼啼的回家去了',\n",
       " '',\n",
       " '三只小猪很高兴的叫起来',\n",
       " '从此',\n",
       " '他们三个兄弟住在一起',\n",
       " '每天一起吃饭睡觉',\n",
       " '也一起工作',\n",
       " '日子过得很快乐',\n",
       " '而且野狼一直没再出现呢',\n",
       " '']"
      ]
     },
     "execution_count": 8,
     "metadata": {},
     "output_type": "execute_result"
    }
   ],
   "source": [
    "import re\n",
    "import zhon\n",
    "from zhon.hanzi import punctuation\n",
    "punc = \"\"\"！？｡。＂＃#＄％＆＇（）＊＋－／：；，＜＝\"＞＠［＼］＾＿｀｛｜｝～｟｠｢｣､、〃》「」『』【】 〔〕〖〗〘〙〚〛〜〝〞〟〰–—''‛“”„‟…‧﹏\"\"\"\n",
    "re_punc = \"[{}]+\".format(punc)\n",
    "clean_txt = re.sub(re_punc, \"#\", txt_nd)\n",
    "clean_txt = re.sub(\"\\n\", \"\", clean_txt)\n",
    "clean_txt = toSimplified(clean_txt)\n",
    "# print(clean_txt)\n",
    "clean_txt.split('#')"
   ]
  },
  {
   "cell_type": "code",
   "execution_count": 7,
   "metadata": {},
   "outputs": [
    {
     "name": "stdout",
     "output_type": "stream",
     "text": [
      "「你們都長大了，應該自己蓋房子，自己住，自己種田，自己生活。我要你們自己照顧自己。」\n",
      "「咿咿．．．．．好討厭哦！」\n",
      "「蓋一棟稻草屋吧，那最簡單了。」\n",
      "「我的房子蓋好了，很漂亮吧～，你們也快一點蓋吧！」\n",
      "「哇，果然很漂亮，大哥，你真了不起啊！」\n",
      "「哥，你不擔心稻草屋會被風吹倒嗎？」\n",
      "「稻草屋會被風吹倒，那我就用木頭來蓋好了，木屋較重，不怕風吹。」\n",
      "「咚咚咚，咚咚咚！」\n",
      "「你們看，這麼漂亮的房子！而且釘得很牢固，不會被風吹倒，我真的好棒呀！」\n",
      "「木屋雖然不會被風吹倒，可是用力打，木頭會被打斷，房子就垮了。」\n",
      "「討厭！」\n",
      "「你以為你最聰明？看你搬磚頭搬一整天了，房子還沒蓋出來。笨蛋～～」\n",
      "「我蓋房子雖然比你們慢，但是我要蓋的房子不怕風吹，也不怕敲打，紅磚房子最牢固了。」\n",
      "「幸好房子蓋好了，我不怕大野狼。」\n",
      "「砰砰砰！小豬朋友，快給我開門！」\n",
      "「你這個大笨蛋，這種稻草屋，我吹一口氣就倒了。」\n",
      "「救命呀！」\n",
      "「木頭屋子一樣擋不住我，我一定要把你吃掉！」\n",
      "「砰～～」\n",
      "「弟弟，弟弟，小．．．．弟弟，野狼在我們．．身．．．後．．．」\n",
      "「快把門鎖緊，不然我們會被吃掉的。」\n",
      "「怕什麼？這麼堅固的磚屋，野狼進不來的。」\n",
      "「死小豬，看我把你們的房子撞倒，你們就要被我吃掉了。」\n",
      "「呀！～～」\n",
      "「啪啦！」\n",
      "「哎唷，痛死我了，痛死我了！」\n",
      "「萬歲！」\n"
     ]
    }
   ],
   "source": [
    "for i in range(len(lst1)):\n",
    "    print(txt[lst1[i]:lst2[i]+1])"
   ]
  },
  {
   "cell_type": "code",
   "execution_count": 1,
   "metadata": {},
   "outputs": [
    {
     "ename": "ModuleNotFoundError",
     "evalue": "No module named 'stanfordnlp'",
     "output_type": "error",
     "traceback": [
      "\u001b[1;31m------------------------------------------------------------\u001b[0m",
      "\u001b[1;31mModuleNotFoundError\u001b[0m        Traceback (most recent call last)",
      "\u001b[1;32m<ipython-input-1-5d3e57dcfa26>\u001b[0m in \u001b[0;36m<module>\u001b[1;34m()\u001b[0m\n\u001b[1;32m----> 1\u001b[1;33m \u001b[1;32mimport\u001b[0m \u001b[0mstanfordnlp\u001b[0m\u001b[1;33m\u001b[0m\u001b[0m\n\u001b[0m",
      "\u001b[1;31mModuleNotFoundError\u001b[0m: No module named 'stanfordnlp'"
     ]
    }
   ],
   "source": [
    "import stanfordnlp"
   ]
  }
 ],
 "metadata": {
  "kernelspec": {
   "display_name": "Python 3",
   "language": "python",
   "name": "python3"
  },
  "language_info": {
   "codemirror_mode": {
    "name": "ipython",
    "version": 3
   },
   "file_extension": ".py",
   "mimetype": "text/x-python",
   "name": "python",
   "nbconvert_exporter": "python",
   "pygments_lexer": "ipython3",
   "version": "3.6.5"
  }
 },
 "nbformat": 4,
 "nbformat_minor": 2
}
