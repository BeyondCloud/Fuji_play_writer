{
 "cells": [
  {
   "cell_type": "code",
   "execution_count": 1,
   "metadata": {},
   "outputs": [],
   "source": [
    "import http.client\n",
    "import hashlib\n",
    "import json\n",
    "import urllib\n",
    "import random\n",
    "import time\n",
    "from langconv import *\n",
    "from googletrans import Translator\n",
    "translator = Translator()\n",
    "\n",
    "def dic2str(N_dic,token = '/'):\n",
    "    lst = []\n",
    "    for key, value in N_dic.items():\n",
    "        lst.append(key)\n",
    "    return token.join(lst)\n",
    "def dic2lst(N_dic):\n",
    "    lst = []\n",
    "    for key, value in N_dic.items():\n",
    "        lst.append(key)\n",
    "    return lst\n",
    "def zh2en(content,token = ' / '):\n",
    "    \n",
    "    if isinstance(content, str):\n",
    "        return translator.translate(content, dest='en').text\n",
    "    elif isinstance(content, dict):\n",
    "        txt = dic2lst(content)\n",
    "        lst_out = []\n",
    "        for t in txt:\n",
    "            lst_out.append(translator.translate(t, dest='en').text)  \n",
    "        return lst_out\n",
    "    else:\n",
    "        print('data type not support!')\n",
    "        \n",
    "def en2zh(content):\n",
    "    return translator.translate('cow', dest='zh-tw').text\n",
    "\n",
    "def toSimplified(s):\n",
    "    return Converter('zh-hans').convert(s)\n",
    "def toTraditional(s):\n",
    "    return Converter('zh-hant').convert(s)\n",
    "\n",
    "# print(t1)\n",
    "# print(t2)"
   ]
  },
  {
   "cell_type": "code",
   "execution_count": 2,
   "metadata": {},
   "outputs": [
    {
     "name": "stdout",
     "output_type": "stream",
     "text": [
      "27 dialogues found\n"
     ]
    }
   ],
   "source": [
    "def rm_dialogues(s,token1 = '“',token2 = '”'):\n",
    "    lst1 = [pos for pos, char in enumerate(s) if char == token1]\n",
    "    lst2 = [pos for pos, char in enumerate(s) if char == token2]\n",
    "    print(str(len(lst1))+' dialogues found')\n",
    "    if(len(lst1) != len(lst1)):\n",
    "        print('dialogue error: not equal “ ” Apostrophe count')\n",
    "        return\n",
    "    for i in range(len(lst1)):\n",
    "        s = s[0: lst1[i]:] + '#'*(lst2[i]-lst1[i]+1)+ s[lst2[i] + 1::]\n",
    "    return s,lst1,lst2\n",
    "\n",
    "f = open('./raw/三隻小豬.txt','r', encoding = 'utf8')\n",
    "txt = f.read()\n",
    "txt_nd,lst1,lst2 = rm_dialogues(txt,\"「\",\"」\")\n"
   ]
  },
  {
   "cell_type": "code",
   "execution_count": 3,
   "metadata": {},
   "outputs": [
    {
     "name": "stdout",
     "output_type": "stream",
     "text": [
      "['從前', '有一隻胖胖的豬媽媽', '她生了三隻小豬', '最大的小豬', '豬大哥很貪睡', '很懶惰', '一天到晚都在打瞌睡', '第二個小豬', '豬二哥很愛吃', '他也很懶惰', '幸好最小的小豬', '豬小弟是個勤勞的好孩子', '常常努力的工作', '有一天', '豬媽媽告訴他們說', '豬大哥噘起嘴', '懶洋洋走出家門', '豬大哥想一想說', '稻草屋很快的蓋好了', '豬大哥好得意', '他馬上去找兩個弟弟來', '很驕傲的對他們說', '', '豬二哥看見說', '可是豬小弟並不以為然', '他說', '豬二哥想了想', '說', '豬二哥決定以後', '他很認真的工作', '一會兒敲敲釘子', '一會兒鋸木頭', '很快的', '一棟木屋蓋好了', '豬二哥趕忙把哥哥和弟弟都請來', '驕傲的說', '豬小弟說', '', '豬二哥罵小弟說', '豬小弟不慌不忙說', '豬小弟不理會哥哥的嘲笑', '他搬好了磚塊', '又搬水泥', '他把水泥和好了', '開始堆砌磚塊', '一塊一塊將抹上水泥的磚頭堆砌起來', '豬小弟心理想', '你們不要笑我', '等我蓋好了', '你們就知道了', '我的房子比什麼都堅固', '野狼來了我也不怕呢', '豬小弟繼續加油工作', '他趕呀趕', '趕到天黑', '月亮掛在天上了', '他的紅磚房子才好不容易蓋好了', '豬小弟正想休息', '卻聽到了大野狼的吼叫聲', '豬小弟猛吸一口氣說', '這時兩個豬哥哥也聽到了野狼的吼叫聲', '怕得發抖', '他們怕野狼來', '所以整夜都不敢安心睡覺', '隔天', '豬媽媽要三隻小豬到田裡工作', '沒想到走到半路的時候', '他們被一隻可怕的大野狼發現了', '野狼一直跟蹤他們', '野狼決定先吃豬大哥', '豬大哥剛回到家', '就聽到大野狼的聲音', '野狼叫門叫得好兇', '豬大哥嚇得臉都白了', '他趕緊拿一把大鎖', '把門緊緊鎖了起來', '可是野狼哈哈大笑說', '他說完話', '用力一吹', '果然把稻草屋吹倒了', '豬大哥嚇得直跑到豬二哥家', '', '大哥慌慌張張跑進豬二哥的木屋子', '趕忙把大門閂上', '怕野狼闖進來', '可是野狼吼叫說', '兩隻小豬怕得縮著身子擠在一起', '頭上直冒冷汗', '因為野狼怕把門打壞了', '門板發出吱吱吱的斷裂聲', '兩隻小豬眼看野狼就要衝進來了', '他們亂闖亂撞', '結果撞倒了木屋子', '他們直奔到豬小弟的家', '野狼也一直在身後追趕他們', '兩隻小豬逃呀逃呀', '逃到小弟弟的家中', '豬大哥上氣不接下氣的說', '豬小弟卻一點都不擔心', '他說', '很快的', '野狼就追來了', '他生氣的說', '野狼說著說的開始撞牆了', '他使出全身力氣', '向磚牆猛撞過去', '', '一聲', '磚牆沒被撞倒', '野狼的骨頭卻斷了', '野狼哭哭啼啼的回家去了', '', '三隻小豬很高興的叫起來', '從此', '他們三個兄弟住在一起', '每天一起吃飯睡覺', '也一起工作', '日子過得很快樂', '而且野狼一直沒再出現呢', '']\n"
     ]
    }
   ],
   "source": [
    "import re\n",
    "import zhon\n",
    "from zhon.hanzi import punctuation\n",
    "\n",
    "\n",
    "punc = \"\"\"！？｡。＂＃#＄％＆＇（）＊＋－／：；，＜＝\"＞＠［＼］＾＿｀｛｜｝～｟｠｢｣､、〃》「」『』【】 〔〕〖〗〘〙〚〛〜〝〞〟〰–—''‛“”„‟…‧﹏\"\"\"\n",
    "re_punc = \"[{}]+\".format(punc)\n",
    "clean_txt = re.sub(re_punc, \"#\", txt_nd)\n",
    "clean_txt = re.sub(\"\\n\", \"\", clean_txt)\n",
    "clean_txt = clean_txt.split('#')\n",
    "print(clean_txt)"
   ]
  },
  {
   "cell_type": "code",
   "execution_count": 5,
   "metadata": {},
   "outputs": [
    {
     "ename": "ModuleNotFoundError",
     "evalue": "No module named 'pyhanlp'",
     "output_type": "error",
     "traceback": [
      "\u001b[1;31m------------------------------------------------------------\u001b[0m",
      "\u001b[1;31mModuleNotFoundError\u001b[0m        Traceback (most recent call last)",
      "\u001b[1;32m<ipython-input-5-683ea047796e>\u001b[0m in \u001b[0;36m<module>\u001b[1;34m()\u001b[0m\n\u001b[1;32m----> 1\u001b[1;33m \u001b[1;32mfrom\u001b[0m \u001b[0mpyhanlp\u001b[0m \u001b[1;32mimport\u001b[0m \u001b[1;33m*\u001b[0m\u001b[1;33m\u001b[0m\u001b[0m\n\u001b[0m",
      "\u001b[1;31mModuleNotFoundError\u001b[0m: No module named 'pyhanlp'"
     ]
    }
   ],
   "source": [
    "from pyhanlp import *"
   ]
  },
  {
   "cell_type": "code",
   "execution_count": 1,
   "metadata": {},
   "outputs": [
    {
     "ename": "NameError",
     "evalue": "name 'clean_txt' is not defined",
     "output_type": "error",
     "traceback": [
      "\u001b[1;31m------------------------------------------------------------\u001b[0m",
      "\u001b[1;31mNameError\u001b[0m                  Traceback (most recent call last)",
      "\u001b[1;32m<ipython-input-1-f34ba7673880>\u001b[0m in \u001b[0;36m<module>\u001b[1;34m()\u001b[0m\n\u001b[1;32m----> 1\u001b[1;33m \u001b[1;32mfor\u001b[0m \u001b[0mt\u001b[0m \u001b[1;32min\u001b[0m \u001b[0mclean_txt\u001b[0m\u001b[1;33m:\u001b[0m\u001b[1;33m\u001b[0m\u001b[0m\n\u001b[0m\u001b[0;32m      2\u001b[0m     \u001b[0mprint\u001b[0m\u001b[1;33m(\u001b[0m\u001b[0mt\u001b[0m\u001b[1;33m)\u001b[0m\u001b[1;33m\u001b[0m\u001b[0m\n\u001b[0;32m      3\u001b[0m     \u001b[0mprint\u001b[0m\u001b[1;33m(\u001b[0m\u001b[0mzh2en\u001b[0m\u001b[1;33m(\u001b[0m\u001b[0mt\u001b[0m\u001b[1;33m)\u001b[0m\u001b[1;33m)\u001b[0m\u001b[1;33m\u001b[0m\u001b[0m\n\u001b[0;32m      4\u001b[0m     \u001b[0mprint\u001b[0m\u001b[1;33m(\u001b[0m\u001b[1;34m'===='\u001b[0m\u001b[1;33m)\u001b[0m\u001b[1;33m\u001b[0m\u001b[0m\n",
      "\u001b[1;31mNameError\u001b[0m: name 'clean_txt' is not defined"
     ]
    }
   ],
   "source": [
    "for t in clean_txt:\n",
    "    print(t)\n",
    "    print(zh2en(t))\n",
    "    print('====')"
   ]
  },
  {
   "cell_type": "code",
   "execution_count": 14,
   "metadata": {},
   "outputs": [
    {
     "name": "stdout",
     "output_type": "stream",
     "text": [
      "天_n 黑_a\n"
     ]
    }
   ],
   "source": [
    "s = \"天黑\"\n",
    "text = thu1.cut(s, text=True)  #进行一句话分词\n",
    "print(text)"
   ]
  }
 ],
 "metadata": {
  "kernelspec": {
   "display_name": "Python 3",
   "language": "python",
   "name": "python3"
  },
  "language_info": {
   "codemirror_mode": {
    "name": "ipython",
    "version": 3
   },
   "file_extension": ".py",
   "mimetype": "text/x-python",
   "name": "python",
   "nbconvert_exporter": "python",
   "pygments_lexer": "ipython3",
   "version": "3.6.5"
  }
 },
 "nbformat": 4,
 "nbformat_minor": 2
}
