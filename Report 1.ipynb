{
 "cells": [
  {
   "cell_type": "markdown",
   "metadata": {},
   "source": [
    "# 1) what methods you use\n",
    "    ## step 1: Preprocess\n",
    "        >Jieba:for word segmentaion & dictionary correction (part of speech)\n",
    "        >remove punctuation\n",
    "        >langconv:Tranditional Chinese to Simplified Chinese convertion\n",
    "            Since jieba dictionary is codified by Simplified Chinese, the whole input word is transfered into \n",
    "            Simplified Chinese before segmentation.\n",
    "        >Isolate dialogues by removing word between 「 and 」\n",
    "        >\n",
    ">Google translate API\n",
    ">\n",
    "# 2) the example run and results on extraction of character, location, time, object, etc.\n",
    "\n",
    "\n",
    "# 3) performance evaluation in terms of recall and precision, F-score\n",
    ">\n"
   ]
  }
 ],
 "metadata": {
  "kernelspec": {
   "display_name": "Python 3",
   "language": "python",
   "name": "python3"
  },
  "language_info": {
   "codemirror_mode": {
    "name": "ipython",
    "version": 3
   },
   "file_extension": ".py",
   "mimetype": "text/x-python",
   "name": "python",
   "nbconvert_exporter": "python",
   "pygments_lexer": "ipython3",
   "version": "3.6.5"
  }
 },
 "nbformat": 4,
 "nbformat_minor": 2
}
