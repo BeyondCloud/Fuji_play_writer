{
 "cells": [
  {
   "cell_type": "code",
   "execution_count": 12,
   "metadata": {},
   "outputs": [
    {
     "data": {
      "text/plain": [
       "'One day'"
      ]
     },
     "execution_count": 12,
     "metadata": {},
     "output_type": "execute_result"
    }
   ],
   "source": [
    "import  http.client \n",
    "import  hashlib \n",
    "import  json \n",
    "import  urllib \n",
    "import  random \n",
    "import  time \n",
    " \n",
    "def  baidu_translate( content , fromLang = 'cht' , toLang  =  'en' ): \n",
    "    appid  =  '20151113000005349' \n",
    "    secretKey  =  'osubCEzlGjzvw8qdQc41' \n",
    "    httpClient  =  None \n",
    "    myurl  =  '/api/trans/vip/translate' \n",
    "    q  =  content \n",
    "    salt  =  random . randint ( 32768 ,  65536 ) \n",
    "    sign  =  appid  +  q  +  str ( salt )  + secretKey \n",
    "    sign  =  hashlib . md5 ( sign . encode ()) . hexdigest () \n",
    "    myurl  =  myurl  +  '?appid='  +  appid  +  '&q='  +  urllib . parse . quote ( \n",
    "        q )  +  '&from='  +  fromLang  +  '&to='  +  toLang  +  '&salt='  +  str ( \n",
    "        salt )  +  '&sign='  +  sign\n",
    " \n",
    "    try : \n",
    "        httpClient  =  http . client . HTTPConnection ( 'api.fanyi.baidu.com' ) \n",
    "        httpClient . request ( 'GET' ,  myurl ) \n",
    "        # response是HTTPResponse對象\n",
    "        response  =  httpClient . getresponse () \n",
    "        jsonResponse  =  response . read () . decode ( \"utf-8\" ) #獲得返回的結果，結果為json格式\n",
    "        js  =  json . loads ( jsonResponse )  #將json格式的結果轉換字典結構\n",
    "        time . sleep ( 0.9 ) \n",
    "        dst  =  str ( js [ \"trans_result\" ][ 0 ][ \"dst\" ])   #取得翻譯後的文本結果\n",
    "        return  dst  \n",
    "    except  Exception  as  e : \n",
    "        print ( e ) \n",
    "    finally : \n",
    "        if  httpClient : \n",
    "            httpClient . close () \n",
    "def baidu_zh2en(txt):\n",
    "    return baidu_translate(txt)\n",
    "def baidu_en2zh(txt):\n",
    "    return baidu_translate(txt,'en','cht')\n",
    "\n",
    "baidu_zh2en('有一天')"
   ]
  },
  {
   "cell_type": "code",
   "execution_count": 16,
   "metadata": {},
   "outputs": [
    {
     "data": {
      "text/plain": [
       "'照顧'"
      ]
     },
     "execution_count": 16,
     "metadata": {},
     "output_type": "execute_result"
    }
   ],
   "source": [
    "baidu_en2zh('take care of ')"
   ]
  },
  {
   "cell_type": "code",
   "execution_count": 4,
   "metadata": {},
   "outputs": [
    {
     "data": {
      "text/plain": [
       "'one day'"
      ]
     },
     "execution_count": 4,
     "metadata": {},
     "output_type": "execute_result"
    }
   ],
   "source": [
    "import http.client\n",
    "import hashlib\n",
    "import json\n",
    "import urllib\n",
    "import random\n",
    "import time\n",
    "from langconv import *\n",
    "TRANS = 'baidu'\n",
    "\n",
    "def dic2str(N_dic,token = '/'):\n",
    "    lst = []\n",
    "    for key, value in N_dic.items():\n",
    "        lst.append(key)\n",
    "    return token.join(lst)\n",
    "def dic2lst(N_dic):\n",
    "    lst = []\n",
    "    for key, value in N_dic.items():\n",
    "        lst.append(key)\n",
    "    return lst\n",
    "def zh2en(content,token = ' / '):\n",
    "\n",
    "    if isinstance(content, str):\n",
    "        return translator.translate(content, dest='en').text\n",
    "\n",
    "    elif isinstance(content, dict):\n",
    "        txt = dic2lst(content)\n",
    "        lst_out = []\n",
    "        for t in txt:\n",
    "            lst_out.append(translator.translate(t, dest='en').text)  \n",
    "        return lst_out\n",
    "    else:\n",
    "        print('data type not support!')\n",
    "\n",
    "def en2zh(content):\n",
    "    return translator.translate(content, dest='zh-tw').text\n",
    "\n",
    " \n",
    "def toSimplified(s):\n",
    "    return Converter('zh-hans').convert(s)\n",
    "def toTraditional(s):\n",
    "    return Converter('zh-hant').convert(s)\n",
    "\n",
    "zh2en('有一天')"
   ]
  },
  {
   "cell_type": "code",
   "execution_count": 3,
   "metadata": {
    "scrolled": false
   },
   "outputs": [
    {
     "data": {
      "text/plain": [
       "'世界'"
      ]
     },
     "execution_count": 3,
     "metadata": {},
     "output_type": "execute_result"
    }
   ],
   "source": [
    "from googletrans import Translator\n",
    "\n",
    "\n",
    "def zh2en(content,token = ' / '):\n",
    "\n",
    "    if isinstance(content, str):\n",
    "        return translator.translate(content, dest='en').text\n",
    "\n",
    "    elif isinstance(content, dict):\n",
    "        txt = dic2lst(content)\n",
    "        lst_out = []\n",
    "        for t in txt:\n",
    "            lst_out.append(translator.translate(t, dest='en').text)  \n",
    "        return lst_out\n",
    "    else:\n",
    "        print('data type not support!')\n",
    "\n",
    "def en2zh(content):\n",
    "    return translator.translate(content, dest='zh-tw').text\n",
    "# URLS = ['translate.google.com']\n",
    "# proxies = { 'http': '1.243.64.63:48730',   'https': '59.11.98.253:42645', }\n",
    "\n",
    "translator = Translator()\n",
    "en2zh('world')\n"
   ]
  },
  {
   "cell_type": "markdown",
   "metadata": {},
   "source": [
    "# Split the text with tokenizer \"\\n\""
   ]
  },
  {
   "cell_type": "code",
   "execution_count": 13,
   "metadata": {},
   "outputs": [
    {
     "name": "stdout",
     "output_type": "stream",
     "text": [
      "['從前，有一隻胖胖的豬媽媽，她生了三隻小豬。最大的小豬：豬大哥很貪睡，很懶惰。一天到晚都在打瞌睡。第二個小豬：豬二哥很愛吃，他也很懶惰。幸好最小的小豬：豬小弟是個勤勞的好孩子。常常努力的工作。', '有一天，豬媽媽告訴他們說：「你們都長大了，應該自己蓋房子，自己住，自己種田，自己生活。我要你們自己照顧自己。」', '豬大哥噘起嘴，懶洋洋走出家門。「咿咿．．．．．好討厭哦！」豬大哥想一想說：「蓋一棟稻草屋吧，那最簡單了。」', '稻草屋很快的蓋好了，豬大哥好得意，他馬上去找兩個弟弟來，很驕傲的對他們說：「我的房子蓋好了，很漂亮吧～，你們也快一點蓋吧！」', '豬二哥看見說：「哇，果然很漂亮，大哥，你真了不起啊！」']\n"
     ]
    }
   ],
   "source": [
    "import copy as cp\n",
    "with open('./raw/三隻小豬.txt','r', encoding = 'utf8') as f:\n",
    "    txt = f.read()\n",
    "\n",
    "txt_split = txt.split('\\n')\n",
    "txt_tmp = []\n",
    "for t in txt_split:\n",
    "    if t != '':\n",
    "        txt_tmp.append(t)\n",
    "txt_split = txt_tmp\n",
    "print(txt_split[:5])"
   ]
  },
  {
   "cell_type": "markdown",
   "metadata": {},
   "source": [
    "# Extract foreword by listening the first \"「\" sign"
   ]
  },
  {
   "cell_type": "code",
   "execution_count": 14,
   "metadata": {},
   "outputs": [
    {
     "name": "stdout",
     "output_type": "stream",
     "text": [
      "foreword:\n",
      "['從前，有一隻胖胖的豬媽媽，她生了三隻小豬。最大的小豬：豬大哥很貪睡，很懶惰。一天到晚都在打瞌睡。第二個小豬：豬二哥很愛吃，他也很懶惰。幸好最小的小豬：豬小弟是個勤勞的好孩子。常常努力的工作。']\n"
     ]
    }
   ],
   "source": [
    "foreword = []\n",
    "for i in range(len(txt_split)):\n",
    "    if '「' not in txt_split[i]:\n",
    "        foreword.append(txt_split[i])\n",
    "    else:\n",
    "        break\n",
    "print('foreword:')\n",
    "print(foreword)"
   ]
  },
  {
   "cell_type": "markdown",
   "metadata": {},
   "source": [
    "# Load PER LOC TIM"
   ]
  },
  {
   "cell_type": "code",
   "execution_count": 15,
   "metadata": {},
   "outputs": [
    {
     "name": "stdout",
     "output_type": "stream",
     "text": [
      "['豬大哥', '豬二哥', '豬小弟', '大野狼', '媽媽', '好孩子', '弟弟', '哥哥', '小弟', '大哥', '家', '小弟弟', '兄弟', '小豬', '野狼']\n",
      "['稻草屋', '木屋', '紅磚房子', '門閂上']\n",
      "['從前', '天黑']\n"
     ]
    }
   ],
   "source": [
    "import pickle\n",
    "with open('PER_dic.pkl', 'rb') as handle:\n",
    "    PER_dic = pickle.load(handle)\n",
    "with open('space_dic.pkl', 'rb') as handle:\n",
    "\n",
    "    LOC_dic = pickle.load(handle)\n",
    "with open('time_dic.pkl', 'rb') as handle:\n",
    "    TIM_dic = pickle.load(handle)\n",
    "with open('dia_lst.pkl', 'rb') as handle:\n",
    "    dia = pickle.load(handle)\n",
    "with open('dia_hist.pkl', 'rb') as handle:\n",
    "    dia_h = pickle.load(handle)\n",
    "\n",
    "    \n",
    "per = dic2lst(PER_dic)\n",
    "loc = dic2lst(LOC_dic)\n",
    "tim = dic2lst(TIM_dic)\n",
    "for i in range(len(per)):\n",
    "    per[i] = toTraditional(per[i])\n",
    "for i in range(len(loc)):\n",
    "    loc[i] = toTraditional(loc[i])\n",
    "for i in range(len(tim)):\n",
    "    tim[i] = toTraditional(tim[i])\n",
    "\n",
    "print(per)\n",
    "print(loc)\n",
    "print(tim)\n",
    "assert(txt.count('「') == len(dia))  #check all dialogues correspond to each characters"
   ]
  },
  {
   "cell_type": "code",
   "execution_count": 16,
   "metadata": {},
   "outputs": [
    {
     "data": {
      "text/plain": [
       "'#一聲，磚牆沒被撞倒，野狼的骨頭卻斷了，#野狼哭哭啼啼的回家去了。 '"
      ]
     },
     "execution_count": 16,
     "metadata": {},
     "output_type": "execute_result"
    }
   ],
   "source": [
    "def rm_dialogues(s,token1 = '「',token2 = '」'):\n",
    "    lst1 = [pos for pos, char in enumerate(s) if char == token1]\n",
    "    lst2 = [pos for pos, char in enumerate(s) if char == token2]\n",
    "    if(len(lst1) != len(lst1)):\n",
    "        print('dialogue error: not equal “ ” Apostrophe count')\n",
    "        return\n",
    "    for i in range(len(lst1)):\n",
    "        s = s[0: lst1[i]:] + '*'*(lst2[i]-lst1[i])+'#'+ s[lst2[i] + 1::]\n",
    "#         s = s[0: lst1[i]:] +'#'+ s[lst2[i] + 1::]\n",
    "    s= s.replace('*','')\n",
    "    return s\n",
    "txt = '「啪啦！」一聲，磚牆沒被撞倒，野狼的骨頭卻斷了，「哎唷，痛死我了，痛死我了！」野狼哭哭啼啼的回家去了。 '\n",
    "s = rm_dialogues(txt)\n",
    "s"
   ]
  },
  {
   "cell_type": "code",
   "execution_count": 17,
   "metadata": {},
   "outputs": [
    {
     "name": "stdout",
     "output_type": "stream",
     "text": [
      "['稻草屋很快的蓋好了', '豬大哥好得意', '他馬上去找兩個弟弟來', '很驕傲的對他們說', '我的房子蓋好了', '很漂亮吧', '你們也快一點蓋吧', '']\n"
     ]
    }
   ],
   "source": [
    "import re\n",
    "import zhon\n",
    "from zhon.hanzi import punctuation\n",
    "\n",
    "def punc_split(txt_nd):\n",
    "    punc = \"\"\"！？｡。＂＃#＄％＆＇（）＊＋－／：；，＜＝\"＞＠［＼］＾＿｀｛｜｝～｟｠｢｣､、〃》「」『』【】 〔〕〖〗〘〙〚〛〜〝〞〟〰–—''‛“”„‟…‧﹏\"\"\"\n",
    "    re_punc = \"[{}]+\".format(punc)\n",
    "    clean_txt = re.sub(re_punc, \"#\", txt_nd)\n",
    "    clean_txt = re.sub(\"\\n\", \"\", clean_txt)\n",
    "    clean_txt = clean_txt.split('#')\n",
    "    return clean_txt\n",
    "print(punc_split('稻草屋很快的蓋好了，豬大哥好得意，他馬上去找兩個弟弟來，很驕傲的對他們說：「我的房子蓋好了，很漂亮吧～，你們也快一點蓋吧！」 '))"
   ]
  },
  {
   "cell_type": "code",
   "execution_count": 18,
   "metadata": {
    "scrolled": true
   },
   "outputs": [],
   "source": [
    "from stanfordcorenlp import StanfordCoreNLP\n",
    "# s = zh2en('稻草屋很快的蓋好了，豬大哥好得意，他馬上去找兩個弟弟來，很驕傲的對他們說')\n",
    "s = s.replace('.',' ')\n",
    "\n",
    "with StanfordCoreNLP(r'C:\\Program Files\\stanford-corenlp-full-2018-10-05') as nlp:\n",
    "#     print('Constituency Parsing:', nlp.parse(s))\n",
    "    s = s.lower()\n",
    "#     print('Constituency Parsing:', nlp.pos_tag(s))\n",
    "    tag =  nlp.pos_tag(s)\n",
    "    par = nlp.parse(s)\n"
   ]
  },
  {
   "cell_type": "code",
   "execution_count": 19,
   "metadata": {},
   "outputs": [
    {
     "data": {
      "text/plain": [
       "'#一聲 ， 磚牆沒被撞倒 ， 野狼的骨頭卻斷了 ， #野狼哭哭啼啼的回家去了 。'"
      ]
     },
     "execution_count": 19,
     "metadata": {},
     "output_type": "execute_result"
    }
   ],
   "source": [
    "\n",
    "def tag_simp(tag):\n",
    "    filt_tag  = ['DT','CC','TO','RB']\n",
    "    filt_word  = ['is','was','are','were','he','she','them','said']\n",
    "    ss = ''\n",
    "\n",
    "    for t in tag:\n",
    "        if t[1] not in filt_tag and t[0] not in filt_word:\n",
    "            ss = ss+ t[0] + ' '\n",
    "    return en2zh(ss) \n",
    "tag_simp(tag)"
   ]
  },
  {
   "cell_type": "code",
   "execution_count": 20,
   "metadata": {
    "scrolled": true
   },
   "outputs": [
    {
     "name": "stdout",
     "output_type": "stream",
     "text": [
      "\u001b[31m有一天，豬媽媽告訴他們說：「你們都長大了，應該自己蓋房子，自己住，自己種田，自己生活。我要你們自己照顧自己。」\u001b[0m \n",
      "\n",
      ">extract result:\n",
      "一天 豬媽媽告訴我 \n",
      "妈妈：「你们都长大了，应该自己盖房子，自己住，自己种田，自己生活。我要你们自己照顾自己。」\n",
      "\n",
      "=======================\n",
      "\u001b[31m豬大哥噘起嘴，懶洋洋走出家門。「咿咿．．．．．好討厭哦！」豬大哥想一想說：「蓋一棟稻草屋吧，那最簡單了。」\u001b[0m \n",
      "\n",
      ">extract result:\n",
      "location: 稻草屋\n",
      "大豬噘嘴 出門 \n",
      "猪大哥：「咿咿．．．．．好讨厌哦！」\n",
      "\n",
      "大哥：「盖一栋稻草屋吧，那最简单了。」\n",
      "\n",
      "=======================\n",
      "\u001b[31m稻草屋很快的蓋好了，豬大哥好得意，他馬上去找兩個弟弟來，很驕傲的對他們說：「我的房子蓋好了，很漂亮吧～，你們也快一點蓋吧！」\u001b[0m \n",
      "\n",
      ">extract result:\n",
      "location: 稻草屋\n",
      "稻草屋蓋。 大豬自豪 找到了兩個弟弟。 自豪的說 \n",
      "弟弟：「我的房子盖好了，很漂亮吧～，你们也快一点盖吧！」\n",
      "\n",
      "=======================\n",
      "\u001b[31m豬二哥看見說：「哇，果然很漂亮，大哥，你真了不起啊！」\u001b[0m \n",
      "\n",
      ">extract result:\n",
      "豬哥看見了 \n",
      "猪二哥：「哇，果然很漂亮，大哥，你真了不起啊！」\n",
      "\n",
      "=======================\n",
      "\u001b[31m可是豬小弟並不以為然，他說：「哥，你不擔心稻草屋會被風吹倒嗎？」\u001b[0m \n",
      "\n",
      ">extract result:\n",
      "location: 稻草屋\n",
      "豬哥哥的確如此 說 \n",
      "小弟：「哥，你不担心稻草屋会被风吹倒吗？」\n",
      "\n",
      "=======================\n",
      "\u001b[31m豬二哥想了想，說：「稻草屋會被風吹倒，那我就用木頭來蓋好了，木屋較重，不怕風吹。」\u001b[0m \n",
      "\n",
      ">extract result:\n",
      "location: 稻草屋\n",
      "location: 木屋\n",
      "說 \n",
      "猪二哥：「稻草屋会被风吹倒，那我就用木头来盖好了，木屋较重，不怕风吹。」\n",
      "\n",
      "=======================\n",
      "\u001b[31m豬二哥決定以後，「咚咚咚，咚咚咚！」他很認真的工作，一會兒敲敲釘子，一會兒鋸木頭。很快的，一棟木屋蓋好了。\u001b[0m \n",
      "\n",
      ">extract result:\n",
      "location: 木屋\n",
      "豬二決定 \n",
      "「咚咚咚，咚咚咚！」\n",
      "工作的 敲釘子一會兒 一會兒看到木頭  木屋覆蓋 \n",
      "=======================\n",
      "\u001b[31m豬二哥趕忙把哥哥和弟弟都請來，驕傲的說：「你們看，這麼漂亮的房子！而且釘得很牢固，不會被風吹倒，我真的好棒呀！」\u001b[0m \n",
      "\n",
      ">extract result:\n",
      "豬哥哥邀請他哥哥哥哥 自豪的說 \n",
      "弟弟：「你们看，这么漂亮的房子！而且钉得很牢固，不会被风吹倒，我真的好棒呀！」\n",
      "\n",
      "=======================\n",
      "\u001b[31m豬小弟說：「木屋雖然不會被風吹倒，可是用力打，木頭會被打斷，房子就垮了。」\u001b[0m \n",
      "\n",
      ">extract result:\n",
      "location: 木屋\n",
      "豬弟弟 \n",
      "小弟：「木屋虽然不会被风吹倒，可是用力打，木头会被打断，房子就垮了。」\n",
      "\n",
      "=======================\n",
      "\u001b[31m「討厭！」豬二哥罵小弟說：「你以為你最聰明？看你搬磚頭搬一整天了，房子還沒蓋出來。笨蛋～～」\u001b[0m \n",
      "\n",
      ">extract result:\n",
      "\n",
      "猪二哥：「讨厌！」\n",
      "豬哥哥，兄弟， \n",
      "小弟：「你以为你最聪明？看你搬砖头搬一整天了，房子还没盖出来。笨蛋～～」\n",
      "\n",
      "=======================\n",
      "\u001b[31m豬小弟不慌不忙說：「我蓋房子雖然比你們慢，但是我要蓋的房子不怕風吹，也不怕敲打，紅磚房子最牢固了。」\u001b[0m \n",
      "\n",
      ">extract result:\n",
      "location: 紅磚房子\n",
      "豬哥忙著說 \n",
      "小弟：「我盖房子虽然比你们慢，但是我要盖的房子不怕风吹，也不怕敲打，红砖房子最牢固了。」\n",
      "\n",
      "=======================\n",
      "\u001b[31m豬小弟不理會哥哥的嘲笑，他搬好了磚塊，又搬水泥，他把水泥和好了，開始堆砌磚塊，一塊一塊將抹上水泥的磚頭堆砌起來。豬小弟心理想：你們不要笑我，等我蓋好了，你們就知道了，我的房子比什麼都堅固，野狼來了我也不怕呢！\u001b[0m \n",
      "\n",
      ">extract result:\n",
      "豬哥忽略了他哥哥的嘲笑。 搬磚頭 移動水泥 和解水泥 開始建磚 堆積磚水泥一個一個地塗抹。 嘲笑我。 等我蓋住它。 你會知道 我的房子比什麼都強。 我害怕野狼來了。 \n",
      "=======================\n",
      "\u001b[31m豬小弟繼續加油工作，他趕呀趕，趕到天黑，月亮掛在天上了，他的紅磚房子才好不容易蓋好了。豬小弟正想休息，卻聽到了大野狼的吼叫聲。\u001b[0m \n",
      "\n",
      ">extract result:\n",
      "location: 紅磚房子\n",
      "time: 天黑\n",
      "豬弟弟繼續工作 衝 到了黑暗中 月亮掛在天空中 他的紅磚房容易蓋。 我聽到了大狼的吼聲 \n",
      "=======================\n",
      "\u001b[31m豬小弟猛吸一口氣說：「幸好房子蓋好了，我不怕大野狼。」\u001b[0m \n",
      "\n",
      ">extract result:\n",
      "豬哥吸了一口氣 \n",
      "小弟：「幸好房子盖好了，我不怕大野狼。」\n",
      "\n",
      "=======================\n",
      "\u001b[31m這時兩個豬哥哥也聽到了野狼的吼叫聲，怕得發抖，他們怕野狼來，所以整夜都不敢安心睡覺。\u001b[0m \n",
      "\n",
      ">extract result:\n",
      "當時，兩個豬兄弟聽到了狼的吼聲。 害怕顫抖 他們害怕野狼 我敢於晚上睡覺。 \n",
      "=======================\n",
      "\u001b[31m隔天，豬媽媽要三隻小豬到田裡工作，沒想到走到半路的時候，他們被一隻可怕的大野狼發現了，野狼一直跟蹤他們。野狼決定先吃豬大哥。\u001b[0m \n",
      "\n",
      ">extract result:\n",
      "明天 豬媽媽希望三隻仔豬在田間工作。 他們被可怕的大狼發現了 野狼跟踪 狼決定吃大哥哥。 \n",
      "=======================\n",
      "\u001b[31m豬大哥剛回到家，就聽到大野狼的聲音：「砰砰砰！小豬朋友，快給我開門！」野狼叫門叫得好兇。豬大哥嚇得臉都白了，他趕緊拿一把大鎖，把門緊緊鎖了起來。可是野狼哈哈大笑說：「你這個大笨蛋，這種稻草屋，我吹一口氣就倒了。」他說完話，用力一吹，果然把稻草屋吹倒了，豬大哥嚇得直跑到豬二哥家。\u001b[0m \n",
      "\n",
      ">extract result:\n",
      "location: 稻草屋\n",
      "大豬已經回家了 我聽到了大狼的聲音 \n",
      "野狼：「砰砰砰！小猪朋友，快给我开门！」\n",
      "狼叫門尖叫 大豬嚇得白了。 大鎖了 鎖門 狼笑了 \n",
      "野狼：「你这个大笨蛋，这种稻草屋，我吹一口气就倒了。」\n",
      "說完了 吹力 ，稻草屋吹。 大豬哥嚇得直豬兄弟的家 \n",
      "=======================\n",
      "\u001b[31m「救命呀！」大哥慌慌張張跑進豬二哥的木屋子，趕忙把大門閂上，怕野狼闖進來。可是野狼吼叫說：「木頭屋子一樣擋不住我，我一定要把你吃掉！」\u001b[0m \n",
      "\n",
      ">extract result:\n",
      "location: 木屋\n",
      "location: 門閂上\n",
      "\n",
      "大哥：「救命呀！」\n",
      "大哥慌亂地跑進豬兄弟的木屋裡。 快點螺栓大門 害怕野狼進來 狼嚎叫 \n",
      "野狼：「木头屋子一样挡不住我，我一定要把你吃掉！」\n",
      "\n",
      "=======================\n",
      "\u001b[31m兩隻小豬怕得縮著身子擠在一起，頭上直冒冷汗。因為野狼怕把門打壞了，「砰～～」，門板發出吱吱吱的斷裂聲，兩隻小豬眼看野狼就要衝進來了，他們亂闖亂撞，結果撞倒了木屋子，他們直奔到豬小弟的家。野狼也一直在身後追趕他們。\u001b[0m \n",
      "\n",
      ">extract result:\n",
      "location: 木屋\n",
      "兩隻小豬害怕擠 頭上的冷汗 因為狼害怕破門。 \n",
      "小猪：「砰～～」\n",
      " 門板使聲音開裂 兩隻仔豬會看到野狼湧入。 他們粉碎了 結果打倒了木屋 他們回到了豬兄弟家 狼一直在追逐 \n",
      "=======================\n",
      "\u001b[31m兩隻小豬逃呀逃呀，逃到小弟弟的家中。「弟弟，弟弟，小．．．．弟弟，野狼在我們．．身．．．後．．．」豬大哥上氣不接下氣的說：「快把門鎖緊，不然我們會被吃掉的。」豬小弟卻一點都不擔心，他說：「怕什麼？這麼堅固的磚屋，野狼進不來的。」\u001b[0m \n",
      "\n",
      ">extract result:\n",
      "兩隻小豬逃離了 逃離小弟弟的家 \n",
      "猪大哥：「弟弟，弟弟，小．．．．弟弟，野狼在我们．．身．．．后．．．」\n",
      "豬大哥氣喘吁籲 \n",
      "大哥：「快把门锁紧，不然我们会被吃掉的。」\n",
      "豬弟弟擔心 說 \n",
      "小弟：「怕什么？这么坚固的砖屋，野狼进不来的。」\n",
      "\n",
      "=======================\n",
      "\u001b[31m很快的，野狼就追來了。他生氣的說：「死小豬，看我把你們的房子撞倒，你們就要被我吃掉了。」野狼說著說的開始撞牆了。「呀！～～」他使出全身力氣，向磚牆猛撞過去！\u001b[0m \n",
      "\n",
      ">extract result:\n",
      " 狼追著它。 憤怒 \n",
      "野狼：「死小猪，看我把你们的房子撞倒，你们就要被我吃掉了。」\n",
      "狼開始撞牆了。 \n",
      "「呀！～～」\n",
      "充分發揮力量 砸向磚牆 \n",
      "=======================\n",
      "\u001b[31m「啪啦！」一聲，磚牆沒被撞倒，野狼的骨頭卻斷了，「哎唷，痛死我了，痛死我了！」野狼哭哭啼啼的回家去了。\u001b[0m \n",
      "\n",
      ">extract result:\n",
      "\n",
      "野狼：「啪啦！」\n",
      "一 磚牆被撞倒了 狼的骨頭壞了。 \n",
      "野狼：「哎唷，痛死我了，痛死我了！」\n",
      "野狼叫著回家。 \n",
      "=======================\n",
      "\u001b[31m「萬歲！」三隻小豬很高興的叫起來。從此，他們三個兄弟住在一起，每天一起吃飯睡覺，也一起工作，日子過得很快樂，而且野狼一直沒再出現呢！\u001b[0m \n",
      "\n",
      ">extract result:\n",
      "\n",
      "小猪：「万岁！」\n",
      "三隻小豬快樂的電話 從上 他們的三個兄弟住 吃睡覺的一天 工作 過上幸福的生活 狼出現了。 \n",
      "=======================\n"
     ]
    }
   ],
   "source": [
    "import copy as cp\n",
    "from termcolor import colored\n",
    "with open('./raw/三隻小豬.txt','r', encoding = 'utf8') as f:\n",
    "    txt = f.read()\n",
    "\n",
    "txt_split = txt.split('\\n')\n",
    "txt_tmp = []\n",
    "for t in txt_split:\n",
    "    if t != '':\n",
    "        txt_tmp.append(t)\n",
    "txt_split = txt_tmp\n",
    "\n",
    "dia_idx = 0\n",
    "\n",
    "with StanfordCoreNLP(r'C:\\Program Files\\stanford-corenlp-full-2018-10-05') as nlp:\n",
    "    for li,line in enumerate(txt_split):\n",
    "        if li<len(foreword):\n",
    "            continue\n",
    "        print(colored(line,'red'),'\\n')\n",
    "        print('>extract result:')\n",
    "        dia_stack = []\n",
    "\n",
    "        for lo in loc:\n",
    "            if lo in line:\n",
    "                print('location:',lo)\n",
    "        for ti in tim:\n",
    "            if ti in line:\n",
    "                print('time:',ti)\n",
    "\n",
    "        for i in range(line.count('「' )):\n",
    "            if dia[dia_idx] == 'None':\n",
    "                  dia_stack.append(dia_h[dia_idx])          \n",
    "            else:\n",
    "                dia_stack.append(dia[dia_idx]+'：'+dia_h[dia_idx])\n",
    "            dia_idx+=1\n",
    "\n",
    "        s = rm_dialogues(line).split('#')\n",
    "        for i in range(len(s)):\n",
    "\n",
    "            s_lst = punc_split(s[i])\n",
    "            for seg in s_lst[:-1]:\n",
    "#                 s_en = s_en.replace('.',' ')\n",
    "                if '想' in seg:\n",
    "                    continue\n",
    "                try:\n",
    "                    en_seg = zh2en(seg).lower() \n",
    "                    tag =  nlp.pos_tag(en_seg)\n",
    "                    print(tag_simp(tag),end = ' ')\n",
    "                except:\n",
    "                    continue\n",
    "            print()\n",
    "\n",
    "            if i<len(dia_stack):\n",
    "                if '想' not in dia_stack[i]:\n",
    "                    print(dia_stack[i])\n",
    "        print('=======================')"
   ]
  },
  {
   "cell_type": "code",
   "execution_count": null,
   "metadata": {},
   "outputs": [],
   "source": [
    "# zh2en('有一天了，')\n",
    "zh2en('稻草屋很快的蓋好了，豬大哥好得意，他馬上去找兩個弟弟來，很驕傲的對他們說')"
   ]
  },
  {
   "cell_type": "code",
   "execution_count": 18,
   "metadata": {
    "collapsed": true
   },
   "outputs": [
    {
     "name": "stdout",
     "output_type": "stream",
     "text": [
      "['從前', '，', '有', '一', '隻', '胖胖', '的', '豬媽媽', '，', '她', '生了', '三隻小豬', '。', '最大', '的', '小豬', '：', '豬大哥', '很', '貪睡', '，', '很', '懶惰', '。', '一天到晚', '都', '在', '打瞌睡', '。', '第二', '個', '小豬', '：', '豬二', '哥', '很', '愛吃', '，', '他', '也', '很', '懶惰', '。', '幸好', '最', '小', '的', '小豬', '：', '豬小弟', '是', '個勤勞', '的', '好', '孩子', '。', '常常', '努力', '的', '工作', '。']\n",
      "(ROOT\n",
      "  (IP\n",
      "    (IP\n",
      "      (ADVP (AD 從前))\n",
      "      (PU ，)\n",
      "      (VP (VE 有)\n",
      "        (NP\n",
      "          (QP (CD 一)\n",
      "            (CLP (M 隻)))\n",
      "          (CP\n",
      "            (IP\n",
      "              (VP (VA 胖胖)))\n",
      "            (DEC 的))\n",
      "          (NP (NN 豬媽媽)))))\n",
      "    (PU ，)\n",
      "    (IP\n",
      "      (NP (PN 她))\n",
      "      (VP\n",
      "        (VSB (VV 生了) (VV 三隻小豬))))\n",
      "    (PU 。)\n",
      "    (IP\n",
      "      (NP\n",
      "        (DNP\n",
      "          (ADJP (JJ 最大))\n",
      "          (DEG 的))\n",
      "        (NP (NN 小豬)))\n",
      "      (PU ：)\n",
      "      (IP\n",
      "        (NP (NN 豬大哥))\n",
      "        (VP\n",
      "          (VP\n",
      "            (ADVP (AD 很))\n",
      "            (VP (VV 貪睡)))\n",
      "          (PU ，)\n",
      "          (VP\n",
      "            (ADVP (AD 很))\n",
      "            (VP (VV 懶惰))))))\n",
      "    (PU 。)\n",
      "    (IP\n",
      "      (VP\n",
      "        (ADVP (AD 一天到晚))\n",
      "        (ADVP (AD 都))\n",
      "        (ADVP (AD 在))\n",
      "        (VP (VV 打瞌睡))))\n",
      "    (PU 。)\n",
      "    (IP\n",
      "      (NP\n",
      "        (NP\n",
      "          (QP (OD 第二))\n",
      "          (NP (NN 個)))\n",
      "        (NP (NN 小豬)))\n",
      "      (PU ：)\n",
      "      (IP\n",
      "        (NP (NN 豬二))\n",
      "        (NP (NR 哥))\n",
      "        (VP\n",
      "          (ADVP (AD 很))\n",
      "          (VP (VV 愛吃)))))\n",
      "    (PU ，)\n",
      "    (IP\n",
      "      (NP (PN 他))\n",
      "      (VP\n",
      "        (ADVP (AD 也))\n",
      "        (ADVP (AD 很))\n",
      "        (VP (VV 懶惰))))\n",
      "    (PU 。)\n",
      "    (IP\n",
      "      (ADVP (AD 幸好))\n",
      "      (NP\n",
      "        (CP\n",
      "          (IP\n",
      "            (VP\n",
      "              (ADVP (AD 最))\n",
      "              (VP (VA 小))))\n",
      "          (DEC 的))\n",
      "        (NP (NN 小豬)))\n",
      "      (PU ：)\n",
      "      (NP (NN 豬小弟))\n",
      "      (VP (VC 是)\n",
      "        (NP\n",
      "          (DNP\n",
      "            (NP (NN 個勤勞))\n",
      "            (DEG 的))\n",
      "          (ADJP (JJ 好))\n",
      "          (NP (NN 孩子)))))\n",
      "    (PU 。)\n",
      "    (NP\n",
      "      (CP\n",
      "        (IP\n",
      "          (VP\n",
      "            (ADVP (AD 常常))\n",
      "            (VP (VV 努力))))\n",
      "        (DEC 的))\n",
      "      (NP (NN 工作)))\n",
      "    (PU 。)))\n"
     ]
    }
   ],
   "source": [
    "# _*_coding:utf-8_*_\n",
    "\n",
    "# Other human languages support, e.g. Chinese\n",
    "sentence = '從前，有一隻胖胖的豬媽媽，她生了三隻小豬。最大的小豬：豬大哥很貪睡，很懶惰。一天到晚都在打瞌睡。第二個小豬：豬二哥很愛吃，他也很懶惰。幸好最小的小豬：豬小弟是個勤勞的好孩子。常常努力的工作。'\n",
    "\n",
    "with StanfordCoreNLP(r'E:\\stanford-corenlp-full-2018-10-05', lang='zh') as nlp:\n",
    "    print(nlp.word_tokenize(sentence))\n",
    "#     print(nlp.pos_tag(sentence))\n",
    "#     print(nlp.ner(sentence))\n",
    "    print(nlp.parse(sentence))\n",
    "#     print(nlp.dependency_parse(sentence))"
   ]
  }
 ],
 "metadata": {
  "kernelspec": {
   "display_name": "Python 3",
   "language": "python",
   "name": "python3"
  },
  "language_info": {
   "codemirror_mode": {
    "name": "ipython",
    "version": 3
   },
   "file_extension": ".py",
   "mimetype": "text/x-python",
   "name": "python",
   "nbconvert_exporter": "python",
   "pygments_lexer": "ipython3",
   "version": "3.6.5"
  }
 },
 "nbformat": 4,
 "nbformat_minor": 2
}
