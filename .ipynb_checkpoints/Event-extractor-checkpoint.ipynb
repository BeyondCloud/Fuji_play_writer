{
 "cells": [
  {
   "cell_type": "code",
   "execution_count": 1,
   "metadata": {},
   "outputs": [
    {
     "data": {
      "text/plain": [
       "'One day'"
      ]
     },
     "execution_count": 1,
     "metadata": {},
     "output_type": "execute_result"
    }
   ],
   "source": [
    "import  http.client \n",
    "import  hashlib \n",
    "import  json \n",
    "import  urllib \n",
    "import  random \n",
    "import  time \n",
    " \n",
    "def  baidu_translate( content , fromLang = 'cht' , toLang  =  'en' ): \n",
    "    appid  =  '20151113000005349' \n",
    "    secretKey  =  'osubCEzlGjzvw8qdQc41' \n",
    "    httpClient  =  None \n",
    "    myurl  =  '/api/trans/vip/translate' \n",
    "    q  =  content \n",
    "    salt  =  random . randint ( 32768 ,  65536 ) \n",
    "    sign  =  appid  +  q  +  str ( salt )  + secretKey \n",
    "    sign  =  hashlib . md5 ( sign . encode ()) . hexdigest () \n",
    "    myurl  =  myurl  +  '?appid='  +  appid  +  '&q='  +  urllib . parse . quote ( \n",
    "        q )  +  '&from='  +  fromLang  +  '&to='  +  toLang  +  '&salt='  +  str ( \n",
    "        salt )  +  '&sign='  +  sign\n",
    " \n",
    "    try : \n",
    "        httpClient  =  http . client . HTTPConnection ( 'api.fanyi.baidu.com' ) \n",
    "        httpClient . request ( 'GET' ,  myurl ) \n",
    "        # response是HTTPResponse對象\n",
    "        response  =  httpClient . getresponse () \n",
    "        jsonResponse  =  response . read () . decode ( \"utf-8\" ) #獲得返回的結果，結果為json格式\n",
    "        js  =  json . loads ( jsonResponse )  #將json格式的結果轉換字典結構\n",
    "        time . sleep ( 0.9 ) \n",
    "        dst  =  str ( js [ \"trans_result\" ][ 0 ][ \"dst\" ])   #取得翻譯後的文本結果\n",
    "        return  dst  \n",
    "    except  Exception  as  e : \n",
    "        print ( e ) \n",
    "    finally : \n",
    "        if  httpClient : \n",
    "            httpClient . close () \n",
    "def baidu_zh2en(txt):\n",
    "    return baidu_translate(txt)\n",
    "def baidu_en2zh(txt):\n",
    "    return baidu_translate(txt,'en','cht')\n",
    "\n",
    "baidu_zh2en('有一天')"
   ]
  },
  {
   "cell_type": "code",
   "execution_count": 45,
   "metadata": {},
   "outputs": [
    {
     "data": {
      "text/plain": [
       "'One day @, pig mother told them to say @'"
      ]
     },
     "execution_count": 45,
     "metadata": {},
     "output_type": "execute_result"
    }
   ],
   "source": [
    "import http.client\n",
    "import hashlib\n",
    "import json\n",
    "import urllib\n",
    "import random\n",
    "import time\n",
    "from langconv import *\n",
    "from googletrans import Translator\n",
    "from importlib import reload \n",
    "\n",
    "\n",
    "translator = Translator()\n",
    "\n",
    "def dic2str(N_dic,token = '/'):\n",
    "    lst = []\n",
    "    for key, value in N_dic.items():\n",
    "        lst.append(key)\n",
    "    return token.join(lst)\n",
    "def dic2lst(N_dic):\n",
    "    lst = []\n",
    "    for key, value in N_dic.items():\n",
    "        lst.append(key)\n",
    "    return lst\n",
    "def zh2en(content,token = ' / '):\n",
    "    if len(content) == 0:\n",
    "        return \" \"\n",
    "    time.sleep(random.random()+0.3)\n",
    "    if isinstance(content, str):\n",
    "        return translator.translate(content, dest='en').text\n",
    "\n",
    "    elif isinstance(content, dict):\n",
    "        txt = dic2lst(content)\n",
    "        lst_out = []\n",
    "        for t in txt:\n",
    "            lst_out.append(translator.translate(t, dest='en').text)  \n",
    "        return lst_out\n",
    "    else:\n",
    "        print('data type not support!')\n",
    "\n",
    "def en2zh(content):\n",
    "    time.sleep(random.random()+0.3)\n",
    "    return translator.translate(content, dest='zh-tw').text\n",
    "\n",
    " \n",
    "def toSimplified(s):\n",
    "    return Converter('zh-hans').convert(s)\n",
    "def toTraditional(s):\n",
    "    return Converter('zh-hant').convert(s)\n",
    "\n",
    "# zh2en('三隻小豬很高興的叫起來@。從此，他們三個兄弟住在一起，每天一起吃飯睡覺，也一起工作，日子過得很快樂，而且野狼一直沒再出現呢！')\n",
    "zh2en('有一天@,豬媽媽告訴他們說@')"
   ]
  },
  {
   "cell_type": "markdown",
   "metadata": {},
   "source": [
    "# Split the text with tokenizer \"\\n\""
   ]
  },
  {
   "cell_type": "code",
   "execution_count": 3,
   "metadata": {},
   "outputs": [
    {
     "name": "stdout",
     "output_type": "stream",
     "text": [
      "['從前，有一隻胖胖的豬媽媽，她生了三隻小豬。最大的小豬：豬大哥很貪睡，很懶惰。一天到晚都在打瞌睡。第二個小豬：豬二哥很愛吃，他也很懶惰。幸好最小的小豬：豬小弟是個勤勞的好孩子。常常努力的工作。', '有一天，豬媽媽告訴他們說：「你們都長大了，應該自己蓋房子，自己住，自己種田，自己生活。我要你們自己照顧自己。」', '豬大哥噘起嘴，懶洋洋走出家門。「咿咿．．．．．好討厭哦！」豬大哥想一想說：「蓋一棟稻草屋吧，那最簡單了。」', '稻草屋很快的蓋好了，豬大哥好得意，他馬上去找兩個弟弟來，很驕傲的對他們說：「我的房子蓋好了，很漂亮吧～，你們也快一點蓋吧！」', '豬二哥看見說：「哇，果然很漂亮，大哥，你真了不起啊！」']\n"
     ]
    }
   ],
   "source": [
    "import copy as cp\n",
    "with open('./raw/三隻小豬.txt','r', encoding = 'utf8') as f:\n",
    "    txt = f.read()\n",
    "\n",
    "txt_split = txt.split('\\n')\n",
    "txt_tmp = []\n",
    "for t in txt_split:\n",
    "    if t != '':\n",
    "        txt_tmp.append(t)\n",
    "txt_split = txt_tmp\n",
    "print(txt_split[:5])"
   ]
  },
  {
   "cell_type": "markdown",
   "metadata": {},
   "source": [
    "# Extract foreword by listening the first \"「\" sign"
   ]
  },
  {
   "cell_type": "code",
   "execution_count": 4,
   "metadata": {},
   "outputs": [
    {
     "name": "stdout",
     "output_type": "stream",
     "text": [
      "foreword:\n",
      "['從前，有一隻胖胖的豬媽媽，她生了三隻小豬。最大的小豬：豬大哥很貪睡，很懶惰。一天到晚都在打瞌睡。第二個小豬：豬二哥很愛吃，他也很懶惰。幸好最小的小豬：豬小弟是個勤勞的好孩子。常常努力的工作。']\n"
     ]
    }
   ],
   "source": [
    "foreword = []\n",
    "for i in range(len(txt_split)):\n",
    "    if '「' not in txt_split[i]:\n",
    "        foreword.append(txt_split[i])\n",
    "    else:\n",
    "        break\n",
    "print('foreword:')\n",
    "print(foreword)"
   ]
  },
  {
   "cell_type": "markdown",
   "metadata": {},
   "source": [
    "# Load PER LOC TIM"
   ]
  },
  {
   "cell_type": "code",
   "execution_count": 5,
   "metadata": {},
   "outputs": [
    {
     "name": "stdout",
     "output_type": "stream",
     "text": [
      "['豬大哥', '豬二哥', '豬小弟', '大野狼', '媽媽', '好孩子', '弟弟', '哥哥', '小弟', '大哥', '家', '小弟弟', '兄弟', '小豬', '野狼']\n",
      "['稻草屋', '木屋', '紅磚房子', '門閂上']\n",
      "['從前', '天黑']\n"
     ]
    }
   ],
   "source": [
    "import pickle\n",
    "with open('PER_dic.pkl', 'rb') as handle:\n",
    "    PER_dic = pickle.load(handle)\n",
    "with open('space_dic.pkl', 'rb') as handle:\n",
    "\n",
    "    LOC_dic = pickle.load(handle)\n",
    "with open('time_dic.pkl', 'rb') as handle:\n",
    "    TIM_dic = pickle.load(handle)\n",
    "with open('dia_lst.pkl', 'rb') as handle:\n",
    "    dia = pickle.load(handle)\n",
    "with open('dia_hist.pkl', 'rb') as handle:\n",
    "    dia_h = pickle.load(handle)\n",
    "\n",
    "    \n",
    "per = dic2lst(PER_dic)\n",
    "loc = dic2lst(LOC_dic)\n",
    "tim = dic2lst(TIM_dic)\n",
    "for i in range(len(per)):\n",
    "    per[i] = toTraditional(per[i])\n",
    "for i in range(len(loc)):\n",
    "    loc[i] = toTraditional(loc[i])\n",
    "for i in range(len(tim)):\n",
    "    tim[i] = toTraditional(tim[i])\n",
    "\n",
    "print(per)\n",
    "print(loc)\n",
    "print(tim)\n",
    "assert(txt.count('「') == len(dia))  #check all dialogues correspond to each characters"
   ]
  },
  {
   "cell_type": "code",
   "execution_count": 6,
   "metadata": {},
   "outputs": [
    {
     "data": {
      "text/plain": [
       "'#一聲，磚牆沒被撞倒，野狼的骨頭卻斷了，#野狼哭哭啼啼的回家去了。 '"
      ]
     },
     "execution_count": 6,
     "metadata": {},
     "output_type": "execute_result"
    }
   ],
   "source": [
    "def rm_dialogues(s,token1 = '「',token2 = '」'):\n",
    "    lst1 = [pos for pos, char in enumerate(s) if char == token1]\n",
    "    lst2 = [pos for pos, char in enumerate(s) if char == token2]\n",
    "    if(len(lst1) != len(lst1)):\n",
    "        print('dialogue error: not equal “ ” Apostrophe count')\n",
    "        return\n",
    "    for i in range(len(lst1)):\n",
    "        s = s[0: lst1[i]:] + '*'*(lst2[i]-lst1[i])+'#'+ s[lst2[i] + 1::]\n",
    "#         s = s[0: lst1[i]:] +'#'+ s[lst2[i] + 1::]\n",
    "    s= s.replace('*','')\n",
    "    return s\n",
    "txt = '「啪啦！」一聲，磚牆沒被撞倒，野狼的骨頭卻斷了，「哎唷，痛死我了，痛死我了！」野狼哭哭啼啼的回家去了。 '\n",
    "s = rm_dialogues(txt)\n",
    "s"
   ]
  },
  {
   "cell_type": "code",
   "execution_count": 7,
   "metadata": {},
   "outputs": [
    {
     "name": "stdout",
     "output_type": "stream",
     "text": [
      "['稻草屋很快的蓋好了', '豬大哥好得意', '他馬上去找兩個弟弟來', '很驕傲的對他們說', '我的房子蓋好了', '很漂亮吧', '你們也快一點蓋吧', '']\n"
     ]
    }
   ],
   "source": [
    "import re\n",
    "import zhon\n",
    "from zhon.hanzi import punctuation\n",
    "\n",
    "def punc_split(txt_nd):\n",
    "    punc = \"\"\"！？｡。＂＃#＄％＆＇（）＊＋－／：；，＜＝\"＞＠［＼］＾＿｀｛｜｝～｟｠｢｣､、〃》「」『』【】 〔〕〖〗〘〙〚〛〜〝〞〟〰–—''‛“”„‟…‧﹏\"\"\"\n",
    "    re_punc = \"[{}]+\".format(punc)\n",
    "    clean_txt = re.sub(re_punc, \"#\", txt_nd)\n",
    "    clean_txt = re.sub(\"\\n\", \"\", clean_txt)\n",
    "    clean_txt = clean_txt.split('#')\n",
    "    return clean_txt\n",
    "print(punc_split('稻草屋很快的蓋好了，豬大哥好得意，他馬上去找兩個弟弟來，很驕傲的對他們說：「我的房子蓋好了，很漂亮吧～，你們也快一點蓋吧！」 '))"
   ]
  },
  {
   "cell_type": "code",
   "execution_count": 8,
   "metadata": {
    "scrolled": true
   },
   "outputs": [],
   "source": [
    "from stanfordcorenlp import StanfordCoreNLP\n",
    "s = zh2en('三隻小豬很高興的叫起來 從此 他們三個兄弟住在一起 每天一起吃飯睡覺 也一起工作 日子過得很快樂 而且野狼一直沒再出現呢！')\n",
    "s = s.replace('.',' ')\n",
    "\n",
    "with StanfordCoreNLP(r'C:\\Program Files\\stanford-corenlp-full-2018-10-05') as nlp:\n",
    "#     print('Constituency Parsing:', nlp.parse(s))\n",
    "    s = s.lower()\n",
    "#     print('Constituency Parsing:', nlp.pos_tag(s))\n",
    "    tag =  nlp.pos_tag(s)\n",
    "    par = nlp.parse(s)\n"
   ]
  },
  {
   "cell_type": "code",
   "execution_count": 9,
   "metadata": {},
   "outputs": [
    {
     "ename": "NameError",
     "evalue": "name 's_lst_trim' is not defined",
     "output_type": "error",
     "traceback": [
      "\u001b[1;31m------------------------------------------------------------\u001b[0m",
      "\u001b[1;31mNameError\u001b[0m                  Traceback (most recent call last)",
      "\u001b[1;32m<ipython-input-9-bdd68d4fd5cc>\u001b[0m in \u001b[0;36m<module>\u001b[1;34m()\u001b[0m\n\u001b[0;32m      6\u001b[0m     \u001b[1;32mif\u001b[0m \u001b[1;34m'想'\u001b[0m \u001b[1;32min\u001b[0m \u001b[0mseg\u001b[0m\u001b[1;33m:\u001b[0m\u001b[1;33m\u001b[0m\u001b[0m\n\u001b[0;32m      7\u001b[0m         \u001b[1;32mcontinue\u001b[0m\u001b[1;33m\u001b[0m\u001b[0m\n\u001b[1;32m----> 8\u001b[1;33m     \u001b[0ms_lst_trim\u001b[0m\u001b[1;33m.\u001b[0m\u001b[0mappend\u001b[0m\u001b[1;33m(\u001b[0m\u001b[0mseg\u001b[0m\u001b[1;33m)\u001b[0m\u001b[1;33m\u001b[0m\u001b[0m\n\u001b[0m\u001b[0;32m      9\u001b[0m \u001b[1;33m\u001b[0m\u001b[0m\n\u001b[0;32m     10\u001b[0m \u001b[0ms_lst\u001b[0m \u001b[1;33m=\u001b[0m \u001b[1;34m','\u001b[0m\u001b[1;33m.\u001b[0m\u001b[0mjoin\u001b[0m\u001b[1;33m(\u001b[0m\u001b[0ms_lst_trim\u001b[0m\u001b[1;33m)\u001b[0m\u001b[1;33m\u001b[0m\u001b[0m\n",
      "\u001b[1;31mNameError\u001b[0m: name 's_lst_trim' is not defined"
     ]
    }
   ],
   "source": [
    "\n",
    "s_lst = punc_split('豬二哥罵小弟。')\n",
    "# ','.join(lst)\n",
    "\n",
    "for seg in s_lst[:-1]:\n",
    "    if '想' in seg:\n",
    "        continue\n",
    "    s_lst_trim.append(seg)\n",
    "\n",
    "s_lst = ','.join(s_lst_trim)\n",
    "print(s_lst)\n",
    "en_seg = zh2en(s_lst).lower() \n",
    "with StanfordCoreNLP(r'C:\\Program Files\\stanford-corenlp-full-2018-10-05') as nlp:\n",
    "    tag =  nlp.pos_tag(en_seg)\n",
    "    print(tag_simp(tag),end = ' ')\n"
   ]
  },
  {
   "cell_type": "code",
   "execution_count": 48,
   "metadata": {},
   "outputs": [
    {
     "data": {
      "text/plain": [
       "''"
      ]
     },
     "execution_count": 48,
     "metadata": {},
     "output_type": "execute_result"
    }
   ],
   "source": [
    "\n",
    "def tag_simp(tag):\n",
    "    filt_tag  = ['DT','CC','TO','JJ']\n",
    "    filt_word  = ['is','was','are','were','he','she','them','said','very']\n",
    "    ss = ''\n",
    "\n",
    "    for t in tag:\n",
    "        if t[1] not in filt_tag and t[0] not in filt_word:\n",
    "            ss = ss+ t[0] + ' '\n",
    "    return en2zh(ss) \n",
    "tag_simp(tag)"
   ]
  },
  {
   "cell_type": "code",
   "execution_count": 10,
   "metadata": {},
   "outputs": [
    {
     "name": "stdout",
     "output_type": "stream",
     "text": [
      "asdfgh -1\n"
     ]
    }
   ],
   "source": [
    "s = 'asdfghj'\n",
    "pos = s.find('gb')\n",
    "\n",
    "s_ = s[:pos]\n",
    "print(s_,pos)"
   ]
  },
  {
   "cell_type": "markdown",
   "metadata": {},
   "source": [
    "# Emotion to action module"
   ]
  },
  {
   "cell_type": "code",
   "execution_count": 41,
   "metadata": {},
   "outputs": [
    {
     "data": {
      "text/plain": [
       "[0, 2]"
      ]
     },
     "execution_count": 41,
     "metadata": {},
     "output_type": "execute_result"
    }
   ],
   "source": [
    "import csv\n",
    "\n",
    "all_A = []\n",
    "all_E = []\n",
    "ETA_dic = {}\n",
    "with open('emo.csv', newline='', encoding = 'utf8') as csvfile:\n",
    "    rows = csv.reader(csvfile)\n",
    "    for row in rows:\n",
    "        all_A.append(row[0])\n",
    "        for ele in row[1:]:\n",
    "            ETA_dic[ele]=row[0]\n",
    "        all_E = all_E+row[1:]\n",
    "def find_ch_idx(txt,token):\n",
    "     return [pos for pos, char in enumerate(txt) if char == token]\n",
    "\n",
    "def lst_replace_ch(txt,lst,ch):\n",
    "    idx = find_ch_idx(txt,ch)\n",
    "    assert(len(lst)==len(idx))\n",
    "\n",
    "#     out =  txt[:idx[0]]\n",
    "    out = txt[0]\n",
    "    idx = [0]+idx\n",
    "#     print(idx,lst)\n",
    "\n",
    "    for ti in range(len(idx)-1):\n",
    "        str_add = ','.join(lst[ti])\n",
    "#         print(str_add)\n",
    "        if len(lst[ti]) != 0:\n",
    "            out = out + txt[idx[ti]+1:idx[ti+1]]+ '('+str_add+ ')'\n",
    "        else:\n",
    "            out = out + txt[idx[ti]+1:idx[ti+1]]\n",
    "    out+=txt[idx[-1]+1:]\n",
    "    return out\n",
    "def emo2act(txt):\n",
    "    act = []\n",
    "    for e in all_E:\n",
    "        if e in txt:\n",
    "            act.append(ETA_dic[e])\n",
    "    return list(set(act))\n",
    "emo2act('小豬快樂的跳舞')\n",
    "st = '小豬尖叫%，外面%'\n",
    "lst_replace_ch(st,[['>'],['<','>']],'%')\n",
    "# find_ch_idx('~m~','~')"
   ]
  },
  {
   "cell_type": "code",
   "execution_count": 51,
   "metadata": {
    "scrolled": true
   },
   "outputs": [
    {
     "name": "stdout",
     "output_type": "stream",
     "text": [
      "\u001b[31m有一天，豬媽媽告訴他們說：「你們都長大了，應該自己蓋房子，自己住，自己種田，自己生活。我要你們自己照顧自己。」\u001b[0m \n",
      "\n",
      "Scene 0 /time: None /location: None\n",
      "△ 有一天，豬媽媽告訴說 \n",
      "妈妈：「你们都长大了，应该自己盖房子，自己住，自己种田，自己生活。我要你们自己照顾自己。」\n",
      "\n",
      "=======================\n",
      "\u001b[31m豬大哥噘起嘴，懶洋洋走出家門。「咿咿．．．．．好討厭哦！」豬大哥想一想說：「蓋一棟稻草屋吧，那最簡單了。」\u001b[0m \n",
      "\n",
      "Scene 1 /time: None /location: 稻草屋\n",
      "△ 豬豬噘嘴，出門 \n",
      "猪大哥：「咿咿．．．．．好讨厌哦！」\n",
      "\n",
      "大哥：「盖一栋稻草屋吧，那最简单了。」\n",
      "\n",
      "=======================\n",
      "\u001b[31m稻草屋很快的蓋好了，豬大哥好得意，他馬上去找兩個弟弟來，很驕傲的對他們說：「我的房子蓋好了，很漂亮吧～，你們也快一點蓋吧！」\u001b[0m \n",
      "\n",
      "△ 稻草屋快速蓋了，豬哥哥(雙手插腰大笑)，馬上找了兩個弟弟，說(雙手插腰大笑) \n",
      "弟弟：「我的房子盖好了，很漂亮吧～，你们也快一点盖吧！」\n",
      "\n",
      "=======================\n",
      "\u001b[31m豬二哥看見說：「哇，果然很漂亮，大哥，你真了不起啊！」\u001b[0m \n",
      "\n",
      "△ 豬兩兄弟看到了 \n",
      "猪二哥：「哇，果然很漂亮，大哥，你真了不起啊！」\n",
      "\n",
      "=======================\n",
      "\u001b[31m可是豬小弟並不以為然，他說：「哥，你不擔心稻草屋會被風吹倒嗎？」\u001b[0m \n",
      "\n",
      "△ 豬弟弟不同意(轉身搖頭)， \n",
      "小弟：「哥，你不担心稻草屋会被风吹倒吗？」\n",
      "\n",
      "=======================\n",
      "\u001b[31m豬二哥想了想，說：「稻草屋會被風吹倒，那我就用木頭來蓋好了，木屋較重，不怕風吹。」\u001b[0m \n",
      "\n",
      "Scene 2 /time: None /location: 木屋\n",
      "\n",
      "猪二哥：「稻草屋会被风吹倒，那我就用木头来盖好了，木屋较重，不怕风吹。」\n",
      "\n",
      "=======================\n",
      "\u001b[31m豬二哥決定以後，「咚咚咚，咚咚咚！」他很認真的工作，一會兒敲敲釘子，一會兒鋸木頭。很快的，一棟木屋蓋好了。\u001b[0m \n",
      "\n",
      "\n",
      "「咚咚咚，咚咚咚！」\n",
      "△ 工作認真(雙手抱胸)，敲釘一會兒，鋸木，很快，房子蓋 \n",
      "=======================\n",
      "\u001b[31m豬二哥趕忙把哥哥和弟弟都請來，驕傲的說：「你們看，這麼漂亮的房子！而且釘得很牢固，不會被風吹倒，我真的好棒呀！」\u001b[0m \n",
      "\n",
      "△ 豬哥快趕去哥哥弟弟來，說(雙手插腰大笑) \n",
      "弟弟：「你们看，这么漂亮的房子！而且钉得很牢固，不会被风吹倒，我真的好棒呀！」\n",
      "\n",
      "=======================\n",
      "\u001b[31m豬小弟說：「木屋雖然不會被風吹倒，可是用力打，木頭會被打斷，房子就垮了。」\u001b[0m \n",
      "\n",
      "△ 豬弟弟 \n",
      "小弟：「木屋虽然不会被风吹倒，可是用力打，木头会被打断，房子就垮了。」\n",
      "\n",
      "=======================\n",
      "\u001b[31m「討厭！」豬二哥罵小弟說：「你以為你最聰明？看你搬磚頭搬一整天了，房子還沒蓋出來。笨蛋～～」\u001b[0m \n",
      "\n",
      "\n",
      "猪二哥：「讨厌！」\n",
      "△ 豬哥哥，兄弟， \n",
      "小弟：「你以为你最聪明？看你搬砖头搬一整天了，房子还没盖出来。笨蛋～～」\n",
      "\n",
      "=======================\n",
      "\u001b[31m豬小弟不慌不忙說：「我蓋房子雖然比你們慢，但是我要蓋的房子不怕風吹，也不怕敲打，紅磚房子最牢固了。」\u001b[0m \n",
      "\n",
      "Scene 3 /time: None /location: 紅磚房子\n",
      "△ 豬弟弟不要驚慌地說(拍胸脯點頭) \n",
      "小弟：「我盖房子虽然比你们慢，但是我要盖的房子不怕风吹，也不怕敲打，红砖房子最牢固了。」\n",
      "\n",
      "=======================\n",
      "\u001b[31m豬小弟不理會哥哥的嘲笑，他搬好了磚塊，又搬水泥，他把水泥和好了，開始堆砌磚塊，一塊一塊將抹上水泥的磚頭堆砌起來。豬小弟心理想：你們不要笑我，等我蓋好了，你們就知道了，我的房子比什麼都堅固，野狼來了我也不怕呢！\u001b[0m \n",
      "\n",
      "△ 搬磚，搬水泥，放水泥，開始堆積磚，一塊將水泥磚塗抹上堆積 \n",
      "=======================\n",
      "\u001b[31m豬小弟繼續加油工作，他趕呀趕，趕到天黑，月亮掛在天上了，他的紅磚房子才好不容易蓋好了。豬小弟正想休息，卻聽到了大野狼的吼叫聲。\u001b[0m \n",
      "\n",
      "Scene 4 /time: 天黑 /location: 紅磚房子\n",
      "△ 豬哥繼續加油，趕緊衝，衝，月亮掛在天上，他的磚房不蓋 \n",
      "=======================\n",
      "\u001b[31m豬小弟猛吸一口氣說：「幸好房子蓋好了，我不怕大野狼。」\u001b[0m \n",
      "\n",
      "△ 豬哥吸了口氣 \n",
      "小弟：「幸好房子盖好了，我不怕大野狼。」\n",
      "\n",
      "=======================\n",
      "\u001b[31m這時兩個豬哥哥也聽到了野狼的吼叫聲，怕得發抖，他們怕野狼來，所以整夜都不敢安心睡覺。\u001b[0m \n",
      "\n",
      "\n",
      "=======================\n",
      "\u001b[31m隔天，豬媽媽要三隻小豬到田裡工作，沒想到走到半路的時候，他們被一隻可怕的大野狼發現了，野狼一直跟蹤他們。野狼決定先吃豬大哥。\u001b[0m \n",
      "\n",
      "△ 那天，豬媽媽要三頭豬在野外工作，狼一直在跟踪 \n",
      "=======================\n",
      "\u001b[31m豬大哥剛回到家，就聽到大野狼的聲音：「砰砰砰！小豬朋友，快給我開門！」野狼叫門叫得好兇。豬大哥嚇得臉都白了，他趕緊拿一把大鎖，把門緊緊鎖了起來。可是野狼哈哈大笑說：「你這個大笨蛋，這種稻草屋，我吹一口氣就倒了。」他說完話，用力一吹，果然把稻草屋吹倒了，豬大哥嚇得直跑到豬二哥家。\u001b[0m \n",
      "\n",
      "Scene 5 /time: 天黑 /location: 稻草屋\n",
      "△ 小豬剛回到家 \n",
      "野狼：「砰砰砰！小猪朋友，快给我开门！」\n",
      "△ 狼叫門是這樣，豬哥讓他的臉(發抖)，趕緊拿鎖，緊緊鎖上門，狼笑 \n",
      "野狼：「你这个大笨蛋，这种稻草屋，我吹一口气就倒了。」\n",
      "△ 說完了，強行吹，肯定吹掉稻草屋，豬哥哥豬兄弟(發抖) \n",
      "=======================\n",
      "\u001b[31m「救命呀！」大哥慌慌張張跑進豬二哥的木屋子，趕忙把大門閂上，怕野狼闖進來。可是野狼吼叫說：「木頭屋子一樣擋不住我，我一定要把你吃掉！」\u001b[0m \n",
      "\n",
      "Scene 6 /time: 天黑 /location: 門閂上\n",
      "\n",
      "大哥：「救命呀！」\n",
      "△ 哥哥跑進了豬哥的家，趕緊把門關上，狼嚎 \n",
      "野狼：「木头屋子一样挡不住我，我一定要把你吃掉！」\n",
      "\n",
      "=======================\n",
      "\u001b[31m兩隻小豬怕得縮著身子擠在一起，頭上直冒冷汗。因為野狼怕把門打壞了，「砰～～」，門板發出吱吱吱的斷裂聲，兩隻小豬眼看野狼就要衝進來了，他們亂闖亂撞，結果撞倒了木屋子，他們直奔到豬小弟的家。野狼也一直在身後追趕他們。\u001b[0m \n",
      "\n",
      "Scene 7 /time: 天黑 /location: 木屋\n",
      "△ 頭上的汗水(發抖) \n",
      "小猪：「砰～～」\n",
      "△ 〜，門板讓人發出破裂的聲音，兩隻小豬看著狼會匆匆進去，他們砸了，結果撞倒了房子，他們直奔豬哥哥的家，狼群也一直追著 \n",
      "=======================\n",
      "\u001b[31m兩隻小豬逃呀逃呀，逃到小弟弟的家中。「弟弟，弟弟，小．．．．弟弟，野狼在我們．．身．．．後．．．」豬大哥上氣不接下氣的說：「快把門鎖緊，不然我們會被吃掉的。」豬小弟卻一點都不擔心，他說：「怕什麼？這麼堅固的磚屋，野狼進不來的。」\u001b[0m \n",
      "\n",
      "△ 兩隻豬逃離逃跑，逃離了兄弟的家 \n",
      "猪大哥：「弟弟，弟弟，小．．．．弟弟，野狼在我们．．身．．．后．．．」\n",
      "△ 豬喘不過氣來 \n",
      "大哥：「快把门锁紧，不然我们会被吃掉的。」\n",
      "\n",
      "小弟：「怕什么？这么坚固的砖屋，野狼进不来的。」\n",
      "\n",
      "=======================\n",
      "\u001b[31m很快的，野狼就追來了。他生氣的說：「死小豬，看我把你們的房子撞倒，你們就要被我吃掉了。」野狼說著說的開始撞牆了。「呀！～～」他使出全身力氣，向磚牆猛撞過去！\u001b[0m \n",
      "\n",
      "△ 很快，狼追，說(大罵) \n",
      "野狼：「死小猪，看我把你们的房子撞倒，你们就要被我吃掉了。」\n",
      "△ 狼開始撞牆 \n",
      "「呀！～～」\n",
      "△ 努力，撞到磚牆 \n",
      "=======================\n",
      "\u001b[31m「啪啦！」一聲，磚牆沒被撞倒，野狼的骨頭卻斷了，「哎唷，痛死我了，痛死我了！」野狼哭哭啼啼的回家去了。\u001b[0m \n",
      "\n",
      "\n",
      "野狼：「啪啦！」\n",
      "△ 〜，磚牆沒撞倒，狼骨碎 \n",
      "野狼：「哎唷，痛死我了，痛死我了！」\n",
      "△ 狼哭著回家 \n",
      "=======================\n",
      "\u001b[31m「萬歲！」三隻小豬很高興的叫起來。從此，他們三個兄弟住在一起，每天一起吃飯睡覺，也一起工作，日子過得很快樂，而且野狼一直沒再出現呢！\u001b[0m \n",
      "\n",
      "\n",
      "小猪：「万岁！」\n",
      "△ 三隻豬打電話(手舞足蹈)，從那時起，他們和三個兄弟住在一起，一起吃飯睡覺，還能一起工作，天(手舞足蹈)，狼還沒出現過 \n",
      "=======================\n"
     ]
    }
   ],
   "source": [
    "import copy as cp\n",
    "from termcolor import colored\n",
    "with open('./raw/三隻小豬.txt','r', encoding = 'utf8') as f:\n",
    "    txt = f.read()\n",
    "\n",
    "txt_split = txt.split('\\n')\n",
    "txt_tmp = []\n",
    "for t in txt_split:\n",
    "    if t != '':\n",
    "        txt_tmp.append(t)\n",
    "txt_split = txt_tmp\n",
    "\n",
    "dia_idx = 0\n",
    "tim_memory = None\n",
    "loc_memory = None\n",
    "scene = 0\n",
    "\n",
    "with StanfordCoreNLP(r'C:\\Program Files\\stanford-corenlp-full-2018-10-05') as nlp:\n",
    "    for li,line in enumerate(txt_split):\n",
    "        if li<len(foreword):\n",
    "            continue\n",
    "        print(colored(line,'red'),'\\n')\n",
    "        \n",
    "        pos = line.find('想：')\n",
    "        if pos != -1:\n",
    "            line = line[:pos]\n",
    "#         print('>extract result:')\n",
    "        dia_stack = []\n",
    "        change_scene = False\n",
    "        for lo in loc:\n",
    "            if lo in line and lo != loc_memory: \n",
    "                loc_memory = lo\n",
    "                change_scene = True\n",
    "            \n",
    "        for ti in tim:\n",
    "            if ti in line and tim != tim_memory:\n",
    "                tim_memory = ti\n",
    "                change_scene = True\n",
    "        if change_scene or scene == 0:\n",
    "            print('Scene',scene,'/time:',tim_memory,'/location:',loc_memory)\n",
    "            scene += 1 \n",
    "\n",
    "        for i in range(line.count('「' )):\n",
    "            if dia[dia_idx] == 'None':\n",
    "                  dia_stack.append(dia_h[dia_idx])          \n",
    "            else:\n",
    "                dia_stack.append(dia[dia_idx]+'：'+dia_h[dia_idx])\n",
    "            dia_idx+=1\n",
    "\n",
    "        s = rm_dialogues(line).split('#')\n",
    "        \n",
    "        #line befroe punctuation tokenizing\n",
    "        for i in range(len(s)):\n",
    "            s_lst = punc_split(s[i])\n",
    "            s_lst_trim = []\n",
    "            s_lst_emo = []\n",
    "            # Segments after punctuation tokenizing\n",
    "            \n",
    "            for seg in s_lst[:-1]:\n",
    "                \n",
    "                is_append = True\n",
    "                for fil in ['想','心','怕','聽','發現','決定','理會']:\n",
    "                    if fil in seg:\n",
    "                        is_append = False\n",
    "                        break\n",
    "                if is_append:\n",
    "                    act = emo2act(seg)\n",
    "                    s_lst_emo.append(act)\n",
    "                    seg+='〜'\n",
    "                    s_lst_trim.append(seg)\n",
    "            \n",
    "            s_lst = ','.join(s_lst_trim)\n",
    "\n",
    "            en_seg = zh2en(s_lst).lower() \n",
    "#                 print(s_lst)\n",
    "#                 print(en_seg)\n",
    "            tag =  nlp.pos_tag(en_seg)\n",
    "        \n",
    "            out_act = tag_simp(tag)\n",
    "#                 print('ori:',out_act)\n",
    "            if len(out_act) > 3 and out_act[-1]!= '說':\n",
    "                out_act = lst_replace_ch(out_act,s_lst_emo,'〜')\n",
    "                print('△',out_act,end = ' ')\n",
    "\n",
    "            print()\n",
    "            \n",
    "            #print dialogue if exist\n",
    "            if i<len(dia_stack):\n",
    "                if '想' not in dia_stack[i]:\n",
    "                    print(dia_stack[i])\n",
    "        print('=======================')\n",
    "#         break"
   ]
  },
  {
   "cell_type": "code",
   "execution_count": 50,
   "metadata": {},
   "outputs": [
    {
     "name": "stdout",
     "output_type": "stream",
     "text": [
      "豬豬噘起來，出門〜\n"
     ]
    },
    {
     "data": {
      "text/plain": [
       "[8]"
      ]
     },
     "execution_count": 50,
     "metadata": {},
     "output_type": "execute_result"
    }
   ],
   "source": [
    "print(out_act)\n",
    "find_ch_idx(out_act,'〜')"
   ]
  },
  {
   "cell_type": "code",
   "execution_count": null,
   "metadata": {},
   "outputs": [],
   "source": [
    "# zh2en('有一天了，')\n",
    "zh2en('稻草屋很快的蓋好了，豬大哥好得意，他馬上去找兩個弟弟來，很驕傲的對他們說')"
   ]
  },
  {
   "cell_type": "code",
   "execution_count": 18,
   "metadata": {
    "collapsed": true
   },
   "outputs": [
    {
     "name": "stdout",
     "output_type": "stream",
     "text": [
      "['從前', '，', '有', '一', '隻', '胖胖', '的', '豬媽媽', '，', '她', '生了', '三隻小豬', '。', '最大', '的', '小豬', '：', '豬大哥', '很', '貪睡', '，', '很', '懶惰', '。', '一天到晚', '都', '在', '打瞌睡', '。', '第二', '個', '小豬', '：', '豬二', '哥', '很', '愛吃', '，', '他', '也', '很', '懶惰', '。', '幸好', '最', '小', '的', '小豬', '：', '豬小弟', '是', '個勤勞', '的', '好', '孩子', '。', '常常', '努力', '的', '工作', '。']\n",
      "(ROOT\n",
      "  (IP\n",
      "    (IP\n",
      "      (ADVP (AD 從前))\n",
      "      (PU ，)\n",
      "      (VP (VE 有)\n",
      "        (NP\n",
      "          (QP (CD 一)\n",
      "            (CLP (M 隻)))\n",
      "          (CP\n",
      "            (IP\n",
      "              (VP (VA 胖胖)))\n",
      "            (DEC 的))\n",
      "          (NP (NN 豬媽媽)))))\n",
      "    (PU ，)\n",
      "    (IP\n",
      "      (NP (PN 她))\n",
      "      (VP\n",
      "        (VSB (VV 生了) (VV 三隻小豬))))\n",
      "    (PU 。)\n",
      "    (IP\n",
      "      (NP\n",
      "        (DNP\n",
      "          (ADJP (JJ 最大))\n",
      "          (DEG 的))\n",
      "        (NP (NN 小豬)))\n",
      "      (PU ：)\n",
      "      (IP\n",
      "        (NP (NN 豬大哥))\n",
      "        (VP\n",
      "          (VP\n",
      "            (ADVP (AD 很))\n",
      "            (VP (VV 貪睡)))\n",
      "          (PU ，)\n",
      "          (VP\n",
      "            (ADVP (AD 很))\n",
      "            (VP (VV 懶惰))))))\n",
      "    (PU 。)\n",
      "    (IP\n",
      "      (VP\n",
      "        (ADVP (AD 一天到晚))\n",
      "        (ADVP (AD 都))\n",
      "        (ADVP (AD 在))\n",
      "        (VP (VV 打瞌睡))))\n",
      "    (PU 。)\n",
      "    (IP\n",
      "      (NP\n",
      "        (NP\n",
      "          (QP (OD 第二))\n",
      "          (NP (NN 個)))\n",
      "        (NP (NN 小豬)))\n",
      "      (PU ：)\n",
      "      (IP\n",
      "        (NP (NN 豬二))\n",
      "        (NP (NR 哥))\n",
      "        (VP\n",
      "          (ADVP (AD 很))\n",
      "          (VP (VV 愛吃)))))\n",
      "    (PU ，)\n",
      "    (IP\n",
      "      (NP (PN 他))\n",
      "      (VP\n",
      "        (ADVP (AD 也))\n",
      "        (ADVP (AD 很))\n",
      "        (VP (VV 懶惰))))\n",
      "    (PU 。)\n",
      "    (IP\n",
      "      (ADVP (AD 幸好))\n",
      "      (NP\n",
      "        (CP\n",
      "          (IP\n",
      "            (VP\n",
      "              (ADVP (AD 最))\n",
      "              (VP (VA 小))))\n",
      "          (DEC 的))\n",
      "        (NP (NN 小豬)))\n",
      "      (PU ：)\n",
      "      (NP (NN 豬小弟))\n",
      "      (VP (VC 是)\n",
      "        (NP\n",
      "          (DNP\n",
      "            (NP (NN 個勤勞))\n",
      "            (DEG 的))\n",
      "          (ADJP (JJ 好))\n",
      "          (NP (NN 孩子)))))\n",
      "    (PU 。)\n",
      "    (NP\n",
      "      (CP\n",
      "        (IP\n",
      "          (VP\n",
      "            (ADVP (AD 常常))\n",
      "            (VP (VV 努力))))\n",
      "        (DEC 的))\n",
      "      (NP (NN 工作)))\n",
      "    (PU 。)))\n"
     ]
    }
   ],
   "source": [
    "# _*_coding:utf-8_*_\n",
    "\n",
    "# Other human languages support, e.g. Chinese\n",
    "sentence = '從前，有一隻胖胖的豬媽媽，她生了三隻小豬。最大的小豬：豬大哥很貪睡，很懶惰。一天到晚都在打瞌睡。第二個小豬：豬二哥很愛吃，他也很懶惰。幸好最小的小豬：豬小弟是個勤勞的好孩子。常常努力的工作。'\n",
    "\n",
    "with StanfordCoreNLP(r'E:\\stanford-corenlp-full-2018-10-05', lang='zh') as nlp:\n",
    "    print(nlp.word_tokenize(sentence))\n",
    "#     print(nlp.pos_tag(sentence))\n",
    "#     print(nlp.ner(sentence))\n",
    "    print(nlp.parse(sentence))\n",
    "#     print(nlp.dependency_parse(sentence))"
   ]
  }
 ],
 "metadata": {
  "kernelspec": {
   "display_name": "Python 3",
   "language": "python",
   "name": "python3"
  },
  "language_info": {
   "codemirror_mode": {
    "name": "ipython",
    "version": 3
   },
   "file_extension": ".py",
   "mimetype": "text/x-python",
   "name": "python",
   "nbconvert_exporter": "python",
   "pygments_lexer": "ipython3",
   "version": "3.6.5"
  }
 },
 "nbformat": 4,
 "nbformat_minor": 2
}
