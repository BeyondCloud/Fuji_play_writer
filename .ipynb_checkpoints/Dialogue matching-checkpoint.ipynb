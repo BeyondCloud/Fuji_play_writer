{
 "cells": [
  {
   "cell_type": "code",
   "execution_count": 3,
   "metadata": {},
   "outputs": [],
   "source": [
    "import http.client\n",
    "import hashlib\n",
    "import json\n",
    "import urllib\n",
    "import random\n",
    "import time\n",
    "from langconv import *\n",
    "\n",
    "def dic2str(N_dic,token = '/'):\n",
    "    lst = []\n",
    "    for key, value in N_dic.items():\n",
    "        lst.append(key)\n",
    "    return token.join(lst)\n",
    "def dic2lst(N_dic):\n",
    "    lst = []\n",
    "    for key, value in N_dic.items():\n",
    "        lst.append(key)\n",
    "    return lst\n",
    "def zh2en(content,token = ' / '):\n",
    "    \n",
    "    if isinstance(content, str):\n",
    "        return translator.translate(content, dest='en').text\n",
    "    elif isinstance(content, dict):\n",
    "        txt = dic2lst(content)\n",
    "        lst_out = []\n",
    "        for t in txt:\n",
    "            lst_out.append(translator.translate(t, dest='en').text)  \n",
    "        return lst_out\n",
    "    else:\n",
    "        print('data type not support!')\n",
    "        \n",
    "def en2zh(content):\n",
    "    return translator.translate('cow', dest='zh-tw').text\n",
    "\n",
    "def toSimplified(s):\n",
    "    return Converter('zh-hans').convert(s)\n",
    "def toTraditional(s):\n",
    "    return Converter('zh-hant').convert(s)\n",
    "\n",
    "# print(t1)\n",
    "# print(t2)"
   ]
  },
  {
   "cell_type": "code",
   "execution_count": 1,
   "metadata": {},
   "outputs": [
    {
     "name": "stdout",
     "output_type": "stream",
     "text": [
      "27 dialogues found\n"
     ]
    }
   ],
   "source": [
    "def rm_dialogues(s,token1 = '“',token2 = '”'):\n",
    "    lst1 = [pos for pos, char in enumerate(s) if char == token1]\n",
    "    lst2 = [pos for pos, char in enumerate(s) if char == token2]\n",
    "    print(str(len(lst1))+' dialogues found')\n",
    "    if(len(lst1) != len(lst1)):\n",
    "        print('dialogue error: not equal “ ” Apostrophe count')\n",
    "        return\n",
    "    for i in range(len(lst1)):\n",
    "        s = s[0: lst1[i]:] + '#'*(lst2[i]-lst1[i]+1)+ s[lst2[i] + 1::]\n",
    "    return s,lst1,lst2\n",
    "\n",
    "f = open('./raw/三隻小豬.txt','r', encoding = 'utf8')\n",
    "txt = f.read()\n",
    "txt_nd,lst1,lst2 = rm_dialogues(txt,\"「\",\"」\")\n"
   ]
  },
  {
   "cell_type": "code",
   "execution_count": 4,
   "metadata": {},
   "outputs": [
    {
     "name": "stdout",
     "output_type": "stream",
     "text": [
      "从前#有一只胖胖的猪妈妈#她生了三只小猪#最大的小猪#猪大哥很贪睡#很懒惰#一天到晚都在打瞌睡#第二个小猪#猪二哥很爱吃#他也很懒惰#幸好最小的小猪#猪小弟是个勤劳的好孩子#常常努力的工作#有一天#猪妈妈告诉他们说#猪大哥噘起嘴#懒洋洋走出家门#猪大哥想一想说#稻草屋很快的盖好了#猪大哥好得意#他马上去找两个弟弟来#很骄傲的对他们说##猪二哥看见说#可是猪小弟并不以为然#他说#猪二哥想了想#说#猪二哥决定以后#他很认真的工作#一会儿敲敲钉子#一会儿锯木头#很快的#一栋木屋盖好了#猪二哥赶忙把哥哥和弟弟都请来#骄傲的说#猪小弟说##猪二哥骂小弟说#猪小弟不慌不忙说#猪小弟不理会哥哥的嘲笑#他搬好了砖块#又搬水泥#他把水泥和好了#开始堆砌砖块#一块一块将抹上水泥的砖头堆砌起来#猪小弟心理想#你们不要笑我#等我盖好了#你们就知道了#我的房子比什么都坚固#野狼来了我也不怕呢#猪小弟继续加油工作#他赶呀赶#赶到天黑#月亮挂在天上了#他的红砖房子才好不容易盖好了#猪小弟正想休息#却听到了大野狼的吼叫声#猪小弟猛吸一口气说#这时两个猪哥哥也听到了野狼的吼叫声#怕得发抖#他们怕野狼来#所以整夜都不敢安心睡觉#隔天#猪妈妈要三只小猪到田里工作#没想到走到半路的时候#他们被一只可怕的大野狼发现了#野狼一直跟踪他们#野狼决定先吃猪大哥#猪大哥刚回到家#就听到大野狼的声音#野狼叫门叫得好凶#猪大哥吓得脸都白了#他赶紧拿一把大锁#把门紧紧锁了起来#可是野狼哈哈大笑说#他说完话#用力一吹#果然把稻草屋吹倒了#猪大哥吓得直跑到猪二哥家##大哥慌慌张张跑进猪二哥的木屋子#赶忙把大门闩上#怕野狼闯进来#可是野狼吼叫说#两只小猪怕得缩着身子挤在一起#头上直冒冷汗#因为野狼怕把门打坏了#门板发出吱吱吱的断裂声#两只小猪眼看野狼就要冲进来了#他们乱闯乱撞#结果撞倒了木屋子#他们直奔到猪小弟的家#野狼也一直在身后追赶他们#两只小猪逃呀逃呀#逃到小弟弟的家中#猪大哥上气不接下气的说#猪小弟却一点都不担心#他说#很快的#野狼就追来了#他生气的说#野狼说着说的开始撞墙了#他使出全身力气#向砖墙猛撞过去##一声#砖墙没被撞倒#野狼的骨头却断了#野狼哭哭啼啼的回家去了##三只小猪很高兴的叫起来#从此#他们三个兄弟住在一起#每天一起吃饭睡觉#也一起工作#日子过得很快乐#而且野狼一直没再出现呢#\n"
     ]
    }
   ],
   "source": [
    "import re\n",
    "import zhon\n",
    "from zhon.hanzi import punctuation\n",
    "\n",
    "\n",
    "punc = \"\"\"！？｡。＂＃#＄％＆＇（）＊＋－／：；，＜＝\"＞＠［＼］＾＿｀｛｜｝～｟｠｢｣､、〃》「」『』【】 〔〕〖〗〘〙〚〛〜〝〞〟〰–—''‛“”„‟…‧﹏\"\"\"\n",
    "re_punc = \"[{}]+\".format(punc)\n",
    "clean_txt = re.sub(re_punc, \"#\", txt_nd)\n",
    "clean_txt = re.sub(\"\\n\", \"\", clean_txt)\n",
    "clean_txt = toSimplified(clean_txt)\n",
    "print(clean_txt)"
   ]
  },
  {
   "cell_type": "code",
   "execution_count": 15,
   "metadata": {},
   "outputs": [],
   "source": [
    "\n",
    "# for line in txt:\n",
    "#     print(line)\n",
    "tmp = txt.split('\\n')\n",
    "txt_split = []\n",
    "for t in tmp:\n",
    "    if len(t) >= 2:\n",
    "        txt_split.append(t)\n"
   ]
  },
  {
   "cell_type": "code",
   "execution_count": 23,
   "metadata": {},
   "outputs": [
    {
     "data": {
      "text/plain": [
       "[4, 9]"
      ]
     },
     "execution_count": 23,
     "metadata": {},
     "output_type": "execute_result"
    }
   ],
   "source": [
    "s = 'shak#spea#e'\n",
    "c = '#'\n",
    "def find_ch_idx(txt,token):\n",
    "     return [pos for pos, char in enumerate(txt) if char == token]\n",
    "find_ch_idx(s,c)"
   ]
  },
  {
   "cell_type": "code",
   "execution_count": 50,
   "metadata": {},
   "outputs": [],
   "source": [
    "per = ['豬大哥','大哥','豬二哥','豬小弟','豬媽媽','大野狼','野狼']"
   ]
  },
  {
   "cell_type": "code",
   "execution_count": 64,
   "metadata": {},
   "outputs": [
    {
     "data": {
      "text/plain": [
       "[8, 14]"
      ]
     },
     "execution_count": 64,
     "metadata": {},
     "output_type": "execute_result"
    }
   ],
   "source": [
    "import re\n",
    "s = 'This is laugh laugh'\n",
    "c = 'laugh'\n",
    "def find_all_substr_idx(s,c):\n",
    "    return [m.start() for m in re.finditer(c, s)]\n",
    "find_all_substr_idx(s,c)"
   ]
  },
  {
   "cell_type": "code",
   "execution_count": 18,
   "metadata": {},
   "outputs": [],
   "source": [
    "line_with_dialog = []\n",
    "for line in txt_split:\n",
    "    if '「' in line:\n",
    "        line_with_dialog.append(line)"
   ]
  },
  {
   "cell_type": "code",
   "execution_count": 83,
   "metadata": {
    "scrolled": false
   },
   "outputs": [
    {
     "name": "stdout",
     "output_type": "stream",
     "text": [
      "有一天，豬媽媽告訴他們說：「你們都長大了，應該自己蓋房子，自己住，自己種田，自己生活。我要你們自己照顧自己。」\n",
      "「你們都長大了，應該自己蓋房子，自己住，自己種田，自己生活。我要你們自己照顧自己。\n",
      "> 豬媽媽\n",
      "=============\n",
      "豬大哥噘起嘴，懶洋洋走出家門。「咿咿．．．．．好討厭哦！」豬大哥想一想說：「蓋一棟稻草屋吧，那最簡單了。」\n",
      "「咿咿．．．．．好討厭哦！\n",
      "> 豬大哥\n",
      "「蓋一棟稻草屋吧，那最簡單了。\n",
      "> 大哥\n",
      "=============\n",
      "稻草屋很快的蓋好了，豬大哥好得意，他馬上去找兩個弟弟來，很驕傲的對他們說：「我的房子蓋好了，很漂亮吧～，你們也快一點蓋吧！」\n",
      "「我的房子蓋好了，很漂亮吧～，你們也快一點蓋吧！\n",
      "> 大哥\n",
      "=============\n",
      "豬二哥看見說：「哇，果然很漂亮，大哥，你真了不起啊！」\n",
      "「哇，果然很漂亮，大哥，你真了不起啊！\n",
      "> 豬二哥\n",
      "=============\n",
      "可是豬小弟並不以為然，他說：「哥，你不擔心稻草屋會被風吹倒嗎？」\n",
      "「哥，你不擔心稻草屋會被風吹倒嗎？\n",
      "> 豬小弟\n",
      "=============\n",
      "豬二哥想了想，說：「稻草屋會被風吹倒，那我就用木頭來蓋好了，木屋較重，不怕風吹。」\n",
      "「稻草屋會被風吹倒，那我就用木頭來蓋好了，木屋較重，不怕風吹。\n",
      "> 豬二哥\n",
      "=============\n",
      "豬二哥決定以後，「咚咚咚，咚咚咚！」他很認真的工作，一會兒敲敲釘子，一會兒鋸木頭。很快的，一棟木屋蓋好了。\n",
      "「咚咚咚，咚咚咚！\n",
      "> 豬二哥\n",
      "=============\n",
      "豬二哥趕忙把哥哥和弟弟都請來，驕傲的說：「你們看，這麼漂亮的房子！而且釘得很牢固，不會被風吹倒，我真的好棒呀！」\n",
      "「你們看，這麼漂亮的房子！而且釘得很牢固，不會被風吹倒，我真的好棒呀！\n",
      "> 豬二哥\n",
      "=============\n",
      "豬小弟說：「木屋雖然不會被風吹倒，可是用力打，木頭會被打斷，房子就垮了。」\n",
      "「木屋雖然不會被風吹倒，可是用力打，木頭會被打斷，房子就垮了。\n",
      "> 豬小弟\n",
      "=============\n",
      "「討厭！」豬二哥罵小弟說：「你以為你最聰明？看你搬磚頭搬一整天了，房子還沒蓋出來。笨蛋～～」\n",
      "「討厭！\n",
      "> 豬二哥\n",
      "「你以為你最聰明？看你搬磚頭搬一整天了，房子還沒蓋出來。笨蛋～～\n",
      "> 豬二哥\n",
      "=============\n",
      "豬小弟不慌不忙說：「我蓋房子雖然比你們慢，但是我要蓋的房子不怕風吹，也不怕敲打，紅磚房子最牢固了。」\n",
      "「我蓋房子雖然比你們慢，但是我要蓋的房子不怕風吹，也不怕敲打，紅磚房子最牢固了。\n",
      "> 豬小弟\n",
      "=============\n",
      "豬小弟猛吸一口氣說：「幸好房子蓋好了，我不怕大野狼。」\n",
      "「幸好房子蓋好了，我不怕大野狼。\n",
      "> 豬小弟\n",
      "=============\n",
      "豬大哥剛回到家，就聽到大野狼的聲音：「砰砰砰！小豬朋友，快給我開門！」野狼叫門叫得好兇。豬大哥嚇得臉都白了，他趕緊拿一把大鎖，把門緊緊鎖了起來。可是野狼哈哈大笑說：「你這個大笨蛋，這種稻草屋，我吹一口氣就倒了。」他說完話，用力一吹，果然把稻草屋吹倒了，豬大哥嚇得直跑到豬二哥家。\n",
      "「砰砰砰！小豬朋友，快給我開門！\n",
      "> 野狼\n",
      "「你這個大笨蛋，這種稻草屋，我吹一口氣就倒了。\n",
      "> 野狼\n",
      "=============\n",
      "「救命呀！」大哥慌慌張張跑進豬二哥的木屋子，趕忙把大門閂上，怕野狼闖進來。可是野狼吼叫說：「木頭屋子一樣擋不住我，我一定要把你吃掉！」\n",
      "「救命呀！\n",
      "> 大哥\n",
      "「木頭屋子一樣擋不住我，我一定要把你吃掉！\n",
      "> 野狼\n",
      "=============\n",
      "兩隻小豬怕得縮著身子擠在一起，頭上直冒冷汗。因為野狼怕把門打壞了，「砰～～」，門板發出吱吱吱的斷裂聲，兩隻小豬眼看野狼就要衝進來了，他們亂闖亂撞，結果撞倒了木屋子，他們直奔到豬小弟的家。野狼也一直在身後追趕他們。\n",
      "「砰～～\n",
      "> 豬小弟\n",
      "=============\n",
      "兩隻小豬逃呀逃呀，逃到小弟弟的家中。「弟弟，弟弟，小．．．．弟弟，野狼在我們．．身．．．後．．．」豬大哥上氣不接下氣的說：「快把門鎖緊，不然我們會被吃掉的。」豬小弟卻一點都不擔心，他說：「怕什麼？這麼堅固的磚屋，野狼進不來的。」\n",
      "「弟弟，弟弟，小．．．．弟弟，野狼在我們．．身．．．後．．．\n",
      "> 豬大哥\n",
      "「快把門鎖緊，不然我們會被吃掉的。\n",
      "> 大哥\n",
      "「怕什麼？這麼堅固的磚屋，野狼進不來的。\n",
      "> 豬小弟\n",
      "=============\n",
      "很快的，野狼就追來了。他生氣的說：「死小豬，看我把你們的房子撞倒，你們就要被我吃掉了。」野狼說著說的開始撞牆了。「呀！～～」他使出全身力氣，向磚牆猛撞過去！\n",
      "「死小豬，看我把你們的房子撞倒，你們就要被我吃掉了。\n",
      "> 野狼\n",
      "「呀！～～\n",
      "> 野狼\n",
      "=============\n",
      "「啪啦！」一聲，磚牆沒被撞倒，野狼的骨頭卻斷了，「哎唷，痛死我了，痛死我了！」野狼哭哭啼啼的回家去了。\n",
      "「啪啦！\n",
      "> 野狼\n",
      "「哎唷，痛死我了，痛死我了！\n",
      "> 野狼\n",
      "=============\n",
      "「萬歲！」三隻小豬很高興的叫起來。從此，他們三個兄弟住在一起，每天一起吃飯睡覺，也一起工作，日子過得很快樂，而且野狼一直沒再出現呢！\n",
      "「萬歲！\n",
      "> 野狼\n",
      "=============\n"
     ]
    }
   ],
   "source": [
    "candid = None\n",
    "    \n",
    "for line in line_with_dialog:\n",
    "    print(line)\n",
    "    \n",
    "    heads = find_ch_idx(line,'「')\n",
    "    N_dialog = len(heads)\n",
    "    tails = find_ch_idx(line,'」')\n",
    "    heads = heads + [len(line)]\n",
    "    tails = [0]+tails\n",
    "    \n",
    "    for i in range(N_dialog):\n",
    "        #search before the dialogue\n",
    "        print(line[heads[i]:tails[i+1]])\n",
    "        if heads[i] !=0 and line[heads[i]-1] == '：':\n",
    "            s = line[tails[i]:heads[i]]\n",
    "            candid_pos = 0\n",
    "\n",
    "            for p in per:\n",
    "                idx = find_all_substr_idx(s,p)\n",
    "                if len(idx) != 0:\n",
    "                    if idx[-1] >= candid_pos:\n",
    "                        candid = p\n",
    "                        candid_pos = idx[-1]\n",
    "                        \n",
    "            print('>',candid)\n",
    "                    \n",
    "        #search after the dialogue\n",
    "        else:\n",
    "            s = line[tails[i+1]:heads[i+1]]\n",
    "            candid_pos = 1000\n",
    "#             candid = None\n",
    "            for p in per:\n",
    "                idx = find_all_substr_idx(s,p)\n",
    "                if len(idx) != 0:\n",
    "                    if idx[-1] <= candid_pos:\n",
    "                        candid = p\n",
    "                        candid_pos = idx[0]                   \n",
    "            print('>',candid)            \n",
    "\n",
    "    \n",
    "    print('=============')"
   ]
  },
  {
   "cell_type": "markdown",
   "metadata": {},
   "source": [
    "# Precision: 26/27\n",
    "# recall: 27/27"
   ]
  }
 ],
 "metadata": {
  "kernelspec": {
   "display_name": "Python 3",
   "language": "python",
   "name": "python3"
  },
  "language_info": {
   "codemirror_mode": {
    "name": "ipython",
    "version": 3
   },
   "file_extension": ".py",
   "mimetype": "text/x-python",
   "name": "python",
   "nbconvert_exporter": "python",
   "pygments_lexer": "ipython3",
   "version": "3.6.5"
  }
 },
 "nbformat": 4,
 "nbformat_minor": 2
}
