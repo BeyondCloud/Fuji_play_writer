{
 "cells": [
  {
   "cell_type": "code",
   "execution_count": 3,
   "metadata": {},
   "outputs": [
    {
     "name": "stderr",
     "output_type": "stream",
     "text": [
      "E:\\Anaconda\\lib\\site-packages\\gensim\\matutils.py:737: FutureWarning: Conversion of the second argument of issubdtype from `int` to `np.signedinteger` is deprecated. In future, it will be treated as `np.int32 == np.dtype(int).type`.\n",
      "  if np.issubdtype(vec.dtype, np.int):\n"
     ]
    },
    {
     "data": {
      "text/plain": [
       "0.6375303"
      ]
     },
     "execution_count": 3,
     "metadata": {},
     "output_type": "execute_result"
    }
   ],
   "source": [
    "import gensim\n",
    "model = gensim.models.KeyedVectors.load_word2vec_format('GoogleNews-vectors-negative300.bin',binary=True)\n",
    "model.similarity('france', 'spain')"
   ]
  },
  {
   "cell_type": "code",
   "execution_count": 19,
   "metadata": {},
   "outputs": [
    {
     "name": "stderr",
     "output_type": "stream",
     "text": [
      "E:\\Anaconda\\lib\\site-packages\\gensim\\matutils.py:737: FutureWarning: Conversion of the second argument of issubdtype from `int` to `np.signedinteger` is deprecated. In future, it will be treated as `np.int32 == np.dtype(int).type`.\n",
      "  if np.issubdtype(vec.dtype, np.int):\n"
     ]
    },
    {
     "data": {
      "text/plain": [
       "0.29503742"
      ]
     },
     "execution_count": 19,
     "metadata": {},
     "output_type": "execute_result"
    }
   ],
   "source": [
    "model.similarity('water', 'beer')"
   ]
  },
  {
   "cell_type": "code",
   "execution_count": 14,
   "metadata": {},
   "outputs": [
    {
     "name": "stdout",
     "output_type": "stream",
     "text": [
      "十二生肖的故事.txt\n",
      "奇怪的鏡子.txt\n",
      "守株待兔.txt\n",
      "小公主和蛇.txt\n",
      "小紅帽.txt\n",
      "小蝌蚪找媽媽.txt\n",
      "小馬過河.txt\n",
      "狐假虎威.txt\n",
      "睡美人.txt\n",
      "誰跟小羚羊去避暑.txt\n",
      "龜兔賽跑.txt\n"
     ]
    }
   ],
   "source": [
    "import os\n",
    "lst = []\n",
    "for dirPath, dirNames, fileNames in os.walk(\"./raw\"):\n",
    "    for f in fileNames:\n",
    "        print(f)\n",
    "        lst.append(os.path.join(dirPath, f))\n",
    "#         print(os.path.join(dirPath, f))"
   ]
  },
  {
   "cell_type": "code",
   "execution_count": 94,
   "metadata": {},
   "outputs": [
    {
     "name": "stdout",
     "output_type": "stream",
     "text": [
      "1 dialogues found\n"
     ]
    },
    {
     "data": {
      "text/plain": [
       "'fuck#####'"
      ]
     },
     "execution_count": 94,
     "metadata": {},
     "output_type": "execute_result"
    }
   ],
   "source": [
    "def rm_dialogues(s):\n",
    "    lst1 = [pos for pos, char in enumerate(s) if char == '“']\n",
    "    lst2 = [pos for pos, char in enumerate(s) if char == '”']\n",
    "    print(str(len(lst1))+' dialogues found')\n",
    "    if(len(lst1) != len(lst1)):\n",
    "        print('dialogue error: not equal “ ” Apostrophe count')\n",
    "        return\n",
    "    for i in range(len(lst1)):\n",
    "        s = s[0: lst1[i]:] + '#'*(lst2[i]-lst1[i]+1)+ s[lst2[i] + 1::]\n",
    "    return s\n",
    "\n",
    "rm_dialogues('fuck“you”')\n"
   ]
  },
  {
   "cell_type": "code",
   "execution_count": 92,
   "metadata": {},
   "outputs": [
    {
     "data": {
      "text/plain": [
       "'aaaaa'"
      ]
     },
     "execution_count": 92,
     "metadata": {},
     "output_type": "execute_result"
    }
   ],
   "source": [
    "s = \"#\"*5\n",
    "s"
   ]
  },
  {
   "cell_type": "code",
   "execution_count": 95,
   "metadata": {},
   "outputs": [
    {
     "name": "stdout",
     "output_type": "stream",
     "text": [
      "24 dialogues found\n"
     ]
    }
   ],
   "source": [
    "\n",
    "f = open('./raw/小紅帽.txt','r', encoding = 'utf8')\n",
    "txt = f.read()\n",
    "txt_nd = rm_dialogues(txt)"
   ]
  },
  {
   "cell_type": "code",
   "execution_count": 96,
   "metadata": {},
   "outputs": [
    {
     "name": "stdout",
     "output_type": "stream",
     "text": [
      "從前有個可愛的小姑娘，有一次，奶奶送給她一頂小紅帽，戴在她的頭上很漂亮。從此，大家都叫她#####。\n",
      "一天早上，媽媽對小紅帽說：###############################################################################\n",
      "小紅帽對媽媽說：###############說完小紅帽就開心地走了。\n",
      "小紅帽剛走進森林就碰到一條狼。小紅帽不知道狼是壞人，所以一點也不怕它。\n",
      "狼說：#########\n",
      "小紅帽說：#########\n",
      "################\n",
      "#########################\n",
      "狼問：###############\n",
      "小紅帽說：##########################\n",
      "狼在想：#################################於是它對小紅帽說：######################################\n",
      "小紅帽想：#################################於是她離開大路，走進林子去採花。這時候，狼跑到奶奶家，敲了敲門。\n",
      "奶奶問：######\n",
      "狼捏著鼻子說：########################\n",
      "奶奶大聲說：########################################\n",
      "狼拉開門走了進來，他衝到奶奶床前，把她吞進了肚子。然後她穿上奶奶的衣服，戴上她的帽子，躺在床上，還拉上了簾子。\n",
      "過了一會兒，小紅帽來到了奶奶家，門沒有關，小紅帽直接走了進去，大聲說：######她走到床前拉開簾子，只見奶奶躺在床上，帽子把臉都遮住了。\n",
      "小紅帽說：################\n",
      "狼說：################\n",
      "小紅帽又問：##################\n",
      "###############\n",
      "###############\n",
      "###############\n",
      "##################\n",
      "狼說：############說完他就從床上跳起來，把小紅帽吞進了肚子，狼吃飽就躺到床上睡著了。\n",
      "一位獵人正好從屋前走過，看奶奶的屋子的門是打開了，於是他走進去看看，看見狼躺在床上，肚子還在動，於是，獵人起一把剪刀，狼的肚子剪開了。\n",
      "小紅帽和奶奶都被救了出來，這時候獵人搬來幾塊大石頭，塞進狼的肚子。狼醒來之後想逃走，可是那些石頭太重了，它剛站起來就跌到在地，摔死了。\n",
      "他們高興極了，奶奶吃了小紅帽帶來的蛋糕和酒，感覺好多了。\n"
     ]
    }
   ],
   "source": [
    "print(txt_nd)"
   ]
  },
  {
   "cell_type": "code",
   "execution_count": 68,
   "metadata": {},
   "outputs": [
    {
     "name": "stdout",
     "output_type": "stream",
     "text": [
      "This is a  sample string\n"
     ]
    }
   ],
   "source": [
    "strObj = \"This is a “aaa” sample string\"\n",
    "start = 10\n",
    "stop = 14\n",
    "\n",
    "strObj = strObj[0: start:] + strObj[stop + 1::]\n",
    "print(strObj)"
   ]
  },
  {
   "cell_type": "markdown",
   "metadata": {},
   "source": [
    "# find all  “ ” idx"
   ]
  },
  {
   "cell_type": "code",
   "execution_count": 65,
   "metadata": {},
   "outputs": [
    {
     "name": "stdout",
     "output_type": "stream",
     "text": [
      "24\n",
      "24\n"
     ]
    }
   ],
   "source": [
    "s = txt\n",
    "lst1 = [pos for pos, char in enumerate(s) if char == '“']\n",
    "lst2 = [pos for pos, char in enumerate(s) if char == '”']\n",
    "print(len(lst1))\n",
    "print(len(lst2))\n",
    "\n",
    "if(len(lst1) != len(lst1)):\n",
    "    print('dialogue error: not equal “ ” Apostrophe count')"
   ]
  },
  {
   "cell_type": "markdown",
   "metadata": {},
   "source": [
    "# Print all dialogue"
   ]
  },
  {
   "cell_type": "code",
   "execution_count": 72,
   "metadata": {},
   "outputs": [
    {
     "name": "stdout",
     "output_type": "stream",
     "text": [
      "“小紅帽”\n",
      "“來，小紅帽，這裡有一塊蛋糕和一瓶酒，奶奶生病了，快給奶奶送去，在路上要好好走，不要跑，也不要離開大路，不然你會摔跤的，到奶奶家的時候，別忘了說'早上好'。”\n",
      "“我會小心的，我去看奶奶啦！”\n",
      "“你好，小紅帽！”\n",
      "“你好，狼先生。”\n",
      "“小紅帽，這麼早要到哪裡去呀？”\n",
      "“我要到奶奶家去。奶奶病了，我給她帶了蛋糕和酒。”\n",
      "“你奶奶住在哪裡呀，小紅帽？”\n",
      "“在森林裡，她的房子就在三棵大樹下，你一定知道的。”\n",
      "“這個小孩白白的，味道肯定比那老太婆要好。我要把她們兩個都吃掉。”\n",
      "“小紅帽，你看周圍這些花多麼美麗啊，應該採點給你的奶奶，她一定會很開心的。”\n",
      "“是啊，這些花這麼漂亮，我該採一把鮮花給奶奶，她一定會很高興地。”\n",
      "“是誰呀？”\n",
      "“我是小紅帽。我給您送蛋糕和酒來了，快開門哪。”\n",
      "“哦，是我可愛的小紅帽啊，你拉一下門就行了，門沒有關，我身上沒有力氣，起不來。”\n",
      "“早上好！”\n",
      "“奶奶，您的耳朵怎麼這樣大呀？”\n",
      "“為了更好地聽你說話呀，乖乖。”\n",
      "“可是奶奶，你的眼睛怎麼這樣大呀？”\n",
      "“為了更清楚地看你呀，乖乖。”\n",
      "“奶奶，你的手怎麼這樣大呀？”\n",
      "“可以更好地抱著你呀，乖乖。”\n",
      "“奶奶，你的嘴巴怎麼大得很嚇人呀？”\n",
      "“可以一口把你吃掉呀！”\n"
     ]
    }
   ],
   "source": [
    "for i in range(len(lst1)):\n",
    "    print(txt[lst1[i]:lst2[i]+1])"
   ]
  },
  {
   "cell_type": "markdown",
   "metadata": {},
   "source": [
    "# remove strings between “”"
   ]
  },
  {
   "cell_type": "code",
   "execution_count": null,
   "metadata": {
    "collapsed": true
   },
   "outputs": [],
   "source": [
    "#  characters, the events, the locations,time,actions (optional: relation among characters)\n",
    "#  who speak to who\n",
    "# recall precision of 人名 時間 地名 物品\n",
    "\n",
    "# 人名 事件 時間 地名 物品\n",
    "N_class = ['TIME','\tLOC','PER']\n"
   ]
  },
  {
   "cell_type": "code",
   "execution_count": 52,
   "metadata": {},
   "outputs": [
    {
     "name": "stdout",
     "output_type": "stream",
     "text": [
      "從前有個可愛的小姑娘 有一次 奶奶送給她一頂小紅帽 戴在她的頭上很漂亮 從此 大家都叫她說完他就從床上跳起來 把小紅帽吞進了肚子 狼吃飽就躺到床上睡著了 \n",
      "一位獵人正好從屋前走過 看奶奶的屋子的門是打開了 於是他走進去看看 看見狼躺在床上 肚子還在動 於是 獵人起一把剪刀 狼的肚子剪開了 \n",
      "小紅帽和奶奶都被救了出來 這時候獵人搬來幾塊大石頭 塞進狼的肚子 狼醒來之後想逃走 可是那些石頭太重了 它剛站起來就跌到在地 摔死了 \n",
      "他們高興極了 奶奶吃了小紅帽帶來的蛋糕和酒 感覺好多了 \n"
     ]
    }
   ],
   "source": [
    "import re\n",
    "import zhon\n",
    "from zhon.hanzi import punctuation\n",
    "\n",
    "\n",
    "punc = \"\"\"！？｡。＂＃＄％＆＇（）＊＋－／：；，＜＝\"＞＠［＼］＾＿｀｛｜｝～｟｠｢｣､、〃》「」『』【】 〔〕〖〗〘〙〚〛〜〝〞〟〰–—''‛“”„‟…‧﹏\"\"\"\n",
    "re_punc = \"[{}]+\".format(punc)\n",
    "clean_txt = re.sub(re_punc, \" \", txt_nd)\n",
    "print(clean_txt)"
   ]
  },
  {
   "cell_type": "code",
   "execution_count": 30,
   "metadata": {
    "scrolled": true
   },
   "outputs": [
    {
     "name": "stdout",
     "output_type": "stream",
     "text": [
      "t 從前/r 有個/v 可愛/uj 的/nr 小姑娘/x  /v 有/m 一次/x  /n 奶奶/v 送/p 給/r 她/m 一頂/a 小/n 紅帽/x  /v 戴/p 在/r 她/uj 的/s 頭上/n 很漂亮/x  /c 從此/x  /n 大家/d 都/v 叫/r 她/x  /a 小/n 紅帽/x  /x \n",
      "/m 一天/t 早上/x  /n 媽媽/p 對/a 小/n 紅帽/v 說/x  /zg 來/x  /a 小/n 紅帽/x  /r 這裡/v 有/m 一塊/n 蛋糕/c 和/m 一瓶/n 酒/x  /n 奶奶/n 生病/ul 了/x  /a 快/p 給/n 奶奶/v 送/v 去/x  /p 在/s 路上/v 要/d 好好/v 走/x  /df 不要/v 跑/x  /d 也/df 不要/v 離開/n 大路/x  /c 不然/r 你/v 會/v 摔跤/uj 的/x  /v 到/n 奶奶家/uj 的/n 時候/x  /d 別/v 忘/ul 了/v 說/x  /l 早上好/x  /x \n",
      "/a 小/n 紅帽/p 對/n 媽媽/v 說/x  /r 我/v 會/n 小心/uj 的/x  /r 我/v 去/v 看/n 奶奶/y 啦/x  /zg 說/a 完小/n 紅帽/d 就/v 開/s 心地/v 走/ul 了/x  /x \n",
      "/a 小/n 紅帽/d 剛/v 走/v 進/n 森林/d 就/v 碰到/m 一條/n 狼/x  /a 小/n 紅帽/d 不/v 知道/n 狼/v 是/a 壞/n 人/x  /c 所以/m 一點/d 也/c 不怕/r 它/x  /x \n",
      "/n 狼/v 說/x  /l 你好/x  /a 小/n 紅帽/x  /x \n",
      "/a 小/n 紅帽/v 說/x  /l 你好/x  /n 狼/n 先生/x  /x \n",
      "/x  /a 小/n 紅帽/x  /r 這麼/d 早要/v 到/r 哪裡/v 去/y 呀/x  /x \n",
      "/x  /r 我/v 要/v 到/n 奶奶家/v 去/x  /n 奶奶/n 病/ul 了/x  /r 我/p 給/r 她/v 帶/ul 了/n 蛋糕/c 和/n 酒/x  /x \n",
      "/n 狼/v 問/x  /r 你/n 奶奶/v 住/p 在/r 哪裡/y 呀/x  /a 小/n 紅帽/x  /x \n",
      "/a 小/n 紅帽/v 說/x  /p 在/n 森林/zg 裡/x  /r 她/uj 的/n 房子/d 就/p 在/m 三棵/n 大樹/f 下/x  /r 你/d 一定/v 知道/uj 的/x  /x \n",
      "/n 狼/p 在/v 想/x  /r 這個/n 小孩/z 白白的/x  /n 味道/v 肯定/p 比/r 那/nr 老太婆/v 要/a 好/x  /r 我/v 要/p 把/r 她們/m 兩個/d 都/v 吃掉/x  /nr 於/v 是/r 它/p 對/a 小/n 紅帽/v 說/x  /a 小/n 紅帽/x  /r 你/v 看/f 周圍/r 這些/v 花/r 多麼/a 美麗/y 啊/x  /v 應該/v 採點/p 給/r 你/uj 的/n 奶奶/x  /r 她/d 一定/v 會/d 很/v 開心/uj 的/x  /x \n",
      "/a 小/n 紅帽/v 想/x  /v 是/y 啊/x  /r 這些/v 花/r 這麼/a 漂亮/x  /r 我/r 該/v 採/m 一把/n 鮮花/p 給/n 奶奶/x  /r 她/d 一定/v 會/d 很/a 高興/uv 地/x  /nr 於/v 是/r 她/v 離開/n 大路/x  /v 走進/nr 林子/v 去/v 採花/x  /r 這/n 時候/x  /n 狼/v 跑/v 到/n 奶奶家/x  /v 敲/ul 了/v 敲門/x  /x \n",
      "/n 奶奶/zg 問/x  /v 是/r 誰/y 呀/x  /x \n",
      "/n 狼/v 捏著/n 鼻子/zg 說/x  /r 我/v 是/a 小/n 紅帽/x  /r 我/p 給/r 您/v 送/n 蛋糕/c 和/n 酒/v 來/ul 了/x  /a 快/v 開門/r 哪/x  /x \n",
      "/n 奶奶/d 大聲/v 說/x  /zg 哦/x  /v 是/r 我/v 可愛/uj 的/n 小紅帽/y 啊/x  /r 你/v 拉/m 一下/zg 門/l 就行了/x  /n 門/v 沒有/n 關/x  /r 我/s 身上/zg 沒/n 有力/zg 氣/x  /v 起不來/x  /x \n",
      "/ns 狼拉開門/v 走/ul 了/v 進來/x  /r 他/v 衝到/n 奶奶/n 床/f 前/x  /p 把/r 她/v 吞進/ul 了/n 肚子/x  /r 然/nr 後/r 她/v 穿/f 上/n 奶奶/uj 的/n 衣服/x  /v 戴/f 上/r 她/uj 的/n 帽子/x  /v 躺/p 在/n 床上/x  /d 還/v 拉上/ul 了/n 簾子/x  /x \n",
      "/ug 過/ul 了/m 一會兒/x  /a 小/n 紅帽/v 來到/ul 了/n 奶奶家/x  /n 門/v 沒有/n 關/x  /a 小/n 紅帽/ad 直接/v 走/ul 了/v 進去/x  /d 大聲/v 說/x  /l 早上好/x  /r 她/v 走/v 到/n 床/f 前/v 拉開/n 簾子/x  /d 只/v 見/n 奶奶/v 躺/p 在/n 床上/x  /n 帽子/p 把/n 臉/d 都/v 遮住/ul 了/x  /x \n",
      "/a 小/n 紅帽/v 說/x  /n 奶奶/x  /r 您/uj 的/n 耳朵/r 怎麼/r 這樣/a 大/y 呀/x  /x \n",
      "/n 狼/v 說/x  /p 為了/d 更好/uv 地/v 聽/r 你/v 說/n 話/y 呀/x  /d 乖乖/x  /x \n",
      "/a 小/n 紅帽/d 又/v 問/x  /c 可是/n 奶奶/x  /r 你/uj 的/n 眼睛/r 怎麼/r 這樣/a 大/y 呀/x  /x \n",
      "/x  /p 為了/d 更/a 清楚/uv 地/v 看/r 你/y 呀/x  /d 乖乖/x  /x \n",
      "/x  /n 奶奶/x  /r 你/uj 的/n 手/r 怎麼/r 這樣/a 大/y 呀/x  /x \n",
      "/x  /c 可以/d 更好/uv 地/v 抱著/r 你/y 呀/x  /d 乖乖/x  /x \n",
      "/x  /n 奶奶/x  /r 你/uj 的/n 嘴巴/r 怎麼/a 大/ud 得/d 很/v 嚇/n 人/y 呀/x  /x \n",
      "/n 狼/v 說/x  /c 可以/m 一口/p 把/r 你/v 吃掉/y 呀/x  /v 說/v 完/r 他/d 就/p 從/n 床上/v 跳/v 起來/x  /p 把/a 小/n 紅帽/v 吞進/ul 了/n 肚子/x  /n 狼/v 吃/a 飽/d 就/v 躺/v 到/n 床上/v 睡著/ul 了/x  /x \n",
      "/m 一位/n 獵人/a 正好/zg 從/s 屋前/v 走/ug 過/x  /v 看/n 奶奶/uj 的/n 屋子/uj 的/n 門/v 是/v 打開/ul 了/x  /nr 於/v 是/r 他/v 走/v 進去/v 看看/x  /v 看見/n 狼/v 躺/p 在/n 床上/x  /n 肚子/d 還/p 在/n 動/x  /nr 於/v 是/x  /n 獵人/v 起/m 一把/n 剪刀/x  /n 狼/uj 的/n 肚子/v 剪開/ul 了/x  /x \n",
      "/a 小/n 紅帽/c 和/n 奶奶/d 都/p 被/v 救/ul 了/v 出來/x  /r 這/n 時候/n 獵人/v 搬來/m 幾塊/n 大石/zg 頭/x  /nr 塞進狼/uj 的/n 肚子/x  /n 狼/v 醒來/u 之/nr 後/v 想/v 逃走/x  /c 可是/r 那些/n 石頭/n 太重/ul 了/x  /r 它/d 剛/v 站/v 起來/d 就/v 跌/v 到/p 在/n 地/x  /v 摔死/ul 了/x  /x \n",
      "/r 他們/a 高/v 興極/ul 了/x  /n 奶奶/v 吃/ul 了/a 小/n 紅帽/v 帶來/uj 的/n 蛋糕/c 和/n 酒/x  /n 感覺/m 好多/ul 了/x  /"
     ]
    }
   ],
   "source": [
    "seg_lst = pseg.cut(clean_txt)\n",
    "for word,flag in seg_lst:\n",
    "    print(flag,word,end = '/')"
   ]
  },
  {
   "cell_type": "code",
   "execution_count": 43,
   "metadata": {},
   "outputs": [
    {
     "name": "stdout",
     "output_type": "stream",
     "text": [
      "<generator object cut at 0x0000000048993E60>\n",
      "頭上 s\n",
      "路上 s\n",
      "心地 s\n",
      "身上 s\n",
      "屋前 s\n"
     ]
    }
   ],
   "source": [
    "import jieba\n",
    "import jieba.posseg as pseg\n",
    "seg_lst = pseg.cut(clean_txt)\n",
    "# print(\"/ \".join(seg_lst))\n",
    "print(seg_lst)\n",
    "\n",
    "for word,flag in seg_lst:\n",
    "#     if flag == 't':\n",
    "#         print(word,flag)\n",
    "    if flag == 's':\n",
    "        print(word,flag)\n",
    "    "
   ]
  },
  {
   "cell_type": "code",
   "execution_count": 42,
   "metadata": {},
   "outputs": [
    {
     "data": {
      "text/plain": [
       "{'人': 2,\n",
       " '先生': 1,\n",
       " '剪刀': 1,\n",
       " '動': 1,\n",
       " '味道': 1,\n",
       " '嘴巴': 1,\n",
       " '地': 1,\n",
       " '大家': 1,\n",
       " '大樹': 1,\n",
       " '大石': 1,\n",
       " '大路': 2,\n",
       " '太重': 1,\n",
       " '奶奶': 20,\n",
       " '奶奶家': 4,\n",
       " '媽媽': 2,\n",
       " '小孩': 1,\n",
       " '小心': 1,\n",
       " '小紅帽': 1,\n",
       " '屋子': 1,\n",
       " '帽子': 2,\n",
       " '床': 2,\n",
       " '床上': 5,\n",
       " '很漂亮': 1,\n",
       " '感覺': 1,\n",
       " '房子': 1,\n",
       " '手': 1,\n",
       " '時候': 3,\n",
       " '有力': 1,\n",
       " '森林': 2,\n",
       " '狼': 14,\n",
       " '獵人': 3,\n",
       " '生病': 1,\n",
       " '病': 1,\n",
       " '眼睛': 1,\n",
       " '石頭': 1,\n",
       " '簾子': 2,\n",
       " '紅帽': 24,\n",
       " '耳朵': 1,\n",
       " '肚子': 5,\n",
       " '臉': 1,\n",
       " '蛋糕': 4,\n",
       " '衣服': 1,\n",
       " '話': 1,\n",
       " '酒': 4,\n",
       " '門': 3,\n",
       " '關': 2,\n",
       " '鮮花': 1,\n",
       " '鼻子': 1}"
      ]
     },
     "execution_count": 42,
     "metadata": {},
     "output_type": "execute_result"
    }
   ],
   "source": [
    "w_dic = {}\n",
    "seg_lst = pseg.cut(clean_txt)\n",
    "for w,f in seg_lst:\n",
    "    if f != 'n':\n",
    "        continue\n",
    "    if w not in w_dic:\n",
    "        w_dic[w] = 0\n",
    "    w_dic[w] +=1\n",
    "w_dic"
   ]
  },
  {
   "cell_type": "code",
   "execution_count": 7,
   "metadata": {},
   "outputs": [
    {
     "name": "stdout",
     "output_type": "stream",
     "text": [
      "清华大学\n"
     ]
    }
   ],
   "source": [
    "from hanziconv import HanziConv\n",
    "test = \"清華大學\"\n",
    "print(HanziConv.toSimplified(test))"
   ]
  },
  {
   "cell_type": "code",
   "execution_count": 1,
   "metadata": {},
   "outputs": [
    {
     "name": "stderr",
     "output_type": "stream",
     "text": [
      "Building prefix dict from the default dictionary ...\n",
      "Loading model from cache C:\\Users\\ADMINI~1\\AppData\\Local\\Temp\\jieba.cache\n"
     ]
    },
    {
     "name": "stdout",
     "output_type": "stream",
     "text": [
      "<generator object cut at 0x000000000B33B360>\n"
     ]
    },
    {
     "name": "stderr",
     "output_type": "stream",
     "text": [
      "Loading model cost 0.899 seconds.\n",
      "Prefix dict has been built succesfully.\n"
     ]
    },
    {
     "name": "stdout",
     "output_type": "stream",
     "text": [
      "我 r\n",
      "早上 t\n",
      "來到 v\n",
      "北京 ns\n",
      "清华大学 nt\n"
     ]
    }
   ],
   "source": [
    "import jieba\n",
    "import jieba.posseg as pseg\n",
    "\n",
    "# jieba.set_dictionary('big5_dict.txt')\n",
    "seg_lst = pseg.cut(\"我早上來到北京清华大学\")\n",
    "# print(\"/ \".join(seg_lst))\n",
    "print(seg_lst)\n",
    "for word,flag in seg_lst:\n",
    "    \n",
    "    print(word,flag)"
   ]
  },
  {
   "cell_type": "code",
   "execution_count": 16,
   "metadata": {},
   "outputs": [
    {
     "data": {
      "text/plain": [
       "'父親說：親'"
      ]
     },
     "execution_count": 16,
     "metadata": {},
     "output_type": "execute_result"
    }
   ],
   "source": [
    "import re\n",
    "line = '父親說：“親'\n",
    "re.sub(\"[\\s+\\.\\!\\/_,$%^*(+\\\"\\']+|[+——！“，。？、~@#￥%……&*（）]+\".encode('utf-8').decode('utf-8'), \"\".encode('utf-8').decode('utf-8'),line)"
   ]
  }
 ],
 "metadata": {
  "kernelspec": {
   "display_name": "Python 3",
   "language": "python",
   "name": "python3"
  },
  "language_info": {
   "codemirror_mode": {
    "name": "ipython",
    "version": 3
   },
   "file_extension": ".py",
   "mimetype": "text/x-python",
   "name": "python",
   "nbconvert_exporter": "python",
   "pygments_lexer": "ipython3",
   "version": "3.6.7"
  }
 },
 "nbformat": 4,
 "nbformat_minor": 2
}
