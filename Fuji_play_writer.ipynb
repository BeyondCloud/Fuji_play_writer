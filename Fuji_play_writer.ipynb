{
 "cells": [
  {
   "cell_type": "code",
   "execution_count": 1,
   "metadata": {
    "collapsed": true
   },
   "outputs": [],
   "source": [
    "import http.client\n",
    "import hashlib\n",
    "import json\n",
    "import urllib\n",
    "import random\n",
    "import time\n",
    "from langconv import *\n",
    "\n",
    "def dic2str(N_dic,token = '/'):\n",
    "    lst = []\n",
    "    for key, value in N_dic.items():\n",
    "        lst.append(key)\n",
    "    return token.join(lst)\n",
    "def dic2lst(N_dic,token = '/'):\n",
    "    lst = []\n",
    "    for key, value in N_dic.items():\n",
    "        lst.append(key)\n",
    "    return lst\n",
    "def zh2en(content,token = '/'):\n",
    "    \n",
    "    if isinstance(content, str):\n",
    "        return  baidu_translate(content,'zh','en')\n",
    "    elif isinstance(content, dict):\n",
    "        txt = dic2str(content,token)\n",
    "        txt = baidu_translate(txt,'zh','en')\n",
    "        return txt.split(token)\n",
    "    else:\n",
    "        print('data type not support!')\n",
    "        \n",
    "def en2zh(content):\n",
    "    return  baidu_translate(content,'en','zh')\n",
    "\n",
    "def baidu_translate(content,fromLang='zh',toLang = 'en'):\n",
    "    appid = '20151113000005349'\n",
    "    secretKey = 'osubCEzlGjzvw8qdQc41'\n",
    "    httpClient = None\n",
    "    myurl = '/api/trans/vip/translate'\n",
    "    q = content\n",
    "    salt = random.randint(32768, 65536)\n",
    "    sign = appid + q + str(salt) + secretKey\n",
    "    sign = hashlib.md5(sign.encode()).hexdigest()\n",
    "    myurl = myurl + '?appid=' + appid + '&q=' + urllib.parse.quote(\n",
    "        q) + '&from=' + fromLang + '&to=' + toLang + '&salt=' + str(\n",
    "        salt) + '&sign=' + sign\n",
    " \n",
    "    try:\n",
    "        httpClient = http.client.HTTPConnection('api.fanyi.baidu.com')\n",
    "        httpClient.request('GET', myurl)\n",
    "        # response是HTTPResponse对象\n",
    "        response = httpClient.getresponse()\n",
    "        jsonResponse = response.read().decode(\"utf-8\")# 获得返回的结果，结果为json格式\n",
    "        js = json.loads(jsonResponse)  # 将json格式的结果转换字典结构\n",
    "        time.sleep(0.9)\n",
    "        dst = str(js[\"trans_result\"][0][\"dst\"])  # 取得翻译后的文本结果\n",
    "        return dst \n",
    "    except Exception as e:\n",
    "        print(e)\n",
    "    finally:\n",
    "        if httpClient:\n",
    "            httpClient.close()\n",
    "# t1 = zh2en('你好/我是誰')\n",
    "# t2 = en2zh('Hello/who am I')\n",
    "\n",
    "def toSimplified(s):\n",
    "    return Converter('zh-hans').convert(s)\n",
    "def toTraditional(s):\n",
    "    return Converter('zh-hant').convert(s)\n",
    "\n",
    "# print(t1)\n",
    "# print(t2)"
   ]
  },
  {
   "cell_type": "code",
   "execution_count": 2,
   "metadata": {},
   "outputs": [
    {
     "name": "stdout",
     "output_type": "stream",
     "text": [
      "['Hello ', ' Who am I?']\n",
      "Hello\n"
     ]
    }
   ],
   "source": [
    "print(zh2en({'你好':1,'我是誰':2}))\n",
    "print(zh2en('你好'))\n"
   ]
  },
  {
   "cell_type": "code",
   "execution_count": 3,
   "metadata": {},
   "outputs": [
    {
     "name": "stdout",
     "output_type": "stream",
     "text": [
      "十二生肖的故事.txt\n",
      "奇怪的鏡子.txt\n",
      "守株待兔.txt\n",
      "小公主和蛇.txt\n",
      "小紅帽.txt\n",
      "小蝌蚪找媽媽.txt\n",
      "小馬過河.txt\n",
      "狐假虎威.txt\n",
      "睡美人.txt\n",
      "誰跟小羚羊去避暑.txt\n",
      "龜兔賽跑.txt\n"
     ]
    }
   ],
   "source": [
    "import os\n",
    "# from hanziconv import HanziConv # trash\n",
    "lst = []\n",
    "for dirPath, dirNames, fileNames in os.walk(\"./raw\"):\n",
    "    for f in fileNames:\n",
    "        print(f)\n",
    "        lst.append(os.path.join(dirPath, f))\n",
    "#         print(os.path.join(dirPath, f))"
   ]
  },
  {
   "cell_type": "code",
   "execution_count": 4,
   "metadata": {},
   "outputs": [
    {
     "name": "stdout",
     "output_type": "stream",
     "text": [
      "1 dialogues found\n",
      "24 dialogues found\n"
     ]
    }
   ],
   "source": [
    "def rm_dialogues(s):\n",
    "    lst1 = [pos for pos, char in enumerate(s) if char == '“']\n",
    "    lst2 = [pos for pos, char in enumerate(s) if char == '”']\n",
    "    print(str(len(lst1))+' dialogues found')\n",
    "    if(len(lst1) != len(lst1)):\n",
    "        print('dialogue error: not equal “ ” Apostrophe count')\n",
    "        return\n",
    "    for i in range(len(lst1)):\n",
    "        s = s[0: lst1[i]:] + '#'*(lst2[i]-lst1[i]+1)+ s[lst2[i] + 1::]\n",
    "    return s,lst1,lst2\n",
    "\n",
    "rm_dialogues('fuck“you”')\n",
    "f = open('./raw/小紅帽.txt','r', encoding = 'utf8')\n",
    "txt = f.read()\n",
    "txt_nd,lst1,lst2 = rm_dialogues(txt)"
   ]
  },
  {
   "cell_type": "code",
   "execution_count": 5,
   "metadata": {},
   "outputs": [
    {
     "name": "stdout",
     "output_type": "stream",
     "text": [
      "从前有个可爱的小姑娘#有一次#奶奶送给她一顶小红帽#戴在她的头上很漂亮#从此#大家都叫她#一天早上#妈妈对小红帽说#小红帽对妈妈说#说完小红帽就开心地走了#小红帽刚走进森林就碰到一条狼#小红帽不知道狼是坏人#所以一点也不怕它#狼说#小红帽说###狼问#小红帽说#狼在想#于是它对小红帽说#小红帽想#于是她离开大路#走进林子去采花#这时候#狼跑到奶奶家#敲了敲门#奶奶问#狼捏着鼻子说#奶奶大声说#狼拉开门走了进来#他冲到奶奶床前#把她吞进了肚子#然后她穿上奶奶的衣服#戴上她的帽子#躺在床上#还拉上了帘子#过了一会儿#小红帽来到了奶奶家#门没有关#小红帽直接走了进去#大声说#她走到床前拉开帘子#只见奶奶躺在床上#帽子把脸都遮住了#小红帽说#狼说#小红帽又问#####狼说#说完他就从床上跳起来#把小红帽吞进了肚子#狼吃饱就躺到床上睡着了#一位猎人正好从屋前走过#看奶奶的屋子的门是打开了#于是他走进去看看#看见狼躺在床上#肚子还在动#于是#猎人起一把剪刀#狼的肚子剪开了#小红帽和奶奶都被救了出来#这时候猎人搬来几块大石头#塞进狼的肚子#狼醒来之后想逃走#可是那些石头太重了#它刚站起来就跌倒在地#摔死了#他们高兴极了#奶奶吃了小红帽带来的蛋糕和酒#感觉好多了#\n"
     ]
    }
   ],
   "source": [
    "import re\n",
    "import zhon\n",
    "from zhon.hanzi import punctuation\n",
    "\n",
    "\n",
    "punc = \"\"\"！？｡。＂＃#＄％＆＇（）＊＋－／：；，＜＝\"＞＠［＼］＾＿｀｛｜｝～｟｠｢｣､、〃》「」『』【】 〔〕〖〗〘〙〚〛〜〝〞〟〰–—''‛“”„‟…‧﹏\"\"\"\n",
    "re_punc = \"[{}]+\".format(punc)\n",
    "clean_txt = re.sub(re_punc, \"#\", txt_nd)\n",
    "clean_txt = re.sub(\"\\n\", \"\", clean_txt)\n",
    "clean_txt = toSimplified(clean_txt)\n",
    "print(clean_txt)"
   ]
  },
  {
   "cell_type": "markdown",
   "metadata": {},
   "source": [
    "# Print all dialogue"
   ]
  },
  {
   "cell_type": "code",
   "execution_count": 6,
   "metadata": {
    "scrolled": true
   },
   "outputs": [
    {
     "name": "stdout",
     "output_type": "stream",
     "text": [
      "“小紅帽”\n",
      "“來，小紅帽，這裡有一塊蛋糕和一瓶酒，奶奶生病了，快給奶奶送去，在路上要好好走，不要跑，也不要離開大路，不然你會摔跤的，到奶奶家的時候，別忘了說'早上好'。”\n",
      "“我會小心的，我去看奶奶啦！”\n",
      "“你好，小紅帽！”\n",
      "“你好，狼先生。”\n",
      "“小紅帽，這麼早要到哪裡去呀？”\n",
      "“我要到奶奶家去。奶奶病了，我給她帶了蛋糕和酒。”\n",
      "“你奶奶住在哪裡呀，小紅帽？”\n",
      "“在森林裡，她的房子就在三棵大樹下，你一定知道的。”\n",
      "“這個小孩白白的，味道肯定比那老太婆要好。我要把她們兩個都吃掉。”\n",
      "“小紅帽，你看周圍這些花多麼美麗啊，應該採點給你的奶奶，她一定會很開心的。”\n",
      "“是啊，這些花這麼漂亮，我該採一把鮮花給奶奶，她一定會很高興地。”\n",
      "“是誰呀？”\n",
      "“我是小紅帽。我給您送蛋糕和酒來了，快開門哪。”\n",
      "“哦，是我可愛的小紅帽啊，你拉一下門就行了，門沒有關，我身上沒有力氣，起不來。”\n",
      "“早上好！”\n",
      "“奶奶，您的耳朵怎麼這樣大呀？”\n",
      "“為了更好地聽你說話呀，乖乖。”\n",
      "“可是奶奶，你的眼睛怎麼這樣大呀？”\n",
      "“為了更清楚地看你呀，乖乖。”\n",
      "“奶奶，你的手怎麼這樣大呀？”\n",
      "“可以更好地抱著你呀，乖乖。”\n",
      "“奶奶，你的嘴巴怎麼大得很嚇人呀？”\n",
      "“可以一口把你吃掉呀！”\n"
     ]
    }
   ],
   "source": [
    "for i in range(len(lst1)):\n",
    "    print(txt[lst1[i]:lst2[i]+1])"
   ]
  },
  {
   "cell_type": "code",
   "execution_count": 9,
   "metadata": {
    "collapsed": true
   },
   "outputs": [],
   "source": [
    "#  characters, the events, the locations,time,actions (optional: relation among characters)\n",
    "#  who speak to who\n",
    "# recall precision of 人名 時間 地名 物品\n",
    "# label規則: 用jieba切出的字為主"
   ]
  },
  {
   "cell_type": "code",
   "execution_count": 7,
   "metadata": {},
   "outputs": [
    {
     "data": {
      "text/plain": [
       "['从前有个可爱的小姑娘',\n",
       " '有一次',\n",
       " '奶奶送给她一顶小红帽',\n",
       " '戴在她的头上很漂亮',\n",
       " '从此',\n",
       " '大家都叫她',\n",
       " '一天早上',\n",
       " '妈妈对小红帽说',\n",
       " '小红帽对妈妈说',\n",
       " '说完小红帽就开心地走了',\n",
       " '小红帽刚走进森林就碰到一条狼',\n",
       " '小红帽不知道狼是坏人',\n",
       " '所以一点也不怕它',\n",
       " '狼说',\n",
       " '小红帽说',\n",
       " '',\n",
       " '',\n",
       " '狼问',\n",
       " '小红帽说',\n",
       " '狼在想',\n",
       " '于是它对小红帽说',\n",
       " '小红帽想',\n",
       " '于是她离开大路',\n",
       " '走进林子去采花',\n",
       " '这时候',\n",
       " '狼跑到奶奶家',\n",
       " '敲了敲门',\n",
       " '奶奶问',\n",
       " '狼捏着鼻子说',\n",
       " '奶奶大声说',\n",
       " '狼拉开门走了进来',\n",
       " '他冲到奶奶床前',\n",
       " '把她吞进了肚子',\n",
       " '然后她穿上奶奶的衣服',\n",
       " '戴上她的帽子',\n",
       " '躺在床上',\n",
       " '还拉上了帘子',\n",
       " '过了一会儿',\n",
       " '小红帽来到了奶奶家',\n",
       " '门没有关',\n",
       " '小红帽直接走了进去',\n",
       " '大声说',\n",
       " '她走到床前拉开帘子',\n",
       " '只见奶奶躺在床上',\n",
       " '帽子把脸都遮住了',\n",
       " '小红帽说',\n",
       " '狼说',\n",
       " '小红帽又问',\n",
       " '',\n",
       " '',\n",
       " '',\n",
       " '',\n",
       " '狼说',\n",
       " '说完他就从床上跳起来',\n",
       " '把小红帽吞进了肚子',\n",
       " '狼吃饱就躺到床上睡着了',\n",
       " '一位猎人正好从屋前走过',\n",
       " '看奶奶的屋子的门是打开了',\n",
       " '于是他走进去看看',\n",
       " '看见狼躺在床上',\n",
       " '肚子还在动',\n",
       " '于是',\n",
       " '猎人起一把剪刀',\n",
       " '狼的肚子剪开了',\n",
       " '小红帽和奶奶都被救了出来',\n",
       " '这时候猎人搬来几块大石头',\n",
       " '塞进狼的肚子',\n",
       " '狼醒来之后想逃走',\n",
       " '可是那些石头太重了',\n",
       " '它刚站起来就跌倒在地',\n",
       " '摔死了',\n",
       " '他们高兴极了',\n",
       " '奶奶吃了小红帽带来的蛋糕和酒',\n",
       " '感觉好多了',\n",
       " '']"
      ]
     },
     "execution_count": 7,
     "metadata": {},
     "output_type": "execute_result"
    }
   ],
   "source": [
    "clean_txt.split('#')"
   ]
  },
  {
   "cell_type": "code",
   "execution_count": 8,
   "metadata": {
    "scrolled": false
   },
   "outputs": [
    {
     "name": "stderr",
     "output_type": "stream",
     "text": [
      "Building prefix dict from the default dictionary ...\n",
      "Loading model from cache C:\\Users\\ADMINI~1\\AppData\\Local\\Temp\\jieba.cache\n",
      "Loading model cost 1.008 seconds.\n",
      "Prefix dict has been built succesfully.\n"
     ]
    },
    {
     "name": "stdout",
     "output_type": "stream",
     "text": [
      "f 前/f 上/f 上/f 前/f 之後/"
     ]
    }
   ],
   "source": [
    "import jieba\n",
    "from termcolor import colored\n",
    "import jieba.posseg as pseg\n",
    "from importlib import reload \n",
    "reload(pseg)\n",
    "\n",
    "seg_lst = pseg.cut(clean_txt)\n",
    "N_dic = {}\n",
    "for w,f in seg_lst:\n",
    "    \n",
    "    if f[0] == 'f':\n",
    "        print(f,toTraditional(w),end = '/')\n",
    "        \n",
    "#     if f[0] == 'n':\n",
    "    if w not in N_dic:\n",
    "        N_dic[w] = 0\n",
    "    N_dic[w] +=1\n",
    "        "
   ]
  },
  {
   "cell_type": "markdown",
   "metadata": {},
   "source": [
    "# LOCATION"
   ]
  },
  {
   "cell_type": "code",
   "execution_count": 28,
   "metadata": {},
   "outputs": [
    {
     "name": "stdout",
     "output_type": "stream",
     "text": [
      "从前 t/有个 r/可爱 v/的 uj/小姑娘 nr/# x/有 v/一次 m/# x/奶奶 n/送给 v/一顶 m/小红帽 n/# x/戴 v/在 p/的 uj/头上 s/很漂亮 a/# x/从此 c/# x/都 d/叫 v/# x/一天 m/早上 t/# x/妈妈 n/对 p/小红帽 n/说 v/# x/小红帽 n/对 p/妈妈 n/说 v/# x/说完 v/小红帽 n/就 d/开心 v/地走了 l/# x/小红帽 n/刚 d/\u001b[31m走进\u001b[0m/森林 s/就 d/碰到 v/一条 m/狼 n/# x/小红帽 n/不 d/知道 v/狼 n/是 v/坏人 n/# x/所以 c/一点 m/也 d/不怕 c/它 r/# x/狼 n/说 v/# x/小红帽 n/说 v/### x/狼 n/问 v/# x/小红帽 n/说 v/# x/狼 n/在 p/想 v/# x/于是 c/它 r/对 p/小红帽 n/说 v/# x/小红帽 n/想 v/# x/于是 c/\u001b[31m离开\u001b[0m/大路 s/# x/\u001b[31m走进\u001b[0m/林子 s/去 v/采花 v/# x/这时候 r/# x/狼 n/跑 v/\u001b[31m到\u001b[0m/奶奶家 s/# x/敲 v/敲门 v/# x/奶奶 n/问 n/# x/狼 n/捏着鼻子 l/说 v/# x/奶奶 n/大声 m/说 v/# x/狼 n/拉开 v/门 n/走 v/进来 v/# x/\u001b[31m冲到\u001b[0m/奶奶 s/床 n/\u001b[31m前\u001b[0m \u001b[31mf\u001b[0m/# x/把 p/\u001b[31m吞进\u001b[0m/肚子 s/# x/然后 c/穿 v/上 f/奶奶 n/的 uj/衣服 n/# x/戴 v/上 f/的 uj/帽子 n/# x/躺 v/在 p/\u001b[31m床上\u001b[0m \u001b[31mn\u001b[0m/# x/还 d/拉上 v/帘子 n/# x/过 ug/一会儿 m/# x/小红帽 n/\u001b[31m来到\u001b[0m/奶奶家 s/# x/门 n/没 v/有关 vn/# x/小红帽 n/直接 ad/走 v/进去 v/# x/大声 m/说 v/# x/走 v/\u001b[31m到\u001b[0m/床 s/前 f/拉开 v/帘子 n/# x/只见 v/奶奶 n/躺 v/在 p/\u001b[31m床上\u001b[0m \u001b[31mn\u001b[0m/# x/帽子 n/把 p/脸 n/都 d/遮住 v/# x/小红帽 n/说 v/# x/狼 n/说 v/# x/小红帽 n/又 d/问 v/##### x/狼 n/说 v/# x/说完 v/就 d/从 p/\u001b[31m床上\u001b[0m \u001b[31mn\u001b[0m/跳 v/起来 v/# x/把 p/小红帽 n/\u001b[31m吞进\u001b[0m/肚子 s/# x/狼 n/吃饱 v/就 d/躺 v/\u001b[31m到\u001b[0m/床上 s/睡着 v/# x/一位 m/猎人 n/正好 a/从 p/屋前 s/走过 v/# x/看 v/奶奶 n/的 uj/屋子 n/的 uj/门 n/是 v/打开 v/# x/于是 c/走进 v/去 v/看看 v/# x/看见 v/狼 n/躺 v/在 p/\u001b[31m床上\u001b[0m \u001b[31mn\u001b[0m/# x/肚子 n/还 d/在 p/动 n/# x/于是 c/# x/猎人 n/起 v/一把 m/剪刀 n/# x/狼 n/的 uj/肚子 n/剪开 v/# x/小红帽 n/和 c/奶奶 n/都 d/被 p/救 v/出来 v/# x/这时候 r/猎人 n/搬 v/来 v/几块 m/大石头 n/# x/\u001b[31m塞进\u001b[0m/狼 s/的 uj/肚子 n/# x/狼 n/醒来 v/之后 f/想 v/逃走 v/# x/可是 c/那些 r/石头 n/太重 a/# x/它 r/刚 d/站 v/起来 v/就 d/跌倒 v/在 p/地 n/# x/摔死 v/# x/他们 r/高兴 b/极了 d/# x/奶奶 n/吃 v/小红帽 n/带来 v/的 uj/蛋糕 n/和 c/酒 n/# x/感觉 n/好多 m/# x/"
     ]
    }
   ],
   "source": [
    "tmp = pseg.cut(clean_txt)\n",
    "post_w = ['前','后','上','下','中','里','家','室','房','铺']\n",
    "pre_w = ['进','到','离']\n",
    "filter_w = ['了','你','我','他','她']\n",
    "seg_lst = []\n",
    "for w,f in tmp:\n",
    "    if w not in filter_w: \n",
    "        seg_lst.append([w,f])\n",
    "merge_w = []\n",
    "for i,wf in enumerate(seg_lst):\n",
    "    printOther = True\n",
    "    w,f = wf\n",
    "    #merge '樹','上' => '樹上'\n",
    "    if w in post_w:\n",
    "        if i!=0 and seg_lst[i-1][1][0] == 'n':\n",
    "            print(colored(w,'red'),colored(f,'red'),end = '/')\n",
    "            merge_w.append(seg_lst[i-1][0][0]+w)\n",
    "            printOther = False\n",
    "    #point out'樹上', flag n => s      \n",
    "    elif len(w)!=1 and w[-1] in post_w and f[0] == 'n':\n",
    "        if w == '大家':\n",
    "            continue\n",
    "        seg_lst[i][1] = 's'\n",
    "        print(colored(w,'red'),colored(f,'red'),end = '/')\n",
    "        printOther = False\n",
    "        \n",
    "    for pw in pre_w:\n",
    "        if pw in w and seg_lst[i+1][1][0]=='n':\n",
    "            print(colored(w,'red'),end = '/')\n",
    "            seg_lst[i+1][1] = 's'\n",
    "            printOther = False\n",
    "            break\n",
    "\n",
    "       \n",
    "    if printOther:\n",
    "        print(w,f,end = '/')"
   ]
  },
  {
   "cell_type": "code",
   "execution_count": 29,
   "metadata": {},
   "outputs": [
    {
     "name": "stdout",
     "output_type": "stream",
     "text": [
      "['床前']\n"
     ]
    }
   ],
   "source": [
    "print(merge_w)\n",
    "for w in merge_w:\n",
    "    seg_lst.append([w,'s'])"
   ]
  },
  {
   "cell_type": "code",
   "execution_count": 11,
   "metadata": {},
   "outputs": [
    {
     "name": "stderr",
     "output_type": "stream",
     "text": [
      "E:\\Anaconda\\lib\\site-packages\\gensim\\utils.py:1212: UserWarning: detected Windows; aliasing chunkize to chunkize_serial\n",
      "  warnings.warn(\"detected Windows; aliasing chunkize to chunkize_serial\")\n",
      "E:\\Anaconda\\lib\\site-packages\\gensim\\matutils.py:737: FutureWarning: Conversion of the second argument of issubdtype from `int` to `np.signedinteger` is deprecated. In future, it will be treated as `np.int32 == np.dtype(int).type`.\n",
      "  if np.issubdtype(vec.dtype, np.int):\n"
     ]
    },
    {
     "data": {
      "text/plain": [
       "0.6375303"
      ]
     },
     "execution_count": 11,
     "metadata": {},
     "output_type": "execute_result"
    }
   ],
   "source": [
    "import gensim\n",
    "model = gensim.models.KeyedVectors.load_word2vec_format('GoogleNews-vectors-negative300.bin',binary=True)\n",
    "model.similarity('france', 'spain')"
   ]
  },
  {
   "cell_type": "code",
   "execution_count": 22,
   "metadata": {},
   "outputs": [
    {
     "name": "stdout",
     "output_type": "stream",
     "text": [
      "['girl', 'grandma', 'little red riding hood', 'everybody', 'mother', 'forest', 'wolf', 'bad man', 'road', 'forest', \"grandma's home\", 'question', 'door', 'bed', 'belly', 'clothes', 'hat', 'bed', 'curtain', 'face', 'hunter', 'room', 'moving', 'scissors', 'big stone', 'land', 'cake', 'wine', 'feeling']\n",
      "['girl', 'grandma', 'hood', 'everybody', 'mother', 'forest', 'wolf', 'man', 'road', 'forest', 'home', 'question', 'door', 'bed', 'belly', 'clothes', 'hat', 'bed', 'curtain', 'face', 'hunter', 'room', 'moving', 'scissors', 'stone', 'land', 'cake', 'wine', 'feeling']\n"
     ]
    }
   ],
   "source": [
    "en_lst = zh2en(w_dic)\n",
    "en_lst = [t.lower() for t in en_lst]\n",
    "en_lst_simp = [t.split(' ')[-1] for t in en_lst]\n",
    "print(en_lst)\n",
    "print(en_lst_simp)\n"
   ]
  },
  {
   "cell_type": "code",
   "execution_count": 23,
   "metadata": {},
   "outputs": [
    {
     "name": "stdout",
     "output_type": "stream",
     "text": [
      "door 0.163734\n",
      "bed 0.1776176\n",
      "belly 0.24514817\n",
      "bed 0.1776176\n",
      "room 0.40658718\n",
      "land 0.282319\n"
     ]
    },
    {
     "name": "stderr",
     "output_type": "stream",
     "text": [
      "E:\\Anaconda\\lib\\site-packages\\gensim\\matutils.py:737: FutureWarning: Conversion of the second argument of issubdtype from `int` to `np.signedinteger` is deprecated. In future, it will be treated as `np.int32 == np.dtype(int).type`.\n",
      "  if np.issubdtype(vec.dtype, np.int):\n"
     ]
    }
   ],
   "source": [
    "# N + 前,後,上,下,中,裡\n",
    "for t in en_lst_simp:\n",
    "    try:\n",
    "        s = model.similarity(t, 'space')\n",
    "        if s>0.16:\n",
    "            print(t,s)\n",
    "    except:\n",
    "        print(t,'x')"
   ]
  },
  {
   "cell_type": "code",
   "execution_count": 32,
   "metadata": {},
   "outputs": [
    {
     "name": "stdout",
     "output_type": "stream",
     "text": [
      "['头上', '森林', '大路', '林子', '奶奶家', '奶奶', '肚子', '床上', '床', '屋前', '狼', '床前']\n"
     ]
    }
   ],
   "source": [
    "s_dic = {}\n",
    "for w,f in seg_lst:\n",
    "    if f == 's':\n",
    "        if w not in s_dic:\n",
    "            s_dic[w] = 0\n",
    "        s_dic[w]+=1\n",
    "# print(s_dic)\n",
    "LOC_lst = dic2lst(s_dic)\n",
    "print(LOC_lst)"
   ]
  },
  {
   "cell_type": "markdown",
   "metadata": {},
   "source": [
    "# PERSON"
   ]
  },
  {
   "cell_type": "code",
   "execution_count": 33,
   "metadata": {},
   "outputs": [
    {
     "name": "stdout",
     "output_type": "stream",
     "text": [
      "0 girl 0.5921714\n",
      "1 grandma 0.2838411\n",
      "3 everybody 0.22861832\n",
      "4 mother 0.4030872\n",
      "7 man 1.0\n",
      "20 hunter 0.3275265\n"
     ]
    },
    {
     "name": "stderr",
     "output_type": "stream",
     "text": [
      "E:\\Anaconda\\lib\\site-packages\\gensim\\matutils.py:737: FutureWarning: Conversion of the second argument of issubdtype from `int` to `np.signedinteger` is deprecated. In future, it will be treated as `np.int32 == np.dtype(int).type`.\n",
      "  if np.issubdtype(vec.dtype, np.int):\n"
     ]
    }
   ],
   "source": [
    "idx = []\n",
    "for i,t in enumerate(en_lst_simp):\n",
    "    try:\n",
    "        s = model.similarity(t, 'man')\n",
    "        if s>0.2:\n",
    "            print(i,t,s)\n",
    "            idx.append(i)\n",
    "    except:\n",
    "        print(t,'x')\n",
    "PER_lst = []\n",
    "tmp = dic2lst(w_dic)\n",
    "for i in idx:\n",
    "    PER_lst.append(tmp[i])\n"
   ]
  },
  {
   "cell_type": "markdown",
   "metadata": {},
   "source": [
    "# OBJ"
   ]
  },
  {
   "cell_type": "code",
   "execution_count": 34,
   "metadata": {},
   "outputs": [
    {
     "name": "stdout",
     "output_type": "stream",
     "text": [
      "['头上', '森林', '大路', '林子', '奶奶家', '奶奶', '肚子', '床上', '床', '屋前', '狼', '床前']\n",
      "['小姑娘', '奶奶', '大家', '妈妈', '坏人', '猎人']\n"
     ]
    }
   ],
   "source": [
    "print(LOC_lst)\n",
    "print(PER_lst)"
   ]
  },
  {
   "cell_type": "code",
   "execution_count": 36,
   "metadata": {},
   "outputs": [
    {
     "name": "stdout",
     "output_type": "stream",
     "text": [
      "{'小红帽': 17, '问': 1, '门': 3, '衣服': 1, '帽子': 2, '帘子': 2, '脸': 1, '屋子': 1, '动': 1, '剪刀': 1, '大石头': 1, '石头': 1, '地': 1, '蛋糕': 1, '酒': 1, '感觉': 1}\n"
     ]
    }
   ],
   "source": [
    "OBJ_dic = {}\n",
    "for i,wf in enumerate(seg_lst):\n",
    "    w,f = wf\n",
    "    if f[0] == 'n':\n",
    "        if (w not in LOC_lst) and (w not in PER_lst):\n",
    "            if w not in OBJ_dic:\n",
    "                OBJ_dic[w] =0 \n",
    "            OBJ_dic[w] +=1\n",
    "print(OBJ_dic)"
   ]
  },
  {
   "cell_type": "code",
   "execution_count": 37,
   "metadata": {},
   "outputs": [
    {
     "name": "stdout",
     "output_type": "stream",
     "text": [
      "{'Noun': ['a concave cut into a surface or edge (as in a coastline', 'the formation of small pits in a surface as a consequence of corrosion', 'the space left between the margin and the start of an indented line', 'the act of cutting into an edge with toothlike notches or angular incisions']}\n"
     ]
    },
    {
     "name": "stderr",
     "output_type": "stream",
     "text": [
      "E:\\Anaconda\\lib\\site-packages\\bs4\\__init__.py:181: UserWarning: No parser was explicitly specified, so I'm using the best available HTML parser for this system (\"lxml\"). This usually isn't a problem, but if you run this code on another system, or in a different virtual environment, it may use a different parser and behave differently.\n",
      "\n",
      "The code that caused this warning is on line 193 of the file E:\\Anaconda\\lib\\runpy.py. To get rid of this warning, change code that looks like this:\n",
      "\n",
      " BeautifulSoup(YOUR_MARKUP})\n",
      "\n",
      "to this:\n",
      "\n",
      " BeautifulSoup(YOUR_MARKUP, \"lxml\")\n",
      "\n",
      "  markup_type=markup_type))\n"
     ]
    }
   ],
   "source": [
    "from PyDictionary import PyDictionary\n",
    "\n",
    "pydic=PyDictionary()\n",
    "print(pydic.meaning(\"indentation\"))"
   ]
  }
 ],
 "metadata": {
  "kernelspec": {
   "display_name": "Python 3",
   "language": "python",
   "name": "python3"
  },
  "language_info": {
   "codemirror_mode": {
    "name": "ipython",
    "version": 3
   },
   "file_extension": ".py",
   "mimetype": "text/x-python",
   "name": "python",
   "nbconvert_exporter": "python",
   "pygments_lexer": "ipython3",
   "version": "3.6.7"
  }
 },
 "nbformat": 4,
 "nbformat_minor": 2
}
