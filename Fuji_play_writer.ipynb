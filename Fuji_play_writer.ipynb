{
 "cells": [
  {
   "cell_type": "code",
   "execution_count": 57,
   "metadata": {},
   "outputs": [],
   "source": [
    "import http.client\n",
    "import hashlib\n",
    "import json\n",
    "import urllib\n",
    "import random\n",
    "import time\n",
    "from langconv import *\n",
    "\n",
    "def dic2str(N_dic,token = '/'):\n",
    "    lst = []\n",
    "    for key, value in N_dic.items():\n",
    "        lst.append(key)\n",
    "    return '/'.join(lst)\n",
    "    \n",
    "def zh2en(content,token = '/'):\n",
    "    \n",
    "    if isinstance(content, str):\n",
    "        return  baidu_translate(content,'zh','en')\n",
    "    elif isinstance(content, dict):\n",
    "        txt = dic2str(content,token)\n",
    "        txt = baidu_translate(txt,'zh','en')\n",
    "        return txt.split(token)\n",
    "    else:\n",
    "        print('data type not support!')\n",
    "        \n",
    "def en2zh(content):\n",
    "    return  baidu_translate(content,'en','zh')\n",
    "\n",
    "def baidu_translate(content,fromLang='zh',toLang = 'en'):\n",
    "    appid = '20151113000005349'\n",
    "    secretKey = 'osubCEzlGjzvw8qdQc41'\n",
    "    httpClient = None\n",
    "    myurl = '/api/trans/vip/translate'\n",
    "    q = content\n",
    "    salt = random.randint(32768, 65536)\n",
    "    sign = appid + q + str(salt) + secretKey\n",
    "    sign = hashlib.md5(sign.encode()).hexdigest()\n",
    "    myurl = myurl + '?appid=' + appid + '&q=' + urllib.parse.quote(\n",
    "        q) + '&from=' + fromLang + '&to=' + toLang + '&salt=' + str(\n",
    "        salt) + '&sign=' + sign\n",
    " \n",
    "    try:\n",
    "        httpClient = http.client.HTTPConnection('api.fanyi.baidu.com')\n",
    "        httpClient.request('GET', myurl)\n",
    "        # response是HTTPResponse对象\n",
    "        response = httpClient.getresponse()\n",
    "        jsonResponse = response.read().decode(\"utf-8\")# 获得返回的结果，结果为json格式\n",
    "        js = json.loads(jsonResponse)  # 将json格式的结果转换字典结构\n",
    "        time.sleep(0.9)\n",
    "        dst = str(js[\"trans_result\"][0][\"dst\"])  # 取得翻译后的文本结果\n",
    "        return dst \n",
    "    except Exception as e:\n",
    "        print(e)\n",
    "    finally:\n",
    "        if httpClient:\n",
    "            httpClient.close()\n",
    "# t1 = zh2en('你好/我是誰')\n",
    "# t2 = en2zh('Hello/who am I')\n",
    "\n",
    "def toSimplified(s):\n",
    "    return Converter('zh-hans').convert(s)\n",
    "def toTraditional(s):\n",
    "    return Converter('zh-hant').convert(s)\n",
    "\n",
    "# print(t1)\n",
    "# print(t2)"
   ]
  },
  {
   "cell_type": "code",
   "execution_count": 63,
   "metadata": {},
   "outputs": [
    {
     "name": "stdout",
     "output_type": "stream",
     "text": [
      "['Hello ', ' Who am I?']\n",
      "Hello\n"
     ]
    }
   ],
   "source": [
    "print(zh2en({'你好':1,'我是誰':2}))\n",
    "print(zh2en('你好'))\n"
   ]
  },
  {
   "cell_type": "code",
   "execution_count": 3,
   "metadata": {},
   "outputs": [
    {
     "name": "stdout",
     "output_type": "stream",
     "text": [
      "十二生肖的故事.txt\n",
      "奇怪的鏡子.txt\n",
      "守株待兔.txt\n",
      "小公主和蛇.txt\n",
      "小紅帽.txt\n",
      "小蝌蚪找媽媽.txt\n",
      "小馬過河.txt\n",
      "狐假虎威.txt\n",
      "睡美人.txt\n",
      "誰跟小羚羊去避暑.txt\n",
      "龜兔賽跑.txt\n"
     ]
    }
   ],
   "source": [
    "import os\n",
    "# from hanziconv import HanziConv # trash\n",
    "lst = []\n",
    "for dirPath, dirNames, fileNames in os.walk(\"./raw\"):\n",
    "    for f in fileNames:\n",
    "        print(f)\n",
    "        lst.append(os.path.join(dirPath, f))\n",
    "#         print(os.path.join(dirPath, f))"
   ]
  },
  {
   "cell_type": "code",
   "execution_count": 4,
   "metadata": {},
   "outputs": [
    {
     "name": "stdout",
     "output_type": "stream",
     "text": [
      "1 dialogues found\n"
     ]
    },
    {
     "data": {
      "text/plain": [
       "('fuck#####', [4], [8])"
      ]
     },
     "execution_count": 4,
     "metadata": {},
     "output_type": "execute_result"
    }
   ],
   "source": [
    "def rm_dialogues(s):\n",
    "    lst1 = [pos for pos, char in enumerate(s) if char == '“']\n",
    "    lst2 = [pos for pos, char in enumerate(s) if char == '”']\n",
    "    print(str(len(lst1))+' dialogues found')\n",
    "    if(len(lst1) != len(lst1)):\n",
    "        print('dialogue error: not equal “ ” Apostrophe count')\n",
    "        return\n",
    "    for i in range(len(lst1)):\n",
    "        s = s[0: lst1[i]:] + '#'*(lst2[i]-lst1[i]+1)+ s[lst2[i] + 1::]\n",
    "    return s,lst1,lst2\n",
    "\n",
    "rm_dialogues('fuck“you”')\n",
    "f = open('./raw/小紅帽.txt','r', encoding = 'utf8')\n",
    "txt = f.read()\n",
    "txt_nd,lst1,lst2 = rm_dialogues(txt)"
   ]
  },
  {
   "cell_type": "code",
   "execution_count": 7,
   "metadata": {},
   "outputs": [
    {
     "name": "stdout",
     "output_type": "stream",
     "text": [
      "從前有個可愛的小姑娘，有一次，奶奶送給她一頂小紅帽，戴在她的頭上很漂亮。從此，大家都叫她#####。\n",
      "一天早上，媽媽對小紅帽說：###############################################################################\n",
      "小紅帽對媽媽說：###############說完小紅帽就開心地走了。\n",
      "小紅帽剛走進森林就碰到一條狼。小紅帽不知道狼是壞人，所以一點也不怕它。\n",
      "狼說：#########\n",
      "小紅帽說：#########\n",
      "################\n",
      "#########################\n",
      "狼問：###############\n",
      "小紅帽說：##########################\n",
      "狼在想：#################################於是它對小紅帽說：######################################\n",
      "小紅帽想：#################################於是她離開大路，走進林子去採花。這時候，狼跑到奶奶家，敲了敲門。\n",
      "奶奶問：######\n",
      "狼捏著鼻子說：########################\n",
      "奶奶大聲說：########################################\n",
      "狼拉開門走了進來，他衝到奶奶床前，把她吞進了肚子。然後她穿上奶奶的衣服，戴上她的帽子，躺在床上，還拉上了簾子。\n",
      "過了一會兒，小紅帽來到了奶奶家，門沒有關，小紅帽直接走了進去，大聲說：######她走到床前拉開簾子，只見奶奶躺在床上，帽子把臉都遮住了。\n",
      "小紅帽說：################\n",
      "狼說：################\n",
      "小紅帽又問：##################\n",
      "###############\n",
      "###############\n",
      "###############\n",
      "##################\n",
      "狼說：############說完他就從床上跳起來，把小紅帽吞進了肚子，狼吃飽就躺到床上睡著了。\n",
      "一位獵人正好從屋前走過，看奶奶的屋子的門是打開了，於是他走進去看看，看見狼躺在床上，肚子還在動，於是，獵人起一把剪刀，狼的肚子剪開了。\n",
      "小紅帽和奶奶都被救了出來，這時候獵人搬來幾塊大石頭，塞進狼的肚子。狼醒來之後想逃走，可是那些石頭太重了，它剛站起來就跌倒在地，摔死了。\n",
      "他們高興極了，奶奶吃了小紅帽帶來的蛋糕和酒，感覺好多了。\n"
     ]
    }
   ],
   "source": [
    "print(txt_nd)"
   ]
  },
  {
   "cell_type": "markdown",
   "metadata": {},
   "source": [
    "# Print all dialogue"
   ]
  },
  {
   "cell_type": "code",
   "execution_count": 7,
   "metadata": {
    "scrolled": true
   },
   "outputs": [
    {
     "name": "stdout",
     "output_type": "stream",
     "text": [
      "“小紅帽”\n",
      "“來，小紅帽，這裡有一塊蛋糕和一瓶酒，奶奶生病了，快給奶奶送去，在路上要好好走，不要跑，也不要離開大路，不然你會摔跤的，到奶奶家的時候，別忘了說'早上好'。”\n",
      "“我會小心的，我去看奶奶啦！”\n",
      "“你好，小紅帽！”\n",
      "“你好，狼先生。”\n",
      "“小紅帽，這麼早要到哪裡去呀？”\n",
      "“我要到奶奶家去。奶奶病了，我給她帶了蛋糕和酒。”\n",
      "“你奶奶住在哪裡呀，小紅帽？”\n",
      "“在森林裡，她的房子就在三棵大樹下，你一定知道的。”\n",
      "“這個小孩白白的，味道肯定比那老太婆要好。我要把她們兩個都吃掉。”\n",
      "“小紅帽，你看周圍這些花多麼美麗啊，應該採點給你的奶奶，她一定會很開心的。”\n",
      "“是啊，這些花這麼漂亮，我該採一把鮮花給奶奶，她一定會很高興地。”\n",
      "“是誰呀？”\n",
      "“我是小紅帽。我給您送蛋糕和酒來了，快開門哪。”\n",
      "“哦，是我可愛的小紅帽啊，你拉一下門就行了，門沒有關，我身上沒有力氣，起不來。”\n",
      "“早上好！”\n",
      "“奶奶，您的耳朵怎麼這樣大呀？”\n",
      "“為了更好地聽你說話呀，乖乖。”\n",
      "“可是奶奶，你的眼睛怎麼這樣大呀？”\n",
      "“為了更清楚地看你呀，乖乖。”\n",
      "“奶奶，你的手怎麼這樣大呀？”\n",
      "“可以更好地抱著你呀，乖乖。”\n",
      "“奶奶，你的嘴巴怎麼大得很嚇人呀？”\n",
      "“可以一口把你吃掉呀！”\n"
     ]
    }
   ],
   "source": [
    "for i in range(len(lst1)):\n",
    "    print(txt[lst1[i]:lst2[i]+1])"
   ]
  },
  {
   "cell_type": "code",
   "execution_count": 9,
   "metadata": {
    "collapsed": true
   },
   "outputs": [],
   "source": [
    "#  characters, the events, the locations,time,actions (optional: relation among characters)\n",
    "#  who speak to who\n",
    "# recall precision of 人名 時間 地名 物品\n",
    "# label規則: 用jieba切出的字為主\n",
    "\n",
    "# 人名 事件 時間 地名 物品\n",
    "N_class = ['TIME','\tLOC','PER']\n"
   ]
  },
  {
   "cell_type": "code",
   "execution_count": 8,
   "metadata": {},
   "outputs": [
    {
     "name": "stdout",
     "output_type": "stream",
     "text": [
      "从前有个可爱的小姑娘 有一次 奶奶送给她一顶小红帽 戴在她的头上很漂亮 从此 大家都叫她 一天早上 妈妈对小红帽说 小红帽对妈妈说 说完小红帽就开心地走了 小红帽刚走进森林就碰到一条狼 小红帽不知道狼是坏人 所以一点也不怕它 狼说 小红帽说   狼问 小红帽说 狼在想 于是它对小红帽说 小红帽想 于是她离开大路 走进林子去采花 这时候 狼跑到奶奶家 敲了敲门 奶奶问 狼捏着鼻子说 奶奶大声说 狼拉开门走了进来 他冲到奶奶床前 把她吞进了肚子 然后她穿上奶奶的衣服 戴上她的帽子 躺在床上 还拉上了帘子 过了一会儿 小红帽来到了奶奶家 门没有关 小红帽直接走了进去 大声说 她走到床前拉开帘子 只见奶奶躺在床上 帽子把脸都遮住了 小红帽说 狼说 小红帽又问     狼说 说完他就从床上跳起来 把小红帽吞进了肚子 狼吃饱就躺到床上睡着了 一位猎人正好从屋前走过 看奶奶的屋子的门是打开了 于是他走进去看看 看见狼躺在床上 肚子还在动 于是 猎人起一把剪刀 狼的肚子剪开了 小红帽和奶奶都被救了出来 这时候猎人搬来几块大石头 塞进狼的肚子 狼醒来之后想逃走 可是那些石头太重了 它刚站起来就跌倒在地 摔死了 他们高兴极了 奶奶吃了小红帽带来的蛋糕和酒 感觉好多了 \n"
     ]
    }
   ],
   "source": [
    "import re\n",
    "import zhon\n",
    "from zhon.hanzi import punctuation\n",
    "\n",
    "\n",
    "punc = \"\"\"！？｡。＂＃#＄％＆＇（）＊＋－／：；，＜＝\"＞＠［＼］＾＿｀｛｜｝～｟｠｢｣､、〃》「」『』【】 〔〕〖〗〘〙〚〛〜〝〞〟〰–—''‛“”„‟…‧﹏\"\"\"\n",
    "re_punc = \"[{}]+\".format(punc)\n",
    "clean_txt = re.sub(re_punc, \" \", txt_nd)\n",
    "clean_txt = re.sub(\"\\n\", \"\", clean_txt)\n",
    "clean_txt = toSimplified(clean_txt)\n",
    "print(clean_txt)"
   ]
  },
  {
   "cell_type": "code",
   "execution_count": 12,
   "metadata": {},
   "outputs": [
    {
     "data": {
      "text/plain": [
       "'太重'"
      ]
     },
     "execution_count": 12,
     "metadata": {},
     "output_type": "execute_result"
    }
   ],
   "source": [
    "toSimplified('太重')\n",
    "# toTraditional('塞进陈')\n"
   ]
  },
  {
   "cell_type": "code",
   "execution_count": 101,
   "metadata": {
    "scrolled": false
   },
   "outputs": [
    {
     "name": "stdout",
     "output_type": "stream",
     "text": [
      "nr 小姑娘/n 奶奶/n 小紅帽/n 大家/n 媽媽/n 小紅帽/n 小紅帽/n 媽媽/n 小紅帽/n 小紅帽/n 森林/n 狼/n 小紅帽/n 狼/n 壞人/n 狼/n 小紅帽/n 狼/n 小紅帽/n 狼/n 小紅帽/n 小紅帽/n 大路/nr 林子/n 狼/n 奶奶家/n 奶奶/n 問/n 狼/n 奶奶/n 狼/n 門/n 奶奶/n 床/n 肚子/n 奶奶/n 衣服/n 帽子/n 床上/n 簾子/n 小紅帽/n 奶奶家/n 門/n 小紅帽/n 床/n 簾子/n 奶奶/n 床上/n 帽子/n 臉/n 小紅帽/n 狼/n 小紅帽/n 狼/n 床上/n 小紅帽/n 肚子/n 狼/n 床上/n 獵人/n 奶奶/n 屋子/n 門/n 狼/n 床上/n 肚子/n 動/n 獵人/n 剪刀/n 狼/n 肚子/n 小紅帽/n 奶奶/n 獵人/n 大石頭/n 狼/n 肚子/n 狼/n 石頭/n 地/n 奶奶/n 小紅帽/n 蛋糕/n 酒/n 感覺/"
     ]
    }
   ],
   "source": [
    "import jieba\n",
    "import jieba.posseg as pseg\n",
    "from importlib import reload \n",
    "reload(pseg)\n",
    "\n",
    "seg_lst = pseg.cut(clean_txt)\n",
    "N_dic = {}\n",
    "for w,f in seg_lst:\n",
    "    if f[0] == 'n':\n",
    "        print(f,toTraditional(w),end = '/')\n",
    "        if w not in N_dic:\n",
    "            N_dic[w] = 0\n",
    "        N_dic[w] +=1\n",
    "        "
   ]
  },
  {
   "cell_type": "code",
   "execution_count": 16,
   "metadata": {
    "collapsed": true
   },
   "outputs": [
    {
     "name": "stdout",
     "output_type": "stream",
     "text": [
      "{'Noun': ['a concave cut into a surface or edge (as in a coastline', 'the formation of small pits in a surface as a consequence of corrosion', 'the space left between the margin and the start of an indented line', 'the act of cutting into an edge with toothlike notches or angular incisions']}\n"
     ]
    },
    {
     "name": "stderr",
     "output_type": "stream",
     "text": [
      "E:\\Anaconda\\lib\\site-packages\\bs4\\__init__.py:181: UserWarning: No parser was explicitly specified, so I'm using the best available HTML parser for this system (\"lxml\"). This usually isn't a problem, but if you run this code on another system, or in a different virtual environment, it may use a different parser and behave differently.\n",
      "\n",
      "The code that caused this warning is on line 193 of the file E:\\Anaconda\\lib\\runpy.py. To get rid of this warning, change code that looks like this:\n",
      "\n",
      " BeautifulSoup(YOUR_MARKUP})\n",
      "\n",
      "to this:\n",
      "\n",
      " BeautifulSoup(YOUR_MARKUP, \"lxml\")\n",
      "\n",
      "  markup_type=markup_type))\n"
     ]
    }
   ],
   "source": [
    "from PyDictionary import PyDictionary\n",
    "\n",
    "pydic=PyDictionary()\n",
    "print(pydic.meaning(\"indentation\"))"
   ]
  },
  {
   "cell_type": "code",
   "execution_count": 102,
   "metadata": {},
   "outputs": [
    {
     "name": "stdout",
     "output_type": "stream",
     "text": [
      "<generator object cut at 0x000000004A7BC6D0>\n",
      "头上 s\n",
      "屋前 s\n"
     ]
    }
   ],
   "source": [
    "\n",
    "seg_lst = pseg.cut(clean_txt)\n",
    "# print(\"/ \".join(seg_lst))\n",
    "print(seg_lst)\n",
    "\n",
    "for word,flag in seg_lst:\n",
    "#     if flag == 't':\n",
    "#         print(word,flag)\n",
    "    if flag == 's':\n",
    "        print(word,flag)\n",
    "    "
   ]
  },
  {
   "cell_type": "code",
   "execution_count": 104,
   "metadata": {},
   "outputs": [
    {
     "name": "stdout",
     "output_type": "stream",
     "text": [
      "{'小姑娘': 1, '奶奶': 9, '小红帽': 17, '大家': 1, '妈妈': 2, '森林': 1, '狼': 15, '坏人': 1, '大路': 1, '林子': 1, '奶奶家': 2, '问': 1, '门': 3, '床': 2, '肚子': 5, '衣服': 1, '帽子': 2, '床上': 5, '帘子': 2, '脸': 1, '猎人': 3, '屋子': 1, '动': 1, '剪刀': 1, '大石头': 1, '石头': 1, '地': 1, '蛋糕': 1, '酒': 1, '感觉': 1}\n"
     ]
    }
   ],
   "source": [
    "w_dic = {}\n",
    "seg_lst = pseg.cut(clean_txt)\n",
    "for w,f in seg_lst:\n",
    "    if f[0] != 'n':\n",
    "        continue\n",
    "    if w not in w_dic:\n",
    "        w_dic[w] = 0\n",
    "    w_dic[w] +=1\n",
    "print(w_dic)"
   ]
  },
  {
   "cell_type": "code",
   "execution_count": null,
   "metadata": {},
   "outputs": [],
   "source": [
    "en_lst = zh2en(w_dic)\n",
    "en_lst = [t.lower() for t in en_lst]\n",
    "en_lst_simp = [t.split(' ')[-1] for t in en_lst]\n",
    "print(en_lst)\n",
    "print(en_lst_simp)\n"
   ]
  },
  {
   "cell_type": "code",
   "execution_count": null,
   "metadata": {
    "collapsed": true
   },
   "outputs": [],
   "source": [
    "import gensim\n",
    "model = gensim.models.KeyedVectors.load_word2vec_format('GoogleNews-vectors-negative300.bin',binary=True)\n",
    "model.similarity('france', 'spain')"
   ]
  },
  {
   "cell_type": "code",
   "execution_count": 83,
   "metadata": {},
   "outputs": [
    {
     "name": "stderr",
     "output_type": "stream",
     "text": [
      "E:\\Anaconda\\lib\\site-packages\\gensim\\matutils.py:737: FutureWarning: Conversion of the second argument of issubdtype from `int` to `np.signedinteger` is deprecated. In future, it will be treated as `np.int32 == np.dtype(int).type`.\n",
      "  if np.issubdtype(vec.dtype, np.int):\n"
     ]
    },
    {
     "data": {
      "text/plain": [
       "0.11833924"
      ]
     },
     "execution_count": 83,
     "metadata": {},
     "output_type": "execute_result"
    }
   ],
   "source": [
    "model.similarity('Hunter', 'man')"
   ]
  },
  {
   "cell_type": "markdown",
   "metadata": {},
   "source": [
    "# PERSON"
   ]
  },
  {
   "cell_type": "code",
   "execution_count": 95,
   "metadata": {},
   "outputs": [
    {
     "name": "stdout",
     "output_type": "stream",
     "text": [
      "girl 0.5921714\n",
      "grandma 0.2838411\n",
      "everybody 0.22861832\n",
      "mother 0.4030872\n",
      "man 1.0\n",
      "hunter 0.3275265\n"
     ]
    },
    {
     "name": "stderr",
     "output_type": "stream",
     "text": [
      "E:\\Anaconda\\lib\\site-packages\\gensim\\matutils.py:737: FutureWarning: Conversion of the second argument of issubdtype from `int` to `np.signedinteger` is deprecated. In future, it will be treated as `np.int32 == np.dtype(int).type`.\n",
      "  if np.issubdtype(vec.dtype, np.int):\n"
     ]
    }
   ],
   "source": [
    "for t in en_lst_simp:\n",
    "    try:\n",
    "        s = model.similarity(t, 'man')\n",
    "        if s>0.2:\n",
    "            print(t,s)\n",
    "    except:\n",
    "        print(t,'x')"
   ]
  },
  {
   "cell_type": "markdown",
   "metadata": {},
   "source": [
    "# LOCATION"
   ]
  },
  {
   "cell_type": "code",
   "execution_count": 99,
   "metadata": {},
   "outputs": [
    {
     "name": "stdout",
     "output_type": "stream",
     "text": [
      "girl 0.12710778\n",
      "grandma 0.018642107\n",
      "hood 0.035406955\n",
      "beautiful 0.16463353\n",
      "everybody 0.052198682\n",
      "mother 0.04702812\n",
      "forest 1.0\n",
      "wolf 0.3996118\n",
      "man 0.06481279\n",
      "road 0.21536832\n",
      "forest 1.0\n",
      "home 0.089592405\n",
      "question 0.08550777\n",
      "door 0.047282077\n",
      "bed 0.10768649\n",
      "belly 0.07776889\n",
      "clothes 0.04354595\n",
      "hat 0.03300813\n",
      "bed 0.10768649\n",
      "curtain 0.052552387\n",
      "face 0.05196788\n",
      "hunter 0.26877695\n",
      "room 0.10900552\n",
      "moving -0.004623081\n",
      "scissors 0.05265301\n",
      "stone 0.1830832\n",
      "land 0.40477934\n",
      "cake 0.060621537\n",
      "wine 0.13602315\n",
      "feeling 0.0089932475\n"
     ]
    },
    {
     "name": "stderr",
     "output_type": "stream",
     "text": [
      "E:\\Anaconda\\lib\\site-packages\\gensim\\matutils.py:737: FutureWarning: Conversion of the second argument of issubdtype from `int` to `np.signedinteger` is deprecated. In future, it will be treated as `np.int32 == np.dtype(int).type`.\n",
      "  if np.issubdtype(vec.dtype, np.int):\n"
     ]
    }
   ],
   "source": [
    "for t in en_lst_simp:\n",
    "    try:\n",
    "        s = model.similarity(t, 'forest')\n",
    "#         if s>0.2:\n",
    "        print(t,s)\n",
    "    except:\n",
    "        print(t,'x')"
   ]
  }
 ],
 "metadata": {
  "kernelspec": {
   "display_name": "Python 3",
   "language": "python",
   "name": "python3"
  },
  "language_info": {
   "codemirror_mode": {
    "name": "ipython",
    "version": 3
   },
   "file_extension": ".py",
   "mimetype": "text/x-python",
   "name": "python",
   "nbconvert_exporter": "python",
   "pygments_lexer": "ipython3",
   "version": "3.6.7"
  }
 },
 "nbformat": 4,
 "nbformat_minor": 2
}
