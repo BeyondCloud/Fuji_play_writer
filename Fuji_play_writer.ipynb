{
 "cells": [
  {
   "cell_type": "markdown",
   "metadata": {},
   "source": [
    "# working flow:\n",
    "    1.extract character (who speak something) output:characters\n",
    "    2.dialogue/character matching:\n"
   ]
  },
  {
   "cell_type": "code",
   "execution_count": 1,
   "metadata": {},
   "outputs": [
    {
     "name": "stdout",
     "output_type": "stream",
     "text": [
      "Little brother\n",
      "Big brother\n"
     ]
    }
   ],
   "source": [
    "from googletrans import Translator\n",
    "translator = Translator()\n",
    "print(translator.translate('弟弟', dest='en').text)\n",
    "print(translator.translate('大哥', dest='en').text)"
   ]
  },
  {
   "cell_type": "code",
   "execution_count": 2,
   "metadata": {},
   "outputs": [],
   "source": [
    "import http.client\n",
    "import hashlib\n",
    "import json\n",
    "import urllib\n",
    "import random\n",
    "import time\n",
    "from langconv import *\n",
    "\n",
    "def dic2str(N_dic,token = '/'):\n",
    "    lst = []\n",
    "    for key, value in N_dic.items():\n",
    "        lst.append(key)\n",
    "    return token.join(lst)\n",
    "def dic2lst(N_dic):\n",
    "    lst = []\n",
    "    for key, value in N_dic.items():\n",
    "        lst.append(key)\n",
    "    return lst\n",
    "def zh2en(content,token = ' / '):\n",
    "    \n",
    "    if isinstance(content, str):\n",
    "        return translator.translate(content, dest='en').text\n",
    "    elif isinstance(content, dict):\n",
    "        txt = dic2lst(content)\n",
    "        lst_out = []\n",
    "        for t in txt:\n",
    "            lst_out.append(translator.translate(t, dest='en').text)  \n",
    "        return lst_out\n",
    "    else:\n",
    "        print('data type not support!')\n",
    "        \n",
    "def en2zh(content):\n",
    "    return translator.translate('cow', dest='zh-tw').text\n",
    "\n",
    "def toSimplified(s):\n",
    "    return Converter('zh-hans').convert(s)\n",
    "def toTraditional(s):\n",
    "    return Converter('zh-hant').convert(s)\n",
    "def dic_add(dic,w):\n",
    "    if w not in dic:\n",
    "        dic[w] =0\n",
    "    dic[w]+=1\n",
    "#     return dic\n",
    "\n",
    "# print(t1)\n",
    "# print(t2)"
   ]
  },
  {
   "cell_type": "code",
   "execution_count": 3,
   "metadata": {},
   "outputs": [
    {
     "name": "stdout",
     "output_type": "stream",
     "text": [
      "['Hello there', 'who am I']\n",
      "Hello there\n"
     ]
    }
   ],
   "source": [
    "print(zh2en({'你好':1,'我是誰':2}))\n",
    "print(zh2en('你好'))\n"
   ]
  },
  {
   "cell_type": "code",
   "execution_count": 4,
   "metadata": {},
   "outputs": [
    {
     "name": "stdout",
     "output_type": "stream",
     "text": [
      "三隻小豬.txt\n",
      "十二生肖的故事.txt\n",
      "奇怪的鏡子.txt\n",
      "守株待兔.txt\n",
      "小公主和蛇.txt\n",
      "小紅帽.txt\n",
      "小蝌蚪找媽媽.txt\n",
      "小馬過河.txt\n",
      "狐假虎威.txt\n",
      "睡美人.txt\n",
      "誰跟小羚羊去避暑.txt\n",
      "龜兔賽跑.txt\n"
     ]
    }
   ],
   "source": [
    "import os\n",
    "# from hanziconv import HanziConv # trash\n",
    "lst = []\n",
    "for dirPath, dirNames, fileNames in os.walk(\"./raw\"):\n",
    "    for f in fileNames:\n",
    "        print(f)\n",
    "        lst.append(os.path.join(dirPath, f))\n",
    "#         print(os.path.join(dirPath, f))"
   ]
  },
  {
   "cell_type": "code",
   "execution_count": 5,
   "metadata": {},
   "outputs": [
    {
     "name": "stdout",
     "output_type": "stream",
     "text": [
      "27 dialogues found\n"
     ]
    }
   ],
   "source": [
    "def rm_dialogues(s,token1 = '“',token2 = '”'):\n",
    "    lst1 = [pos for pos, char in enumerate(s) if char == token1]\n",
    "    lst2 = [pos for pos, char in enumerate(s) if char == token2]\n",
    "    print(str(len(lst1))+' dialogues found')\n",
    "    if(len(lst1) != len(lst1)):\n",
    "        print('dialogue error: not equal “ ” Apostrophe count')\n",
    "        return\n",
    "    for i in range(len(lst1)):\n",
    "        s = s[0: lst1[i]:] + '#'*(lst2[i]-lst1[i]+1)+ s[lst2[i] + 1::]\n",
    "    return s,lst1,lst2\n",
    "\n",
    "f = open('./raw/三隻小豬.txt','r', encoding = 'utf8')\n",
    "txt = f.read()\n",
    "txt_nd,lst1,lst2 = rm_dialogues(txt,\"「\",\"」\")\n"
   ]
  },
  {
   "cell_type": "code",
   "execution_count": 6,
   "metadata": {},
   "outputs": [
    {
     "name": "stdout",
     "output_type": "stream",
     "text": [
      "从前#有一只胖胖的猪妈妈#她生了三只小猪#最大的小猪#猪大哥很贪睡#很懒惰#一天到晚都在打瞌睡#第二个小猪#猪二哥很爱吃#他也很懒惰#幸好最小的小猪#猪小弟是个勤劳的好孩子#常常努力的工作#有一天#猪妈妈告诉他们说#猪大哥噘起嘴#懒洋洋走出家门#猪大哥想一想说#稻草屋很快的盖好了#猪大哥好得意#他马上去找两个弟弟来#很骄傲的对他们说##猪二哥看见说#可是猪小弟并不以为然#他说#猪二哥想了想#说#猪二哥决定以后#他很认真的工作#一会儿敲敲钉子#一会儿锯木头#很快的#一栋木屋盖好了#猪二哥赶忙把哥哥和弟弟都请来#骄傲的说#猪小弟说##猪二哥骂小弟说#猪小弟不慌不忙说#猪小弟不理会哥哥的嘲笑#他搬好了砖块#又搬水泥#他把水泥和好了#开始堆砌砖块#一块一块将抹上水泥的砖头堆砌起来#猪小弟心理想#你们不要笑我#等我盖好了#你们就知道了#我的房子比什么都坚固#野狼来了我也不怕呢#猪小弟继续加油工作#他赶呀赶#赶到天黑#月亮挂在天上了#他的红砖房子才好不容易盖好了#猪小弟正想休息#却听到了大野狼的吼叫声#猪小弟猛吸一口气说#这时两个猪哥哥也听到了野狼的吼叫声#怕得发抖#他们怕野狼来#所以整夜都不敢安心睡觉#隔天#猪妈妈要三只小猪到田里工作#没想到走到半路的时候#他们被一只可怕的大野狼发现了#野狼一直跟踪他们#野狼决定先吃猪大哥#猪大哥刚回到家#就听到大野狼的声音#野狼叫门叫得好凶#猪大哥吓得脸都白了#他赶紧拿一把大锁#把门紧紧锁了起来#可是野狼哈哈大笑说#他说完话#用力一吹#果然把稻草屋吹倒了#猪大哥吓得直跑到猪二哥家##大哥慌慌张张跑进猪二哥的木屋子#赶忙把大门闩上#怕野狼闯进来#可是野狼吼叫说#两只小猪怕得缩着身子挤在一起#头上直冒冷汗#因为野狼怕把门打坏了#门板发出吱吱吱的断裂声#两只小猪眼看野狼就要冲进来了#他们乱闯乱撞#结果撞倒了木屋子#他们直奔到猪小弟的家#野狼也一直在身后追赶他们#两只小猪逃呀逃呀#逃到小弟弟的家中#猪大哥上气不接下气的说#猪小弟却一点都不担心#他说#很快的#野狼就追来了#他生气的说#野狼说着说的开始撞墙了#他使出全身力气#向砖墙猛撞过去##一声#砖墙没被撞倒#野狼的骨头却断了#野狼哭哭啼啼的回家去了##三只小猪很高兴的叫起来#从此#他们三个兄弟住在一起#每天一起吃饭睡觉#也一起工作#日子过得很快乐#而且野狼一直没再出现呢#\n"
     ]
    }
   ],
   "source": [
    "import re\n",
    "import zhon\n",
    "from zhon.hanzi import punctuation\n",
    "\n",
    "\n",
    "punc = \"\"\"！？｡。＂＃#＄％＆＇（）＊＋－／：；，＜＝\"＞＠［＼］＾＿｀｛｜｝～｟｠｢｣､、〃》「」『』【】 〔〕〖〗〘〙〚〛〜〝〞〟〰–—''‛“”„‟…‧﹏\"\"\"\n",
    "re_punc = \"[{}]+\".format(punc)\n",
    "clean_txt = re.sub(re_punc, \"#\", txt_nd)\n",
    "clean_txt = re.sub(\"\\n\", \"\", clean_txt)\n",
    "clean_txt = toSimplified(clean_txt)\n",
    "print(clean_txt)"
   ]
  },
  {
   "cell_type": "markdown",
   "metadata": {},
   "source": [
    "# Print all dialogue"
   ]
  },
  {
   "cell_type": "code",
   "execution_count": 7,
   "metadata": {
    "scrolled": true
   },
   "outputs": [
    {
     "name": "stdout",
     "output_type": "stream",
     "text": [
      "「你們都長大了，應該自己蓋房子，自己住，自己種田，自己生活。我要你們自己照顧自己。」\n",
      "「咿咿．．．．．好討厭哦！」\n",
      "「蓋一棟稻草屋吧，那最簡單了。」\n",
      "「我的房子蓋好了，很漂亮吧～，你們也快一點蓋吧！」\n",
      "「哇，果然很漂亮，大哥，你真了不起啊！」\n",
      "「哥，你不擔心稻草屋會被風吹倒嗎？」\n",
      "「稻草屋會被風吹倒，那我就用木頭來蓋好了，木屋較重，不怕風吹。」\n",
      "「咚咚咚，咚咚咚！」\n",
      "「你們看，這麼漂亮的房子！而且釘得很牢固，不會被風吹倒，我真的好棒呀！」\n",
      "「木屋雖然不會被風吹倒，可是用力打，木頭會被打斷，房子就垮了。」\n",
      "「討厭！」\n",
      "「你以為你最聰明？看你搬磚頭搬一整天了，房子還沒蓋出來。笨蛋～～」\n",
      "「我蓋房子雖然比你們慢，但是我要蓋的房子不怕風吹，也不怕敲打，紅磚房子最牢固了。」\n",
      "「幸好房子蓋好了，我不怕大野狼。」\n",
      "「砰砰砰！小豬朋友，快給我開門！」\n",
      "「你這個大笨蛋，這種稻草屋，我吹一口氣就倒了。」\n",
      "「救命呀！」\n",
      "「木頭屋子一樣擋不住我，我一定要把你吃掉！」\n",
      "「砰～～」\n",
      "「弟弟，弟弟，小．．．．弟弟，野狼在我們．．身．．．後．．．」\n",
      "「快把門鎖緊，不然我們會被吃掉的。」\n",
      "「怕什麼？這麼堅固的磚屋，野狼進不來的。」\n",
      "「死小豬，看我把你們的房子撞倒，你們就要被我吃掉了。」\n",
      "「呀！～～」\n",
      "「啪啦！」\n",
      "「哎唷，痛死我了，痛死我了！」\n",
      "「萬歲！」\n"
     ]
    }
   ],
   "source": [
    "for i in range(len(lst1)):\n",
    "    print(txt[lst1[i]:lst2[i]+1])"
   ]
  },
  {
   "cell_type": "code",
   "execution_count": 8,
   "metadata": {},
   "outputs": [
    {
     "data": {
      "text/plain": [
       "['从前',\n",
       " '有一只胖胖的猪妈妈',\n",
       " '她生了三只小猪',\n",
       " '最大的小猪',\n",
       " '猪大哥很贪睡',\n",
       " '很懒惰',\n",
       " '一天到晚都在打瞌睡',\n",
       " '第二个小猪',\n",
       " '猪二哥很爱吃',\n",
       " '他也很懒惰',\n",
       " '幸好最小的小猪',\n",
       " '猪小弟是个勤劳的好孩子',\n",
       " '常常努力的工作',\n",
       " '有一天',\n",
       " '猪妈妈告诉他们说',\n",
       " '猪大哥噘起嘴',\n",
       " '懒洋洋走出家门',\n",
       " '猪大哥想一想说',\n",
       " '稻草屋很快的盖好了',\n",
       " '猪大哥好得意',\n",
       " '他马上去找两个弟弟来',\n",
       " '很骄傲的对他们说',\n",
       " '',\n",
       " '猪二哥看见说',\n",
       " '可是猪小弟并不以为然',\n",
       " '他说',\n",
       " '猪二哥想了想',\n",
       " '说',\n",
       " '猪二哥决定以后',\n",
       " '他很认真的工作',\n",
       " '一会儿敲敲钉子',\n",
       " '一会儿锯木头',\n",
       " '很快的',\n",
       " '一栋木屋盖好了',\n",
       " '猪二哥赶忙把哥哥和弟弟都请来',\n",
       " '骄傲的说',\n",
       " '猪小弟说',\n",
       " '',\n",
       " '猪二哥骂小弟说',\n",
       " '猪小弟不慌不忙说',\n",
       " '猪小弟不理会哥哥的嘲笑',\n",
       " '他搬好了砖块',\n",
       " '又搬水泥',\n",
       " '他把水泥和好了',\n",
       " '开始堆砌砖块',\n",
       " '一块一块将抹上水泥的砖头堆砌起来',\n",
       " '猪小弟心理想',\n",
       " '你们不要笑我',\n",
       " '等我盖好了',\n",
       " '你们就知道了',\n",
       " '我的房子比什么都坚固',\n",
       " '野狼来了我也不怕呢',\n",
       " '猪小弟继续加油工作',\n",
       " '他赶呀赶',\n",
       " '赶到天黑',\n",
       " '月亮挂在天上了',\n",
       " '他的红砖房子才好不容易盖好了',\n",
       " '猪小弟正想休息',\n",
       " '却听到了大野狼的吼叫声',\n",
       " '猪小弟猛吸一口气说',\n",
       " '这时两个猪哥哥也听到了野狼的吼叫声',\n",
       " '怕得发抖',\n",
       " '他们怕野狼来',\n",
       " '所以整夜都不敢安心睡觉',\n",
       " '隔天',\n",
       " '猪妈妈要三只小猪到田里工作',\n",
       " '没想到走到半路的时候',\n",
       " '他们被一只可怕的大野狼发现了',\n",
       " '野狼一直跟踪他们',\n",
       " '野狼决定先吃猪大哥',\n",
       " '猪大哥刚回到家',\n",
       " '就听到大野狼的声音',\n",
       " '野狼叫门叫得好凶',\n",
       " '猪大哥吓得脸都白了',\n",
       " '他赶紧拿一把大锁',\n",
       " '把门紧紧锁了起来',\n",
       " '可是野狼哈哈大笑说',\n",
       " '他说完话',\n",
       " '用力一吹',\n",
       " '果然把稻草屋吹倒了',\n",
       " '猪大哥吓得直跑到猪二哥家',\n",
       " '',\n",
       " '大哥慌慌张张跑进猪二哥的木屋子',\n",
       " '赶忙把大门闩上',\n",
       " '怕野狼闯进来',\n",
       " '可是野狼吼叫说',\n",
       " '两只小猪怕得缩着身子挤在一起',\n",
       " '头上直冒冷汗',\n",
       " '因为野狼怕把门打坏了',\n",
       " '门板发出吱吱吱的断裂声',\n",
       " '两只小猪眼看野狼就要冲进来了',\n",
       " '他们乱闯乱撞',\n",
       " '结果撞倒了木屋子',\n",
       " '他们直奔到猪小弟的家',\n",
       " '野狼也一直在身后追赶他们',\n",
       " '两只小猪逃呀逃呀',\n",
       " '逃到小弟弟的家中',\n",
       " '猪大哥上气不接下气的说',\n",
       " '猪小弟却一点都不担心',\n",
       " '他说',\n",
       " '很快的',\n",
       " '野狼就追来了',\n",
       " '他生气的说',\n",
       " '野狼说着说的开始撞墙了',\n",
       " '他使出全身力气',\n",
       " '向砖墙猛撞过去',\n",
       " '',\n",
       " '一声',\n",
       " '砖墙没被撞倒',\n",
       " '野狼的骨头却断了',\n",
       " '野狼哭哭啼啼的回家去了',\n",
       " '',\n",
       " '三只小猪很高兴的叫起来',\n",
       " '从此',\n",
       " '他们三个兄弟住在一起',\n",
       " '每天一起吃饭睡觉',\n",
       " '也一起工作',\n",
       " '日子过得很快乐',\n",
       " '而且野狼一直没再出现呢',\n",
       " '']"
      ]
     },
     "execution_count": 8,
     "metadata": {},
     "output_type": "execute_result"
    }
   ],
   "source": [
    "clean_txt.split('#')"
   ]
  },
  {
   "cell_type": "markdown",
   "metadata": {},
   "source": [
    "# build customized dictionary (簡體/繁體)"
   ]
  },
  {
   "cell_type": "code",
   "execution_count": 9,
   "metadata": {},
   "outputs": [],
   "source": [
    "f = open('./user_dict_tw.txt','r', encoding = 'utf8')\n",
    "txt = f.read().split('\\n')\n",
    "text_file = open(\"user_dict_ch.txt\", \"w\", encoding = 'utf8')\n",
    "for t in txt:\n",
    "    text_file.write(toSimplified(t)+\" chr\")\n",
    "    text_file.write(\"\\n\")\n",
    "    \n",
    "text_file.close()"
   ]
  },
  {
   "cell_type": "markdown",
   "metadata": {},
   "source": [
    "# TIME word"
   ]
  },
  {
   "cell_type": "code",
   "execution_count": 10,
   "metadata": {
    "scrolled": false
   },
   "outputs": [
    {
     "name": "stderr",
     "output_type": "stream",
     "text": [
      "Building prefix dict from the default dictionary ...\n",
      "Loading model from cache C:\\Users\\a1989\\AppData\\Local\\Temp\\jieba.cache\n",
      "Loading model cost 1.137 seconds.\n",
      "Prefix dict has been built succesfully.\n"
     ]
    },
    {
     "name": "stdout",
     "output_type": "stream",
     "text": [
      "f 以後/f 上/f 身後/\n",
      "time word: {'从前': 0, '天黑': 0}\n"
     ]
    }
   ],
   "source": [
    "import jieba\n",
    "jieba.load_userdict('user_dict_ch.txt') \n",
    "from termcolor import colored\n",
    "import jieba.posseg as pseg\n",
    "from importlib import reload \n",
    "reload(pseg)\n",
    "\n",
    "seg_lst = pseg.cut(clean_txt)\n",
    "Nt_dic = {}  #No time dictionary\n",
    "time_dic = {}\n",
    "for w,f in seg_lst:\n",
    "    \n",
    "    if f[0] == 'f':\n",
    "        print(f,toTraditional(w),end = '/')\n",
    "    elif f[0] == 't':\n",
    "        if w not in time_dic:\n",
    "            time_dic[w] = 0\n",
    "        else:\n",
    "            time_dic[w]+=1\n",
    "    else:\n",
    "        if w not in Nt_dic:\n",
    "            Nt_dic[w] = 0\n",
    "        Nt_dic[w] +=1\n",
    "print()\n",
    "print('time word:',time_dic)"
   ]
  },
  {
   "cell_type": "markdown",
   "metadata": {},
   "source": [
    "# LOCATION"
   ]
  },
  {
   "cell_type": "code",
   "execution_count": 11,
   "metadata": {
    "scrolled": true
   },
   "outputs": [
    {
     "name": "stdout",
     "output_type": "stream",
     "text": [
      "# x/有 v/一只 m/胖胖的 z/猪 n/妈妈 n/# x/生 v/三只 m/小猪 n/# x/最大 a/的 uj/小猪 n/# x/猪大哥 chr/很 zg/贪睡 v/# x/很 d/懒惰 a/# x/一天到晚 l/都 d/在 p/打瞌睡 v/# x/第二个 m/小猪 n/# x/猪二哥 chr/很 d/爱 v/吃 v/# x/也 d/很 d/懒惰 a/# x/幸好 a/最小 a/的 uj/小猪 n/# x/猪小弟 chr/是 v/个 q/勤劳 a/的 uj/好孩子 n/# x/常常 d/努力 ad/的 uj/工作 vn/# x/有 v/一天 m/# x/猪 n/妈妈 n/告诉 v/他们 r/说 v/# x/猪大哥 chr/噘 v/起 v/嘴 n/# x/懒洋洋 z/走出 v/家门 n/# x/猪大哥 chr/想一想 i/说 v/# x/稻草 n/\u001b[33m屋\u001b[0m \u001b[33mn\u001b[0m(稻草)/很快 a/的 uj/盖 v/好 a/# x/猪大哥 chr/好 a/得意 v/# x/马上 d/去 v/找 v/两个 m/弟弟 n/来 v/# x/很 d/骄傲 a/的 uj/对 n/他们 r/说 v/## x/猪二哥 chr/看见 v/说 v/# x/可是 c/猪小弟 chr/并 c/不以为然 i/# x/说 v/# x/猪二哥 chr/想 v/想 v/# x/说 v/# x/猪二哥 chr/决定 v/以后 f/# x/很 d/认真 ad/的 uj/工作 vn/# x/一会儿 m/敲敲 v/钉子 n/# x/一会儿 m/锯木 n/头 n/# x/很快 a/的 uj/# x/一栋 m/\u001b[31m木屋\u001b[0m \u001b[31mn\u001b[0m/盖 v/好 a/# x/猪二哥 chr/赶忙 d/把 p/哥哥 ns/和 c/弟弟 n/都 d/请来 v/# x/骄傲 a/的 uj/说 v/# x/猪小弟 chr/说 v/## x/猪二哥 chr/骂 v/小弟 n/说 v/# x/猪小弟 chr/不慌不忙 i/说 v/# x/猪小弟 chr/不 d/理会 n/哥哥 ns/的 uj/嘲笑 v/# x/搬 v/好 a/砖块 n/# x/又 d/搬 v/水泥 n/# x/把 p/水泥 n/和 c/好 a/# x/开始 v/堆砌 v/砖块 n/# x/一块 m/一块 m/将 d/抹 v/上 f/水泥 n/的 uj/砖头 n/堆砌 v/起来 v/# x/猪小弟 chr/心理 n/想 v/# x/你们 r/不要 df/笑 v/# x/等 u/盖 v/好 a/# x/你们 r/就 d/知道 v/# x/的 uj/房子 n/比 p/什么 r/都 d/坚固 a/# x/野狼 n/来 v/也 d/不怕 c/呢 y/# x/猪小弟 chr/继续 v/加油 v/工作 vn/# x/赶 v/呀 y/赶 d/# x/赶到 v/# x/月亮 n/挂 v/在 p/天上 s/# x/的 uj/红砖 n/\u001b[33m房子\u001b[0m \u001b[33mn\u001b[0m(红砖)/才 d/好不容易 l/盖 v/好 a/# x/猪小弟 chr/正 d/想 v/休息 v/# x/却 d/听到 v/大野狼 chr/的 uj/吼叫声 n/# x/猪小弟 chr/猛 d/吸 v/一口气 i/说 v/# x/这时 r/两个 m/猪 n/哥哥 ns/也 d/\u001b[32m听到\u001b[0m/野狼 n/的 uj/吼叫声 n/# x/怕 v/得 ud/发抖 v/# x/他们 r/怕 v/野狼 n/来 v/# x/所以 c/整夜 b/都 d/不敢 d/安心 v/睡觉 v/# x/隔天 nz/# x/猪 n/妈妈 n/要 v/三只 m/小猪 n/到 v/田里 s/工作 vn/# x/没想到 l/走 v/到 v/半路 m/的 uj/时候 n/# x/他们 r/被 p/一只 m/可怕 c/的 uj/大野狼 chr/发现 v/# x/野狼 n/一直 d/跟踪 v/他们 r/# x/野狼 n/决定 v/先 d/吃 v/猪大哥 chr/# x/猪大哥 chr/刚回到 i/家 m/# x/就 d/听到 v/大野狼 chr/的 uj/声音 n/# x/野狼 n/叫门 n/叫 v/得 ud/好凶 n/# x/猪大哥 chr/吓 v/得 ud/脸 n/都 d/白 a/# x/赶紧 d/拿 v/一把 m/大 a/锁 v/# x/把门 n/紧紧 d/锁 v/起来 v/# x/可是 c/野狼 n/哈哈大笑 l/说 v/# x/说完 v/话 n/# x/用力 n/一 m/吹 v/# x/果然 d/把 p/稻草 n/\u001b[33m屋\u001b[0m \u001b[33mn\u001b[0m(稻草)/吹倒 v/# x/猪大哥 chr/吓 v/得 ud/直 d/跑 v/到 v/猪二哥 chr/家 m/## x/大哥 n/慌慌张张 z/跑 v/进 v/猪二哥 chr/的 uj/木 n/屋子 n/# x/赶忙 d/把 p/大 n/门闩 n/\u001b[33m上\u001b[0m \u001b[33mns\u001b[0m(门闩)/# x/怕 v/野狼 n/闯进来 l/# x/可是 c/野狼 n/吼叫 v/说 v/# x/两只 m/小猪 n/怕 v/得 ud/缩 v/着 uz/身子 n/挤 v/在 p/一起 m/# x/头上 s/直 d/冒 v/冷汗 nr/# x/因为 c/野狼 n/怕 v/把门 n/打坏 v/# x/门板 n/发出 v/吱吱 o/吱 o/的 uj/断裂 v/声 n/# x/两只 m/小猪 n/眼看 v/野狼 n/就 d/要冲 v/进来 v/# x/他们 r/乱闯 v/乱撞 z/# x/结果 n/撞倒 v/木 n/屋子 n/# x/他们 r/直奔 v/到 v/猪小弟 chr/的 uj/家 n/# x/野狼 n/也 d/一直 d/在 p/身后 f/追赶 v/他们 r/# x/两只 m/小猪 n/逃 v/呀 y/逃 v/呀 y/# x/\u001b[32m逃到\u001b[0m/小弟弟 nr/的 uj/家中 s/# x/猪大哥 chr/上气不接下气 l/的 uj/说 v/# x/猪小弟 chr/却 d/一点 m/都 d/不 d/担心 v/# x/说 v/# x/很快 a/的 uj/# x/野狼 n/就 d/追来 v/# x/生气 n/的 uj/说 v/# x/野狼 n/说 v/着 uz/说 v/的 uj/开始 v/撞墙 n/# x/使出 v/全身 n/力气 n/# x/向 p/砖墙 n/猛撞 v/过去 v/## x/一声 m/# x/砖墙 n/没 d/被 p/撞倒 v/# x/野狼 n/的 uj/骨头 n/却 d/断 v/# x/野狼 n/哭哭啼啼 z/的 uj/回家 v/去 v/## x/三只 m/小猪 n/很 zg/高兴 b/的 uj/叫 v/起来 v/# x/从此 c/# x/他们 r/三个 m/兄弟 n/住在一起 v/# x/每天 r/一起 m/吃饭 v/睡觉 v/# x/也 d/一起 m/工作 vn/# x/日子 n/过 ug/得 ud/很 d/快乐 a/# x/而且 c/野狼 n/一直 d/没 d/再 d/出现 v/呢 y/# x/\n",
      "space word {'稻草屋': 2, '木屋': 1, '红砖房子': 1, '门闩上': 1}\n"
     ]
    }
   ],
   "source": [
    "tmp = pseg.cut(clean_txt)\n",
    "post_w = ['前','后','上','下','中','里','家','室','房','屋','铺','间','园','房子']\n",
    "pre_w = ['进','到','离']\n",
    "filter_w = ['了','你','我','他','她']\n",
    "seg_lst = []\n",
    "for w,f in tmp:\n",
    "    if w not in filter_w: \n",
    "        seg_lst.append([w,f])\n",
    "space_dic = {}\n",
    "for i,wf in enumerate(seg_lst):\n",
    "    printOther = True\n",
    "    w,f = wf\n",
    "    if w in time_dic:\n",
    "        continue\n",
    "    #merge '樹','上' => '樹上'\n",
    "    #if noun + '上/下/中...',add it to space_dic\n",
    "    if w in post_w:\n",
    "        if i!=0 and seg_lst[i-1][1][0].lower() == 'n':\n",
    "            print(colored(w,'yellow'),colored(f,'yellow'),end = '')\n",
    "            print('('+seg_lst[i-1][0]+')',end = '/')\n",
    "            dic_add(space_dic,seg_lst[i-1][0]+w)\n",
    "            printOther = False\n",
    "            \n",
    "    # (not work) if last char in word is in post_w and the rest chars are noun, add this word to space word\n",
    "    elif len(w)!=1 and w[-1] in post_w and f[0] == 'n':\n",
    "        if w == '大家':\n",
    "            continue\n",
    "        print(colored(w,'red'),colored(f,'red'),end = '/')\n",
    "        dic_add(space_dic,w)\n",
    "        printOther = False\n",
    "        \n",
    "    for pw in pre_w:\n",
    "        if pw in w and seg_lst[i+1][1][0]=='n':\n",
    "            print(colored(w,'green'),end = '/')\n",
    "            printOther = False\n",
    "            break\n",
    "    if printOther:\n",
    "        print(w,f,end = '/')\n",
    "        \n",
    "print()\n",
    "print('space word',space_dic)"
   ]
  },
  {
   "cell_type": "code",
   "execution_count": 12,
   "metadata": {},
   "outputs": [
    {
     "name": "stdout",
     "output_type": "stream",
     "text": [
      "add space word to dic dynamically\n"
     ]
    }
   ],
   "source": [
    "for w in space_dic:\n",
    "    jieba.add_word(w, freq=None, tag='s_new')\n",
    "print('add space word to dic dynamically')"
   ]
  },
  {
   "cell_type": "code",
   "execution_count": 13,
   "metadata": {},
   "outputs": [
    {
     "name": "stdout",
     "output_type": "stream",
     "text": [
      "{'稻草屋': 2, '木屋': 1, '天上': 1, '红砖房子': 1, '田里': 1, '门闩上': 1, '头上': 1, '家中': 1}\n"
     ]
    }
   ],
   "source": [
    "tmp = pseg.cut(clean_txt)\n",
    "seg_lst = []\n",
    "loc_dic = {}\n",
    "for w,f in tmp:\n",
    "    if w not in filter_w: \n",
    "        seg_lst.append([w,f])\n",
    "\n",
    "for i,wf in enumerate(seg_lst):\n",
    "    w,f = wf\n",
    "    if f =='s' or f =='s_new':\n",
    "        dic_add(loc_dic,w)\n",
    "print(loc_dic)"
   ]
  },
  {
   "cell_type": "code",
   "execution_count": 14,
   "metadata": {},
   "outputs": [
    {
     "name": "stderr",
     "output_type": "stream",
     "text": [
      "C:\\Users\\a1989\\Anaconda3\\lib\\site-packages\\gensim\\utils.py:1212: UserWarning: detected Windows; aliasing chunkize to chunkize_serial\n",
      "  warnings.warn(\"detected Windows; aliasing chunkize to chunkize_serial\")\n"
     ]
    },
    {
     "name": "stdout",
     "output_type": "stream",
     "text": [
      "load gensim dic(3.5GB), this might take a while...\n"
     ]
    },
    {
     "name": "stderr",
     "output_type": "stream",
     "text": [
      "C:\\Users\\a1989\\Anaconda3\\lib\\site-packages\\gensim\\matutils.py:737: FutureWarning: Conversion of the second argument of issubdtype from `int` to `np.signedinteger` is deprecated. In future, it will be treated as `np.int32 == np.dtype(int).type`.\n",
      "  if np.issubdtype(vec.dtype, np.int):\n"
     ]
    },
    {
     "data": {
      "text/plain": [
       "0.6375303"
      ]
     },
     "execution_count": 14,
     "metadata": {},
     "output_type": "execute_result"
    }
   ],
   "source": [
    "import gensim\n",
    "print('load gensim dic(3.5GB), this might take a while...')\n",
    "model = gensim.models.KeyedVectors.load_word2vec_format('GoogleNews-vectors-negative300.bin',binary=True)\n",
    "model.similarity('france', 'spain')"
   ]
  },
  {
   "cell_type": "markdown",
   "metadata": {},
   "source": [
    "# Extract nouns"
   ]
  },
  {
   "cell_type": "code",
   "execution_count": 18,
   "metadata": {},
   "outputs": [
    {
     "name": "stdout",
     "output_type": "stream",
     "text": [
      "predefine character found {'猪大哥': 9, '猪二哥': 8, '猪小弟': 11, '大野狼': 3}\n"
     ]
    }
   ],
   "source": [
    "# tmp = pseg.cut(clean_txt)\n",
    "# for w,f in tmp:\n",
    "#     if w not in filter_w: \n",
    "#         seg_lst.append([w,f])\n",
    "\n",
    "w_dic = {}\n",
    "PER_dic = {}\n",
    "for i,wf in enumerate(seg_lst):\n",
    "    w,f = wf\n",
    "    if f == 'chr':\n",
    "        dic_add(PER_dic,w)\n",
    "        \n",
    "    if f[0].lower() == 'n':\n",
    "        if w not in w_dic:\n",
    "            w_dic[w] = 0\n",
    "        w_dic[w]+=1\n",
    "print('predefine character found',PER_dic)    "
   ]
  },
  {
   "cell_type": "markdown",
   "metadata": {},
   "source": [
    "# remove adj : elder brother -> brother "
   ]
  },
  {
   "cell_type": "code",
   "execution_count": 19,
   "metadata": {},
   "outputs": [
    {
     "name": "stdout",
     "output_type": "stream",
     "text": [
      "['pig', 'mom', 'piggy', 'good boy', 'mouth', 'home door', 'little brother', 'correct', 'nail', 'sawmilling', 'head', 'brother', 'younger brother', 'council', 'brick', 'cement', 'brick', 'psychological', 'house', 'wild wolf', 'moon', 'scream', 'the next day', 'time', 'sound', 'call the door', 'sophisticated', 'face', 'put the door', 'words', 'force', 'big brother', 'wood', 'house', 'big', 'body', 'cold sweat', 'door panel', 'sound', 'result', 'family', 'little brother', 'pissed off', 'hit the wall', 'whole body', 'strength', 'brick wall', 'bone', 'brothers', 'day']\n",
      "['pig', 'mom', 'piggy', 'boy', 'mouth', 'door', 'brother', 'correct', 'nail', 'sawmilling', 'head', 'brother', 'brother', 'council', 'brick', 'cement', 'brick', 'psychological', 'house', 'wolf', 'moon', 'scream', 'day', 'time', 'sound', 'door', 'sophisticated', 'face', 'door', 'words', 'force', 'brother', 'wood', 'house', 'big', 'body', 'sweat', 'panel', 'sound', 'result', 'family', 'brother', 'off', 'wall', 'body', 'strength', 'wall', 'bone', 'brothers', 'day']\n"
     ]
    }
   ],
   "source": [
    "en_lst = zh2en(w_dic)\n",
    "en_lst = [t.lower() for t in en_lst]\n",
    "en_lst_simp = [t.split(' ')[-1] for t in en_lst]\n",
    "\n",
    "print(en_lst)\n",
    "print(en_lst_simp)\n"
   ]
  },
  {
   "cell_type": "code",
   "execution_count": 20,
   "metadata": {
    "scrolled": true
   },
   "outputs": [
    {
     "name": "stdout",
     "output_type": "stream",
     "text": [
      "0 pig 0.2149732\n",
      "1 mom 0.24352488\n",
      "3 boy 0.682487\n",
      "6 brother 0.37233472\n",
      "11 brother 0.37233472\n",
      "12 brother 0.37233472\n",
      "31 brother 0.37233472\n",
      "35 body 0.27859288\n",
      "40 family 0.21223688\n",
      "41 brother 0.37233472\n",
      "44 body 0.27859288\n",
      "48 brothers 0.2990312\n"
     ]
    },
    {
     "name": "stderr",
     "output_type": "stream",
     "text": [
      "C:\\Users\\a1989\\Anaconda3\\lib\\site-packages\\gensim\\matutils.py:737: FutureWarning: Conversion of the second argument of issubdtype from `int` to `np.signedinteger` is deprecated. In future, it will be treated as `np.int32 == np.dtype(int).type`.\n",
      "  if np.issubdtype(vec.dtype, np.int):\n"
     ]
    }
   ],
   "source": [
    "idx = []\n",
    "for i,t in enumerate(en_lst_simp):\n",
    "    \n",
    "    try:\n",
    "        s = model.similarity(t, 'man')\n",
    "        if s>0.2:\n",
    "            print(i,t,s)\n",
    "            idx.append(i)\n",
    "    except:\n",
    "        print(t,'x')\n",
    "PER_lst = []\n",
    "tmp = dic2lst(w_dic)\n",
    "for i in idx:\n",
    "    PER_lst.append(tmp[i])\n"
   ]
  },
  {
   "cell_type": "markdown",
   "metadata": {},
   "source": [
    "# Problem with calculating the similarity with \"man\"\n",
    "    >not all characters are human, ex: 大野狼\n",
    "    \n",
    "# Problem with searching the character before dialogue:\n",
    "    >too much possibility\n",
    "    1.狼說:XXX\n",
    "    2.狼對豬說:XXX\n",
    "    3.「咿咿．．．．．好討厭哦！」豬大哥想一想說 (character is mentioned later)\n",
    "    4.野狼就追來了。他生氣的說：「XXX (代名詞)\n",
    "    5.「啪啦！」 (狀聲詞非對話)\n",
    "    6.多重稱呼: 大野狼,野狼,狼"
   ]
  },
  {
   "cell_type": "code",
   "execution_count": 22,
   "metadata": {},
   "outputs": [
    {
     "name": "stdout",
     "output_type": "stream",
     "text": [
      "1 mom 0.4515258\n",
      "3 boy 0.9161543\n",
      "6 brother 0.53470296\n",
      "11 brother 0.53470296\n",
      "12 brother 0.53470296\n",
      "31 brother 0.53470296\n",
      "40 family 0.48086303\n",
      "41 brother 0.53470296\n",
      "48 brothers 0.49464488\n",
      "{'猪大哥': 9, '猪二哥': 8, '猪小弟': 11, '大野狼': 3, '妈妈': 1, '好孩子': 1, '弟弟': 1, '哥哥': 1, '小弟': 1, '大哥': 1, '家': 1, '小弟弟': 1, '兄弟': 1}\n"
     ]
    },
    {
     "name": "stderr",
     "output_type": "stream",
     "text": [
      "C:\\Users\\a1989\\Anaconda3\\lib\\site-packages\\gensim\\matutils.py:737: FutureWarning: Conversion of the second argument of issubdtype from `int` to `np.signedinteger` is deprecated. In future, it will be treated as `np.int32 == np.dtype(int).type`.\n",
      "  if np.issubdtype(vec.dtype, np.int):\n"
     ]
    }
   ],
   "source": [
    "idx = []\n",
    "for i,t in enumerate(en_lst_simp):\n",
    "    try:\n",
    "        s1 = model.similarity(t, 'man')\n",
    "        s2 = model.similarity(t, 'people')\n",
    "        \n",
    "        if s1+s2>0.4:\n",
    "            print(i,t,s1+s2)\n",
    "            idx.append(i)\n",
    "    except:pass\n",
    "\n",
    "tmp = dic2lst(w_dic)\n",
    "for i in idx:\n",
    "    dic_add(PER_dic,tmp[i])\n",
    "\n",
    "print(PER_dic)"
   ]
  },
  {
   "cell_type": "code",
   "execution_count": 23,
   "metadata": {},
   "outputs": [],
   "source": [
    "import pickle\n",
    "f = open(\"time_dic.pkl\",\"wb\")\n",
    "pickle.dump(time_dic,f)\n",
    "f.close()\n",
    "f = open(\"space_dic.pkl\",\"wb\")\n",
    "pickle.dump(space_dic,f)\n",
    "f.close()\n",
    "f = open(\"PER_dic.pkl\",\"wb\")\n",
    "pickle.dump(PER_dic,f)\n",
    "f.close()\n"
   ]
  },
  {
   "cell_type": "code",
   "execution_count": 158,
   "metadata": {},
   "outputs": [
    {
     "name": "stdout",
     "output_type": "stream",
     "text": [
      "{'嘴': 1, '对': 1, '头': 1, '大': 2, '脸': 1, '话': 1, '木': 2, '上': 1, '声': 1}\n"
     ]
    }
   ],
   "source": [
    "OBJ_dic = {}\n",
    "for i,wf in enumerate(seg_lst):\n",
    "    w,f = wf\n",
    "    if f[0] == 'n':\n",
    "        if (w not in LOC_lst) and (w not in PER_lst):\n",
    "            if w not in OBJ_dic:\n",
    "                OBJ_dic[w] =0 \n",
    "            OBJ_dic[w] +=1\n",
    "print(OBJ_dic)"
   ]
  }
 ],
 "metadata": {
  "kernelspec": {
   "display_name": "Python 3",
   "language": "python",
   "name": "python3"
  },
  "language_info": {
   "codemirror_mode": {
    "name": "ipython",
    "version": 3
   },
   "file_extension": ".py",
   "mimetype": "text/x-python",
   "name": "python",
   "nbconvert_exporter": "python",
   "pygments_lexer": "ipython3",
   "version": "3.6.5"
  }
 },
 "nbformat": 4,
 "nbformat_minor": 2
}
