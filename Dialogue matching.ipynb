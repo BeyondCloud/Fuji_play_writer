{
 "cells": [
  {
   "cell_type": "code",
   "execution_count": 1,
   "metadata": {},
   "outputs": [],
   "source": [
    "import http.client\n",
    "import hashlib\n",
    "import json\n",
    "import urllib\n",
    "import random\n",
    "import time\n",
    "from langconv import *\n",
    "\n",
    "def dic2str(N_dic,token = '/'):\n",
    "    lst = []\n",
    "    for key, value in N_dic.items():\n",
    "        lst.append(key)\n",
    "    return token.join(lst)\n",
    "def dic2lst(N_dic):\n",
    "    lst = []\n",
    "    for key, value in N_dic.items():\n",
    "        lst.append(key)\n",
    "    return lst\n",
    "def zh2en(content,token = ' / '):\n",
    "    \n",
    "    if isinstance(content, str):\n",
    "        return translator.translate(content, dest='en').text\n",
    "    elif isinstance(content, dict):\n",
    "        txt = dic2lst(content)\n",
    "        lst_out = []\n",
    "        for t in txt:\n",
    "            lst_out.append(translator.translate(t, dest='en').text)  \n",
    "        return lst_out\n",
    "    else:\n",
    "        print('data type not support!')\n",
    "        \n",
    "def en2zh(content):\n",
    "    return translator.translate('cow', dest='zh-tw').text\n",
    "\n",
    "def toSimplified(s):\n",
    "    return Converter('zh-hans').convert(s)\n",
    "def toTraditional(s):\n",
    "    return Converter('zh-hant').convert(s)\n",
    "\n",
    "# print(t1)\n",
    "# print(t2)"
   ]
  },
  {
   "cell_type": "code",
   "execution_count": 2,
   "metadata": {},
   "outputs": [
    {
     "name": "stdout",
     "output_type": "stream",
     "text": [
      "27 dialogues found\n"
     ]
    }
   ],
   "source": [
    "def rm_dialogues(s,token1 = '“',token2 = '”'):\n",
    "    lst1 = [pos for pos, char in enumerate(s) if char == token1]\n",
    "    lst2 = [pos for pos, char in enumerate(s) if char == token2]\n",
    "    print(str(len(lst1))+' dialogues found')\n",
    "    if(len(lst1) != len(lst1)):\n",
    "        print('dialogue error: not equal “ ” Apostrophe count')\n",
    "        return\n",
    "    for i in range(len(lst1)):\n",
    "        s = s[0: lst1[i]:] + '#'*(lst2[i]-lst1[i]+1)+ s[lst2[i] + 1::]\n",
    "    return s,lst1,lst2\n",
    "\n",
    "f = open('./raw/三隻小豬.txt','r', encoding = 'utf8')\n",
    "txt = toSimplified(f.read())\n",
    "txt_nd,lst1,lst2 = rm_dialogues(txt,\"「\",\"」\")\n"
   ]
  },
  {
   "cell_type": "code",
   "execution_count": 3,
   "metadata": {},
   "outputs": [
    {
     "name": "stdout",
     "output_type": "stream",
     "text": [
      "从前#有一只胖胖的猪妈妈#她生了三只小猪#最大的小猪#猪大哥很贪睡#很懒惰#一天到晚都在打瞌睡#第二个小猪#猪二哥很爱吃#他也很懒惰#幸好最小的小猪#猪小弟是个勤劳的好孩子#常常努力的工作#有一天#猪妈妈告诉他们说#猪大哥噘起嘴#懒洋洋走出家门#猪大哥想一想说#稻草屋很快的盖好了#猪大哥好得意#他马上去找两个弟弟来#很骄傲的对他们说#猪二哥看见说#可是猪小弟并不以为然#他说#猪二哥想了想#说#猪二哥决定以后#他很认真的工作#一会儿敲敲钉子#一会儿锯木头#很快的#一栋木屋盖好了#猪二哥赶忙把哥哥和弟弟都请来#骄傲的说#猪小弟说##猪二哥骂小弟说#猪小弟不慌不忙说#猪小弟不理会哥哥的嘲笑#他搬好了砖块#又搬水泥#他把水泥和好了#开始堆砌砖块#一块一块将抹上水泥的砖头堆砌起来#猪小弟心理想#你们不要笑我#等我盖好了#你们就知道了#我的房子比什么都坚固#野狼来了我也不怕呢#猪小弟继续加油工作#他赶呀赶#赶到天黑#月亮挂在天上了#他的红砖房子才好不容易盖好了#猪小弟正想休息#却听到了大野狼的吼叫声#猪小弟猛吸一口气说#这时两个猪哥哥也听到了野狼的吼叫声#怕得发抖#他们怕野狼来#所以整夜都不敢安心睡觉#隔天#猪妈妈要三只小猪到田里工作#没想到走到半路的时候#他们被一只可怕的大野狼发现了#野狼一直跟踪他们#野狼决定先吃猪大哥#猪大哥刚回到家#就听到大野狼的声音#野狼叫门叫得好凶#猪大哥吓得脸都白了#他赶紧拿一把大锁#把门紧紧锁了起来#可是野狼哈哈大笑说#他说完话#用力一吹#果然把稻草屋吹倒了#猪大哥吓得直跑到猪二哥家##大哥慌慌张张跑进猪二哥的木屋子#赶忙把大门闩上#怕野狼闯进来#可是野狼吼叫说#两只小猪怕得缩着身子挤在一起#头上直冒冷汗#因为野狼怕把门打坏了#门板发出吱吱吱的断裂声#两只小猪眼看野狼就要冲进来了#他们乱闯乱撞#结果撞倒了木屋子#他们直奔到猪小弟的家#野狼也一直在身后追赶他们#两只小猪逃呀逃呀#逃到小弟弟的家中#猪大哥上气不接下气的说#猪小弟却一点都不担心#他说#很快的#野狼就追来了#他生气的说#野狼说着说的开始撞墙了#他使出全身力气#向砖墙猛撞过去##一声#砖墙没被撞倒#野狼的骨头却断了#野狼哭哭啼啼的回家去了##三只小猪很高兴的叫起来#从此#他们三个兄弟住在一起#每天一起吃饭睡觉#也一起工作#日子过得很快乐#而且野狼一直没再出现呢#\n"
     ]
    }
   ],
   "source": [
    "import re\n",
    "import zhon\n",
    "from zhon.hanzi import punctuation\n",
    "\n",
    "\n",
    "punc = \"\"\"！？｡。＂＃#＄％＆＇（）＊＋－／：；，＜＝\"＞＠［＼］＾＿｀｛｜｝～｟｠｢｣､、〃》「」『』【】 〔〕〖〗〘〙〚〛〜〝〞〟〰–—''‛“”„‟…‧﹏\"\"\"\n",
    "re_punc = \"[{}]+\".format(punc)\n",
    "clean_txt = re.sub(re_punc, \"#\", txt_nd)\n",
    "clean_txt = re.sub(\"\\n\", \"\", clean_txt)\n",
    "# clean_txt = toSimplified(clean_txt)\n",
    "print(clean_txt)"
   ]
  },
  {
   "cell_type": "code",
   "execution_count": 4,
   "metadata": {},
   "outputs": [],
   "source": [
    "\n",
    "# for line in txt:\n",
    "#     print(line)\n",
    "tmp = txt.split('\\n')\n",
    "txt_split = []\n",
    "for t in tmp:\n",
    "    if len(t) >= 2:\n",
    "        txt_split.append(t)\n"
   ]
  },
  {
   "cell_type": "code",
   "execution_count": 5,
   "metadata": {},
   "outputs": [
    {
     "data": {
      "text/plain": [
       "[4, 9]"
      ]
     },
     "execution_count": 5,
     "metadata": {},
     "output_type": "execute_result"
    }
   ],
   "source": [
    "s = 'shak#spea#e'\n",
    "c = '#'\n",
    "def find_ch_idx(txt,token):\n",
    "     return [pos for pos, char in enumerate(txt) if char == token]\n",
    "find_ch_idx(s,c)"
   ]
  },
  {
   "cell_type": "code",
   "execution_count": 8,
   "metadata": {},
   "outputs": [
    {
     "name": "stdout",
     "output_type": "stream",
     "text": [
      "['猪大哥', '猪二哥', '猪小弟', '大野狼', '妈妈', '好孩子', '弟弟', '哥哥', '小弟', '大哥', '家', '小弟弟', '兄弟', '小猪', '野狼']\n"
     ]
    }
   ],
   "source": [
    "import pickle\n",
    "with open('PER_dic.pkl', 'rb') as handle:\n",
    "    PER_dic = pickle.load(handle)\n",
    "per = dic2lst(PER_dic)\n",
    "print(per)"
   ]
  },
  {
   "cell_type": "code",
   "execution_count": 7,
   "metadata": {},
   "outputs": [],
   "source": [
    "per = ['小红帽','小姑娘', '奶奶', '大家', '妈妈', '坏人', '猎人','狼','大野狼']\n",
    "# for i in range(len(per)):\n",
    "#     per[i] = toTraditional(per[i])"
   ]
  },
  {
   "cell_type": "code",
   "execution_count": 9,
   "metadata": {},
   "outputs": [
    {
     "data": {
      "text/plain": [
       "{'猪大哥': '猪大哥',\n",
       " '猪二哥': '猪二哥',\n",
       " '猪小弟': '猪小弟',\n",
       " '大野狼': '大野狼',\n",
       " '妈妈': '妈妈',\n",
       " '好孩子': '好孩子',\n",
       " '弟弟': '小弟弟',\n",
       " '哥哥': '哥哥',\n",
       " '小弟': '小弟弟',\n",
       " '大哥': '猪大哥',\n",
       " '家': '家',\n",
       " '小弟弟': '小弟弟',\n",
       " '兄弟': '兄弟',\n",
       " '小猪': '小猪',\n",
       " '野狼': '大野狼'}"
      ]
     },
     "execution_count": 9,
     "metadata": {},
     "output_type": "execute_result"
    }
   ],
   "source": [
    "map_per = {}\n",
    "for key in per:\n",
    "    map_per[key]=key\n",
    "    for mapto in per:\n",
    "        if key in mapto and len(key) < len(mapto):\n",
    "            map_per[key] = mapto\n",
    "map_per"
   ]
  },
  {
   "cell_type": "code",
   "execution_count": 50,
   "metadata": {},
   "outputs": [],
   "source": [
    "# per = ['豬大哥','大哥','豬二哥','豬小弟','豬媽媽','大野狼','野狼']"
   ]
  },
  {
   "cell_type": "code",
   "execution_count": 10,
   "metadata": {},
   "outputs": [
    {
     "data": {
      "text/plain": [
       "[8, 14]"
      ]
     },
     "execution_count": 10,
     "metadata": {},
     "output_type": "execute_result"
    }
   ],
   "source": [
    "import re\n",
    "s = 'This is laugh laugh'\n",
    "c = 'laugh'\n",
    "def find_all_substr_idx(s,c):\n",
    "    return [m.start() for m in re.finditer(c, s)]\n",
    "find_all_substr_idx(s,c)"
   ]
  },
  {
   "cell_type": "code",
   "execution_count": 11,
   "metadata": {},
   "outputs": [],
   "source": [
    "line_with_dialog = []\n",
    "for line in txt_split:\n",
    "    if '「' in line:\n",
    "        line_with_dialog.append(line)"
   ]
  },
  {
   "cell_type": "code",
   "execution_count": 12,
   "metadata": {},
   "outputs": [
    {
     "data": {
      "text/plain": [
       "['a', 'c', 'b']"
      ]
     },
     "execution_count": 12,
     "metadata": {},
     "output_type": "execute_result"
    }
   ],
   "source": [
    "import numpy as np\n",
    "# sort key according to value (increase order)\n",
    "def dic_Vsort(dic):\n",
    "    lst_k =[]\n",
    "    lst_v =[]\n",
    "    lst_out = []\n",
    "    for key, value in dic.items():\n",
    "        lst_k.append(key)\n",
    "        lst_v.append(value)\n",
    "    idx = np.argsort(lst_v)\n",
    "\n",
    "    for i in range(len(idx)):\n",
    "        lst_out.append(lst_k[idx[i]])\n",
    "    return lst_out\n",
    "test = {'a':1,'b':3,'c':2}\n",
    "dic_Vsort(test)\n"
   ]
  },
  {
   "cell_type": "markdown",
   "metadata": {},
   "source": [
    "# This method will match the nearest word in person list\n",
    "# case 1 XXXXX:「  ===> match XXXXX\n",
    "# case 2 「」 YYYYY ===>match YYYYY\n",
    "# if no match, print previous matched"
   ]
  },
  {
   "cell_type": "code",
   "execution_count": 22,
   "metadata": {},
   "outputs": [
    {
     "name": "stdout",
     "output_type": "stream",
     "text": [
      "有一天，猪妈妈告诉他们说：「你们都长大了，应该自己盖房子，自己住，自己种田，自己生活。我要你们自己照顾自己。」\n",
      "「你们都长大了，应该自己盖房子，自己住，自己种田，自己生活。我要你们自己照顾自己。」\n",
      "> 妈妈\n",
      "=============\n",
      "猪大哥噘起嘴，懒洋洋走出家门。「咿咿．．．．．好讨厌哦！」猪大哥想一想说：「盖一栋稻草屋吧，那最简单了。」\n",
      "「咿咿．．．．．好讨厌哦！」\n",
      "> 猪大哥\n",
      "「盖一栋稻草屋吧，那最简单了。」\n",
      "> 猪大哥\n",
      "=============\n",
      "稻草屋很快的盖好了，猪大哥好得意，他马上去找两个弟弟来，很骄傲的对他们说：「我的房子盖好了，很漂亮吧～，你们也快一点盖吧！」\n",
      "「我的房子盖好了，很漂亮吧～，你们也快一点盖吧！」\n",
      "> 小弟弟\n",
      "=============\n",
      "猪二哥看见说：「哇，果然很漂亮，大哥，你真了不起啊！」\n",
      "「哇，果然很漂亮，大哥，你真了不起啊！」\n",
      "> 猪二哥\n",
      "=============\n",
      "可是猪小弟并不以为然，他说：「哥，你不担心稻草屋会被风吹倒吗？」\n",
      "「哥，你不担心稻草屋会被风吹倒吗？」\n",
      "> 小弟弟\n",
      "=============\n",
      "猪二哥想了想，说：「稻草屋会被风吹倒，那我就用木头来盖好了，木屋较重，不怕风吹。」\n",
      "「稻草屋会被风吹倒，那我就用木头来盖好了，木屋较重，不怕风吹。」\n",
      "> 猪二哥\n",
      "=============\n",
      "猪二哥决定以后，「咚咚咚，咚咚咚！」他很认真的工作，一会儿敲敲钉子，一会儿锯木头。很快的，一栋木屋盖好了。\n",
      "「咚咚咚，咚咚咚！」\n",
      ">None\n",
      "=============\n",
      "猪二哥赶忙把哥哥和弟弟都请来，骄傲的说：「你们看，这么漂亮的房子！而且钉得很牢固，不会被风吹倒，我真的好棒呀！」\n",
      "「你们看，这么漂亮的房子！而且钉得很牢固，不会被风吹倒，我真的好棒呀！」\n",
      "> 小弟弟\n",
      "=============\n",
      "猪小弟说：「木屋虽然不会被风吹倒，可是用力打，木头会被打断，房子就垮了。」\n",
      "「木屋虽然不会被风吹倒，可是用力打，木头会被打断，房子就垮了。」\n",
      "> 小弟弟\n",
      "=============\n",
      "「讨厌！」猪二哥骂小弟说：「你以为你最聪明？看你搬砖头搬一整天了，房子还没盖出来。笨蛋～～」\n",
      "「讨厌！」\n",
      "> 猪二哥\n",
      "「你以为你最聪明？看你搬砖头搬一整天了，房子还没盖出来。笨蛋～～」\n",
      "> 小弟弟\n",
      "=============\n",
      "猪小弟不慌不忙说：「我盖房子虽然比你们慢，但是我要盖的房子不怕风吹，也不怕敲打，红砖房子最牢固了。」\n",
      "「我盖房子虽然比你们慢，但是我要盖的房子不怕风吹，也不怕敲打，红砖房子最牢固了。」\n",
      "> 小弟弟\n",
      "=============\n",
      "猪小弟猛吸一口气说：「幸好房子盖好了，我不怕大野狼。」\n",
      "「幸好房子盖好了，我不怕大野狼。」\n",
      "> 小弟弟\n",
      "=============\n",
      "猪大哥刚回到家，就听到大野狼的声音：「砰砰砰！小猪朋友，快给我开门！」野狼叫门叫得好凶。猪大哥吓得脸都白了，他赶紧拿一把大锁，把门紧紧锁了起来。可是野狼哈哈大笑说：「你这个大笨蛋，这种稻草屋，我吹一口气就倒了。」他说完话，用力一吹，果然把稻草屋吹倒了，猪大哥吓得直跑到猪二哥家。\n",
      "「砰砰砰！小猪朋友，快给我开门！」\n",
      "> 大野狼\n",
      "「你这个大笨蛋，这种稻草屋，我吹一口气就倒了。」\n",
      "> 大野狼\n",
      "=============\n",
      "「救命呀！」大哥慌慌张张跑进猪二哥的木屋子，赶忙把大门闩上，怕野狼闯进来。可是野狼吼叫说：「木头屋子一样挡不住我，我一定要把你吃掉！」\n",
      "「救命呀！」\n",
      "> 猪大哥\n",
      "「木头屋子一样挡不住我，我一定要把你吃掉！」\n",
      "> 大野狼\n",
      "=============\n",
      "两只小猪怕得缩着身子挤在一起，头上直冒冷汗。因为野狼怕把门打坏了，「砰～～」，门板发出吱吱吱的断裂声，两只小猪眼看野狼就要冲进来了，他们乱闯乱撞，结果撞倒了木屋子，他们直奔到猪小弟的家。野狼也一直在身后追赶他们。\n",
      "「砰～～」\n",
      "> 小猪\n",
      "=============\n",
      "两只小猪逃呀逃呀，逃到小弟弟的家中。「弟弟，弟弟，小．．．．弟弟，野狼在我们．．身．．．后．．．」猪大哥上气不接下气的说：「快把门锁紧，不然我们会被吃掉的。」猪小弟却一点都不担心，他说：「怕什么？这么坚固的砖屋，野狼进不来的。」\n",
      "「弟弟，弟弟，小．．．．弟弟，野狼在我们．．身．．．后．．．」\n",
      "> 猪大哥\n",
      "「快把门锁紧，不然我们会被吃掉的。」\n",
      "> 猪大哥\n",
      "「怕什么？这么坚固的砖屋，野狼进不来的。」\n",
      "> 小弟弟\n",
      "=============\n",
      "很快的，野狼就追来了。他生气的说：「死小猪，看我把你们的房子撞倒，你们就要被我吃掉了。」野狼说着说的开始撞墙了。「呀！～～」他使出全身力气，向砖墙猛撞过去！\n",
      "「死小猪，看我把你们的房子撞倒，你们就要被我吃掉了。」\n",
      "> 大野狼\n",
      "「呀！～～」\n",
      ">None\n",
      "=============\n",
      "「啪啦！」一声，砖墙没被撞倒，野狼的骨头却断了，「哎唷，痛死我了，痛死我了！」野狼哭哭啼啼的回家去了。\n",
      "「啪啦！」\n",
      "> 大野狼\n",
      "「哎唷，痛死我了，痛死我了！」\n",
      "> 大野狼\n",
      "=============\n",
      "「万岁！」三只小猪很高兴的叫起来。从此，他们三个兄弟住在一起，每天一起吃饭睡觉，也一起工作，日子过得很快乐，而且野狼一直没再出现呢！\n",
      "「万岁！」\n",
      "> 小猪\n",
      "=============\n"
     ]
    }
   ],
   "source": [
    "candid = None\n",
    "    \n",
    "candid_hist = []\n",
    "dia_hist = []\n",
    "for line in line_with_dialog:\n",
    "    print(line)\n",
    "    \n",
    "    heads = find_ch_idx(line,'「')\n",
    "    N_dialog = len(heads)\n",
    "    tails = find_ch_idx(line,'」')\n",
    "    \n",
    "    if heads[0]==0 and tails[0]==(len(line)-1):\n",
    "        candid = candid_hist[-2]\n",
    "        candid_hist.append(candid)\n",
    "        print('>',map_per[candid]) \n",
    "        continue\n",
    "        \n",
    "    heads = heads + [len(line)]\n",
    "    tails = [0]+tails\n",
    "    \n",
    "    \n",
    "    for i in range(N_dialog):\n",
    "        #search before the dialogue (XXXXX:「)\n",
    "        print(line[heads[i]:tails[i+1]+1])\n",
    "        dia_hist.append(line[heads[i]:tails[i+1]+1])\n",
    "        candid_dic = {}\n",
    "        \n",
    "        if heads[i] !=0 and line[heads[i]-1] == '：':\n",
    "            is_before = True\n",
    "            s = line[tails[i]:heads[i]]\n",
    "            candid_pos = 0\n",
    "\n",
    "            for p in per:\n",
    "                idx = find_all_substr_idx(s,p)\n",
    "                if len(idx) != 0:        \n",
    "                    candid_dic[p] = idx[-1]\n",
    "                    \n",
    "        #search after the dialogue\n",
    "        else:\n",
    "            is_before = False\n",
    "            s = line[tails[i+1]:heads[i+1]]\n",
    "            candid_pos = 1000\n",
    "            for p in per:\n",
    "                idx = find_all_substr_idx(s,p)\n",
    "                if len(idx) != 0:\n",
    "                    candid_dic[p] = idx[-1]\n",
    "                    \n",
    "        candid_lst = dic_Vsort(candid_dic)\n",
    "        if len(candid_lst) != 0:\n",
    "                \n",
    "            if is_before:\n",
    "                candid = candid_lst[-1]\n",
    "                if s[candid_dic[candid]-1] == '对' and len(candid_lst)>1:\n",
    "                     candid = candid_lst[-2]\n",
    "                \n",
    "            else:\n",
    "                candid = candid_lst[0]\n",
    "            \n",
    "        else:\n",
    "            print('>None')\n",
    "            candid_hist.append('None')\n",
    "            continue\n",
    "        \n",
    "\n",
    "        print('>',map_per[candid])    \n",
    "#         print(candid_lst)\n",
    "        \n",
    "        candid_hist.append(candid)\n",
    "\n",
    "    \n",
    "    print('=============')"
   ]
  },
  {
   "cell_type": "code",
   "execution_count": 23,
   "metadata": {},
   "outputs": [
    {
     "name": "stdout",
     "output_type": "stream",
     "text": [
      "27\n",
      "['妈妈', '猪大哥', '大哥', '弟弟', '猪二哥', '小弟', '猪二哥', 'None', '弟弟', '小弟', '猪二哥', '小弟', '小弟', '小弟', '野狼', '野狼', '大哥', '野狼', '小猪', '猪大哥', '大哥', '小弟', '野狼', 'None', '野狼', '野狼', '小猪']\n"
     ]
    }
   ],
   "source": [
    "\n",
    "print(len(candid_hist))\n",
    "print(candid_hist)\n",
    "with open(\"dia_lst.pkl\",\"wb\") as f:\n",
    "    pickle.dump(candid_hist,f)\n",
    "with open(\"dia_hist.pkl\",\"wb\") as f:\n",
    "    pickle.dump(dia_hist,f)\n"
   ]
  },
  {
   "cell_type": "markdown",
   "metadata": {},
   "source": [
    "# Precision: 26/27\n",
    "# recall: 27/27"
   ]
  }
 ],
 "metadata": {
  "kernelspec": {
   "display_name": "Python 3",
   "language": "python",
   "name": "python3"
  },
  "language_info": {
   "codemirror_mode": {
    "name": "ipython",
    "version": 3
   },
   "file_extension": ".py",
   "mimetype": "text/x-python",
   "name": "python",
   "nbconvert_exporter": "python",
   "pygments_lexer": "ipython3",
   "version": "3.6.5"
  }
 },
 "nbformat": 4,
 "nbformat_minor": 2
}
